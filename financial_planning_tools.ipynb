{
 "cells": [
  {
   "cell_type": "markdown",
   "metadata": {},
   "source": [
    "# Financial Planning with APIs and Simulations\n",
    "\n",
    "In this Challenge, you’ll create two financial analysis tools by using a single Jupyter notebook:\n",
    "\n",
    "Part 1: A financial planner for emergencies. The members will be able to use this tool to visualize their current savings. The members can then determine if they have enough reserves for an emergency fund.\n",
    "\n",
    "Part 2: A financial planner for retirement. This tool will forecast the performance of their retirement portfolio in 30 years. To do this, the tool will make an Alpaca API call via the Alpaca SDK to get historical price data for use in Monte Carlo simulations.\n",
    "\n",
    "You’ll use the information from the Monte Carlo simulation to answer questions about the portfolio in your Jupyter notebook.\n",
    "\n"
   ]
  },
  {
   "cell_type": "code",
   "execution_count": 17,
   "metadata": {},
   "outputs": [],
   "source": [
    "# Import the required libraries and dependencies\n",
    "import os\n",
    "import requests\n",
    "import json\n",
    "import pandas as pd\n",
    "from dotenv import load_dotenv\n",
    "import alpaca_trade_api as tradeapi\n",
    "from MCForecastTools import MCSimulation\n",
    "import datetime\n",
    "\n",
    "%matplotlib inline"
   ]
  },
  {
   "cell_type": "code",
   "execution_count": 18,
   "metadata": {},
   "outputs": [
    {
     "data": {
      "text/plain": [
       "True"
      ]
     },
     "execution_count": 18,
     "metadata": {},
     "output_type": "execute_result"
    }
   ],
   "source": [
    "# Load the environment variables from the .env file\n",
    "#by calling the load_dotenv function\n",
    "load_dotenv()"
   ]
  },
  {
   "cell_type": "markdown",
   "metadata": {},
   "source": [
    "## Part 1: Create a Financial Planner for Emergencies"
   ]
  },
  {
   "cell_type": "markdown",
   "metadata": {},
   "source": [
    "### Evaluate the Cryptocurrency Wallet by Using the Requests Library\n",
    "\n",
    "In this section, you’ll determine the current value of a member’s cryptocurrency wallet. You’ll collect the current prices for the Bitcoin and Ethereum cryptocurrencies by using the Python Requests library. For the prototype, you’ll assume that the member holds the 1.2 Bitcoins (BTC) and 5.3 Ethereum coins (ETH). To do all this, complete the following steps:\n",
    "\n",
    "1. Create a variable named `monthly_income`, and set its value to `12000`.\n",
    "\n",
    "2. Use the Requests library to get the current price (in US dollars) of Bitcoin (BTC) and Ethereum (ETH) by using the API endpoints that the starter code supplies.\n",
    "\n",
    "3. Navigate the JSON response object to access the current price of each coin, and store each in a variable.\n",
    "\n",
    "    > **Hint** Note the specific identifier for each cryptocurrency in the API JSON response. The Bitcoin identifier is `1`, and the Ethereum identifier is `1027`.\n",
    "\n",
    "4. Calculate the value, in US dollars, of the current amount of each cryptocurrency and of the entire cryptocurrency wallet.\n",
    "\n"
   ]
  },
  {
   "cell_type": "code",
   "execution_count": 19,
   "metadata": {},
   "outputs": [],
   "source": [
    "# The current number of coins for each cryptocurrency asset held in the portfolio.\n",
    "btc_coins = 1.2\n",
    "eth_coins = 5.2"
   ]
  },
  {
   "cell_type": "markdown",
   "metadata": {},
   "source": [
    "#### Step 1: Create a variable named `monthly_income`, and set its value to `12000`."
   ]
  },
  {
   "cell_type": "code",
   "execution_count": 20,
   "metadata": {},
   "outputs": [],
   "source": [
    "# The monthly amount for the member's household income\n",
    "monthly_income = 12000\n"
   ]
  },
  {
   "cell_type": "markdown",
   "metadata": {},
   "source": [
    "#### Review the endpoint URLs for the API calls to Free Crypto API in order to get the current pricing information for both BTC and ETH."
   ]
  },
  {
   "cell_type": "code",
   "execution_count": 21,
   "metadata": {},
   "outputs": [],
   "source": [
    "# The Free Crypto API Call endpoint URLs for the held cryptocurrency assets\n",
    "btc_url = \"https://api.alternative.me/v2/ticker/Bitcoin/?convert=USD\"\n",
    "eth_url = \"https://api.alternative.me/v2/ticker/Ethereum/?convert=USD\""
   ]
  },
  {
   "cell_type": "markdown",
   "metadata": {},
   "source": [
    "#### Step 2. Use the Requests library to get the current price (in US dollars) of Bitcoin (BTC) and Ethereum (ETH) by using the API endpoints that the starter code supplied."
   ]
  },
  {
   "cell_type": "code",
   "execution_count": 22,
   "metadata": {},
   "outputs": [
    {
     "name": "stdout",
     "output_type": "stream",
     "text": [
      "{\n",
      "    \"data\": {\n",
      "        \"1\": {\n",
      "            \"circulating_supply\": 19121537,\n",
      "            \"id\": 1,\n",
      "            \"last_updated\": 1660509849,\n",
      "            \"max_supply\": 21000000,\n",
      "            \"name\": \"Bitcoin\",\n",
      "            \"quotes\": {\n",
      "                \"USD\": {\n",
      "                    \"market_cap\": 465380430688,\n",
      "                    \"percent_change_1h\": 0.14539469548999,\n",
      "                    \"percent_change_24h\": -0.563698069928372,\n",
      "                    \"percent_change_7d\": 5.90237807130237,\n",
      "                    \"percentage_change_1h\": 0.14539469548999,\n",
      "                    \"percentage_change_24h\": -0.563698069928372,\n",
      "                    \"percentage_change_7d\": 5.90237807130237,\n",
      "                    \"price\": 24341.0,\n",
      "                    \"volume_24h\": 21122150429\n",
      "                }\n",
      "            },\n",
      "            \"rank\": 1,\n",
      "            \"symbol\": \"BTC\",\n",
      "            \"total_supply\": 19121537,\n",
      "            \"website_slug\": \"bitcoin\"\n",
      "        }\n",
      "    },\n",
      "    \"metadata\": {\n",
      "        \"error\": null,\n",
      "        \"num_cryptocurrencies\": 3116,\n",
      "        \"timestamp\": 1660509849\n",
      "    }\n",
      "}\n"
     ]
    }
   ],
   "source": [
    "# Using the Python requests library, make an API call to access the current price of BTC\n",
    "btc_response = requests.get(btc_url).json()\n",
    "\n",
    "# Use the json.dumps function to review the response data from the API call\n",
    "# Use the indent and sort_keys parameters to make the response object readable\n",
    "print(json.dumps(btc_response, indent=4, sort_keys=True))\n"
   ]
  },
  {
   "cell_type": "code",
   "execution_count": 23,
   "metadata": {},
   "outputs": [
    {
     "name": "stdout",
     "output_type": "stream",
     "text": [
      "{\n",
      "    \"data\": {\n",
      "        \"1027\": {\n",
      "            \"circulating_supply\": 120097652,\n",
      "            \"id\": 1027,\n",
      "            \"last_updated\": 1660509839,\n",
      "            \"max_supply\": 120097652,\n",
      "            \"name\": \"Ethereum\",\n",
      "            \"quotes\": {\n",
      "                \"USD\": {\n",
      "                    \"market_cap\": 233065483378,\n",
      "                    \"percent_change_1h\": 0.476031607364988,\n",
      "                    \"percent_change_24h\": -2.40370283179553,\n",
      "                    \"percent_change_7d\": 14.6316609368646,\n",
      "                    \"percentage_change_1h\": 0.476031607364988,\n",
      "                    \"percentage_change_24h\": -2.40370283179553,\n",
      "                    \"percentage_change_7d\": 14.6316609368646,\n",
      "                    \"price\": 1941.05,\n",
      "                    \"volume_24h\": 11550518245\n",
      "                }\n",
      "            },\n",
      "            \"rank\": 2,\n",
      "            \"symbol\": \"ETH\",\n",
      "            \"total_supply\": 120097652,\n",
      "            \"website_slug\": \"ethereum\"\n",
      "        }\n",
      "    },\n",
      "    \"metadata\": {\n",
      "        \"error\": null,\n",
      "        \"num_cryptocurrencies\": 3116,\n",
      "        \"timestamp\": 1660509839\n",
      "    }\n",
      "}\n"
     ]
    }
   ],
   "source": [
    "# Using the Python requests library, make an API call to access the current price ETH\n",
    "eth_response = requests.get(eth_url).json()\n",
    "\n",
    "# Use the json.dumps function to review the response data from the API call\n",
    "# Use the indent and sort_keys parameters to make the response object readable\n",
    "print(json.dumps(eth_response, indent=4, sort_keys=True))\n"
   ]
  },
  {
   "cell_type": "markdown",
   "metadata": {},
   "source": [
    "#### Step 3: Navigate the JSON response object to access the current price of each coin, and store each in a variable."
   ]
  },
  {
   "cell_type": "code",
   "execution_count": 24,
   "metadata": {},
   "outputs": [
    {
     "name": "stdout",
     "output_type": "stream",
     "text": [
      "24341.0\n"
     ]
    }
   ],
   "source": [
    "# Navigate the BTC response object to access the current price of BTC\n",
    "btc_price = btc_response[\"data\"][\"1\"][\"quotes\"][\"USD\"][\"price\"]\n",
    "\n",
    "# Print the current price of BTC\n",
    "print(btc_price)\n"
   ]
  },
  {
   "cell_type": "code",
   "execution_count": 25,
   "metadata": {},
   "outputs": [
    {
     "name": "stdout",
     "output_type": "stream",
     "text": [
      "1941.05\n"
     ]
    }
   ],
   "source": [
    "# Navigate the BTC response object to access the current price of ETH\n",
    "eth_price = eth_response[\"data\"][\"1027\"][\"quotes\"][\"USD\"][\"price\"]\n",
    "\n",
    "# Print the current price of ETH\n",
    "print(eth_price)\n"
   ]
  },
  {
   "cell_type": "markdown",
   "metadata": {},
   "source": [
    "### Step 4: Calculate the value, in US dollars, of the current amount of each cryptocurrency and of the entire cryptocurrency wallet."
   ]
  },
  {
   "cell_type": "code",
   "execution_count": 26,
   "metadata": {},
   "outputs": [
    {
     "name": "stdout",
     "output_type": "stream",
     "text": [
      "29209.2\n"
     ]
    }
   ],
   "source": [
    "# Compute the current value of the BTC holding \n",
    "btc_value = btc_price * btc_coins\n",
    "\n",
    "# Print current value of your holding in BTC\n",
    "print(btc_value)\n"
   ]
  },
  {
   "cell_type": "code",
   "execution_count": 27,
   "metadata": {},
   "outputs": [
    {
     "name": "stdout",
     "output_type": "stream",
     "text": [
      "10093.460000000001\n"
     ]
    }
   ],
   "source": [
    "# Compute the current value of the ETH holding \n",
    "eth_value = eth_price * eth_coins\n",
    "\n",
    "# Print current value of your holding in ETH\n",
    "print(eth_value)\n"
   ]
  },
  {
   "cell_type": "code",
   "execution_count": 28,
   "metadata": {},
   "outputs": [
    {
     "name": "stdout",
     "output_type": "stream",
     "text": [
      "39302.66\n"
     ]
    }
   ],
   "source": [
    "# Compute the total value of the cryptocurrency wallet\n",
    "# Add the value of the BTC holding to the value of the ETH holding\n",
    "total_crypto_wallet = btc_value + eth_value\n",
    "\n",
    "# Print current cryptocurrency wallet balance\n",
    "print(total_crypto_wallet)\n"
   ]
  },
  {
   "cell_type": "markdown",
   "metadata": {},
   "source": [
    "### Evaluate the Stock and Bond Holdings by Using the Alpaca SDK\n",
    "\n",
    "In this section, you’ll determine the current value of a member’s stock and bond holdings. You’ll make an API call to Alpaca via the Alpaca SDK to get the current closing prices of the SPDR S&P 500 ETF Trust (ticker: SPY) and of the iShares Core US Aggregate Bond ETF (ticker: AGG). For the prototype, assume that the member holds 110 shares of SPY, which represents the stock portion of their portfolio, and 200 shares of AGG, which represents the bond portion. To do all this, complete the following steps:\n",
    "\n",
    "1. In the `Starter_Code` folder, create an environment file (`.env`) to store the values of your Alpaca API key and Alpaca secret key.\n",
    "\n",
    "2. Set the variables for the Alpaca API and secret keys. Using the Alpaca SDK, create the Alpaca `tradeapi.REST` object. In this object, include the parameters for the Alpaca API key, the secret key, and the version number.\n",
    "\n",
    "3. Set the following parameters for the Alpaca API call:\n",
    "\n",
    "    - `tickers`: Use the tickers for the member’s stock and bond holdings.\n",
    "\n",
    "    - `timeframe`: Use a time frame of one day.\n",
    "\n",
    "    - `start_date` and `end_date`: Use the same date for these parameters, and format them with the date of the previous weekday (or `2020-08-07`). This is because you want the one closing price for the most-recent trading day.\n",
    "\n",
    "4. Get the current closing prices for `SPY` and `AGG` by using the Alpaca `get_bars` function. Format the response as a Pandas DataFrame by including the `df` property at the end of the `get_bars` function.\n",
    "\n",
    "5. Navigating the Alpaca response DataFrame, select the `SPY` and `AGG` closing prices, and store them as variables.\n",
    "\n",
    "6. Calculate the value, in US dollars, of the current amount of shares in each of the stock and bond portions of the portfolio, and print the results.\n"
   ]
  },
  {
   "cell_type": "markdown",
   "metadata": {},
   "source": [
    "#### Review the total number of shares held in both (SPY) and (AGG)."
   ]
  },
  {
   "cell_type": "code",
   "execution_count": 29,
   "metadata": {},
   "outputs": [],
   "source": [
    "# Current amount of shares held in both the stock (SPY) and bond (AGG) portion of the portfolio.\n",
    "spy_shares = 110\n",
    "agg_shares = 200\n"
   ]
  },
  {
   "cell_type": "markdown",
   "metadata": {},
   "source": [
    "#### Step 1: In the `Starter_Code` folder, create an environment file (`.env`) to store the values of your Alpaca API key and Alpaca secret key."
   ]
  },
  {
   "cell_type": "markdown",
   "metadata": {},
   "source": [
    "#### Step 2: Set the variables for the Alpaca API and secret keys. Using the Alpaca SDK, create the Alpaca `tradeapi.REST` object. In this object, include the parameters for the Alpaca API key, the secret key, and the version number."
   ]
  },
  {
   "cell_type": "code",
   "execution_count": 30,
   "metadata": {},
   "outputs": [],
   "source": [
    "# Set the variables for the Alpaca API and secret keys\n",
    "alpaca_api_key = os.getenv(\"ALPACA_API_KEY\")\n",
    "alpaca_secret_key = os.getenv(\"ALPACA_SECRET_KEY\")\n",
    "\n",
    "# Create the Alpaca tradeapi.REST object\n",
    "alpaca = tradeapi.REST(alpaca_api_key, alpaca_secret_key, api_version=\"v2\")\n"
   ]
  },
  {
   "cell_type": "markdown",
   "metadata": {},
   "source": [
    "#### Step 3: Set the following parameters for the Alpaca API call:\n",
    "\n",
    "- `tickers`: Use the tickers for the member’s stock and bond holdings.\n",
    "\n",
    "- `timeframe`: Use a time frame of one day.\n",
    "\n",
    "- `start_date` and `end_date`: Use the same date for these parameters, and format them with the date of the previous weekday (or `2020-08-07`). This is because you want the one closing price for the most-recent trading day.\n"
   ]
  },
  {
   "cell_type": "code",
   "execution_count": 31,
   "metadata": {},
   "outputs": [],
   "source": [
    "# Set the tickers for both the bond and stock portion of the portfolio\n",
    "tickers = [\"SPY\",\"AGG\"]\n",
    "\n",
    "# Set timeframe to 1Day\n",
    "timeframe = \"1Day\"\n",
    "\n",
    "# Format current date as ISO format\n",
    "# Set both the start and end date at the date of your prior weekday \n",
    "# This will give you the closing price of the previous trading day\n",
    "# Alternatively you can use a start and end date of 2020-08-07\n",
    "start_date = pd.Timestamp(\"2022-08-12\", tz=\"America/New_York\").isoformat()\n",
    "end_date = pd.Timestamp(\"2022-08-12\", tz=\"America/New_York\").isoformat()\n"
   ]
  },
  {
   "cell_type": "markdown",
   "metadata": {},
   "source": [
    "#### Step 4: Get the current closing prices for `SPY` and `AGG` by using the Alpaca `get_bars` function. Format the response as a Pandas DataFrame by including the `df` property at the end of the `get_bars` function."
   ]
  },
  {
   "cell_type": "code",
   "execution_count": 32,
   "metadata": {},
   "outputs": [
    {
     "data": {
      "text/html": [
       "<div>\n",
       "<style scoped>\n",
       "    .dataframe tbody tr th:only-of-type {\n",
       "        vertical-align: middle;\n",
       "    }\n",
       "\n",
       "    .dataframe tbody tr th {\n",
       "        vertical-align: top;\n",
       "    }\n",
       "\n",
       "    .dataframe thead tr th {\n",
       "        text-align: left;\n",
       "    }\n",
       "\n",
       "    .dataframe thead tr:last-of-type th {\n",
       "        text-align: right;\n",
       "    }\n",
       "</style>\n",
       "<table border=\"1\" class=\"dataframe\">\n",
       "  <thead>\n",
       "    <tr>\n",
       "      <th></th>\n",
       "      <th colspan=\"7\" halign=\"left\">SPY</th>\n",
       "      <th colspan=\"7\" halign=\"left\">AGG</th>\n",
       "    </tr>\n",
       "    <tr>\n",
       "      <th></th>\n",
       "      <th>open</th>\n",
       "      <th>high</th>\n",
       "      <th>low</th>\n",
       "      <th>close</th>\n",
       "      <th>volume</th>\n",
       "      <th>trade_count</th>\n",
       "      <th>vwap</th>\n",
       "      <th>open</th>\n",
       "      <th>high</th>\n",
       "      <th>low</th>\n",
       "      <th>close</th>\n",
       "      <th>volume</th>\n",
       "      <th>trade_count</th>\n",
       "      <th>vwap</th>\n",
       "    </tr>\n",
       "    <tr>\n",
       "      <th>timestamp</th>\n",
       "      <th></th>\n",
       "      <th></th>\n",
       "      <th></th>\n",
       "      <th></th>\n",
       "      <th></th>\n",
       "      <th></th>\n",
       "      <th></th>\n",
       "      <th></th>\n",
       "      <th></th>\n",
       "      <th></th>\n",
       "      <th></th>\n",
       "      <th></th>\n",
       "      <th></th>\n",
       "      <th></th>\n",
       "    </tr>\n",
       "  </thead>\n",
       "  <tbody>\n",
       "    <tr>\n",
       "      <th>2022-08-12 04:00:00+00:00</th>\n",
       "      <td>422.1</td>\n",
       "      <td>427.21</td>\n",
       "      <td>421.03</td>\n",
       "      <td>427.1</td>\n",
       "      <td>61456095</td>\n",
       "      <td>396459</td>\n",
       "      <td>424.557629</td>\n",
       "      <td>102.97</td>\n",
       "      <td>103.12</td>\n",
       "      <td>102.72</td>\n",
       "      <td>103.12</td>\n",
       "      <td>3628312</td>\n",
       "      <td>16069</td>\n",
       "      <td>102.954114</td>\n",
       "    </tr>\n",
       "  </tbody>\n",
       "</table>\n",
       "</div>"
      ],
      "text/plain": [
       "                             SPY                                               \\\n",
       "                            open    high     low  close    volume trade_count   \n",
       "timestamp                                                                       \n",
       "2022-08-12 04:00:00+00:00  422.1  427.21  421.03  427.1  61456095      396459   \n",
       "\n",
       "                                          AGG                          \\\n",
       "                                 vwap    open    high     low   close   \n",
       "timestamp                                                               \n",
       "2022-08-12 04:00:00+00:00  424.557629  102.97  103.12  102.72  103.12   \n",
       "\n",
       "                                                            \n",
       "                            volume trade_count        vwap  \n",
       "timestamp                                                   \n",
       "2022-08-12 04:00:00+00:00  3628312       16069  102.954114  "
      ]
     },
     "execution_count": 32,
     "metadata": {},
     "output_type": "execute_result"
    }
   ],
   "source": [
    "# Use the Alpaca get_bars function to get current closing prices the portfolio\n",
    "# Be sure to set the `df` property after the function to format the response object as a DataFrame\n",
    "stock_prices_df = alpaca.get_bars(\n",
    "    tickers,\n",
    "    timeframe,\n",
    "    start = start_date,\n",
    "    end = end_date\n",
    ").df\n",
    "\n",
    "# Reorganize the DataFrame\n",
    "# Separate ticker data\n",
    "SPY = stock_prices_df[stock_prices_df['symbol']=='SPY'].drop('symbol', axis=1)\n",
    "AGG = stock_prices_df[stock_prices_df['symbol']=='AGG'].drop('symbol', axis=1)\n",
    "\n",
    "# Concatenate the ticker DataFrames\n",
    "stock_prices_df = pd.concat([SPY,AGG], axis=1, keys=[\"SPY\",\"AGG\"])\n",
    "\n",
    "# Review the first 5 rows of the Alpaca DataFrame\n",
    "stock_prices_df.head()\n"
   ]
  },
  {
   "cell_type": "markdown",
   "metadata": {},
   "source": [
    "#### Step 5: Navigating the Alpaca response DataFrame, select the `SPY` and `AGG` closing prices, and store them as variables."
   ]
  },
  {
   "cell_type": "code",
   "execution_count": 33,
   "metadata": {},
   "outputs": [
    {
     "name": "stdout",
     "output_type": "stream",
     "text": [
      "103.12\n"
     ]
    }
   ],
   "source": [
    "# Access the closing price for AGG from the Alpaca DataFrame\n",
    "# Converting the value to a floating point number\n",
    "agg_close_price = float(stock_prices_df[\"AGG\"][\"close\"])\n",
    "\n",
    "# Print the AGG closing price\n",
    "print(agg_close_price)\n"
   ]
  },
  {
   "cell_type": "code",
   "execution_count": 34,
   "metadata": {},
   "outputs": [
    {
     "name": "stdout",
     "output_type": "stream",
     "text": [
      "427.1\n"
     ]
    }
   ],
   "source": [
    "# Access the closing price for SPY from the Alpaca DataFrame\n",
    "# Converting the value to a floating point number\n",
    "spy_close_price = float(stock_prices_df[\"SPY\"][\"close\"])\n",
    "\n",
    "# Print the SPY closing price\n",
    "print(spy_close_price)\n"
   ]
  },
  {
   "cell_type": "markdown",
   "metadata": {},
   "source": [
    "#### Step 6: Calculate the value, in US dollars, of the current amount of shares in each of the stock and bond portions of the portfolio, and print the results."
   ]
  },
  {
   "cell_type": "code",
   "execution_count": 35,
   "metadata": {},
   "outputs": [
    {
     "name": "stdout",
     "output_type": "stream",
     "text": [
      "20624.0\n"
     ]
    }
   ],
   "source": [
    "# Calculate the current value of the bond portion of the portfolio\n",
    "agg_value = agg_close_price * agg_shares\n",
    "\n",
    "# Print the current value of the bond portfolio\n",
    "print(agg_value)\n"
   ]
  },
  {
   "cell_type": "code",
   "execution_count": 36,
   "metadata": {},
   "outputs": [
    {
     "name": "stdout",
     "output_type": "stream",
     "text": [
      "46981.0\n"
     ]
    }
   ],
   "source": [
    "# Calculate the current value of the stock portion of the portfolio\n",
    "spy_value = spy_close_price * spy_shares\n",
    "\n",
    "# Print the current value of the stock portfolio\n",
    "print(spy_value)\n"
   ]
  },
  {
   "cell_type": "code",
   "execution_count": 37,
   "metadata": {},
   "outputs": [
    {
     "name": "stdout",
     "output_type": "stream",
     "text": [
      "67605.0\n"
     ]
    }
   ],
   "source": [
    "# Calculate the total value of the stock and bond portion of the portfolio\n",
    "total_stocks_bonds = agg_value + spy_value\n",
    "\n",
    "# Print the current balance of the stock and bond portion of the portfolio\n",
    "print(total_stocks_bonds)\n"
   ]
  },
  {
   "cell_type": "code",
   "execution_count": 38,
   "metadata": {},
   "outputs": [
    {
     "name": "stdout",
     "output_type": "stream",
     "text": [
      "106907.66\n"
     ]
    }
   ],
   "source": [
    "# Calculate the total value of the member's entire savings portfolio\n",
    "# Add the value of the cryptocurrency walled to the value of the total stocks and bonds\n",
    "total_portfolio = total_crypto_wallet + total_stocks_bonds\n",
    "\n",
    "# Print current cryptocurrency wallet balance\n",
    "print(total_portfolio)\n"
   ]
  },
  {
   "cell_type": "markdown",
   "metadata": {},
   "source": [
    "### Evaluate the Emergency Fund\n",
    "\n",
    "In this section, you’ll use the valuations for the cryptocurrency wallet and for the stock and bond portions of the portfolio to determine if the credit union member has enough savings to build an emergency fund into their financial plan. To do this, complete the following steps:\n",
    "\n",
    "1. Create a Python list named `savings_data` that has two elements. The first element contains the total value of the cryptocurrency wallet. The second element contains the total value of the stock and bond portions of the portfolio.\n",
    "\n",
    "2. Use the `savings_data` list to create a Pandas DataFrame named `savings_df`, and then display this DataFrame. The function to create the DataFrame should take the following three parameters:\n",
    "\n",
    "    - `savings_data`: Use the list that you just created.\n",
    "\n",
    "    - `columns`: Set this parameter equal to a Python list with a single value called `amount`.\n",
    "\n",
    "    - `index`: Set this parameter equal to a Python list with the values of `crypto` and `stock/bond`.\n",
    "\n",
    "3. Use the `savings_df` DataFrame to plot a pie chart that visualizes the composition of the member’s portfolio. The y-axis of the pie chart uses `amount`. Be sure to add a title.\n",
    "\n",
    "4. Using Python, determine if the current portfolio has enough to create an emergency fund as part of the member’s financial plan. Ideally, an emergency fund should equal to three times the member’s monthly income. To do this, implement the following steps:\n",
    "\n",
    "    1. Create a variable named `emergency_fund_value`, and set it equal to three times the value of the member’s `monthly_income` of $12000. (You set this earlier in Part 1).\n",
    "\n",
    "    2. Create a series of three if statements to determine if the member’s total portfolio is large enough to fund the emergency portfolio:\n",
    "\n",
    "        1. If the total portfolio value is greater than the emergency fund value, display a message congratulating the member for having enough money in this fund.\n",
    "\n",
    "        2. Else if the total portfolio value is equal to the emergency fund value, display a message congratulating the member on reaching this important financial goal.\n",
    "\n",
    "        3. Else the total portfolio is less than the emergency fund value, so display a message showing how many dollars away the member is from reaching the goal. (Subtract the total portfolio value from the emergency fund value.)\n"
   ]
  },
  {
   "cell_type": "markdown",
   "metadata": {},
   "source": [
    "#### Step 1: Create a Python list named `savings_data` that has two elements. The first element contains the total value of the cryptocurrency wallet. The second element contains the total value of the stock and bond portions of the portfolio."
   ]
  },
  {
   "cell_type": "code",
   "execution_count": 39,
   "metadata": {},
   "outputs": [
    {
     "name": "stdout",
     "output_type": "stream",
     "text": [
      "[39302.66, 67605.0]\n"
     ]
    }
   ],
   "source": [
    "# Consolidate financial assets data into a Python list\n",
    "savings_data = [total_crypto_wallet, total_stocks_bonds]\n",
    "\n",
    "# Review the Python list savings_data\n",
    "print(savings_data)\n",
    "    "
   ]
  },
  {
   "cell_type": "markdown",
   "metadata": {},
   "source": [
    "#### Step 2: Use the `savings_data` list to create a Pandas DataFrame named `savings_df`, and then display this DataFrame. The function to create the DataFrame should take the following three parameters:\n",
    "\n",
    "- `savings_data`: Use the list that you just created.\n",
    "\n",
    "- `columns`: Set this parameter equal to a Python list with a single value called `amount`.\n",
    "\n",
    "- `index`: Set this parameter equal to a Python list with the values of `crypto` and `stock/bond`.\n"
   ]
  },
  {
   "cell_type": "code",
   "execution_count": 40,
   "metadata": {},
   "outputs": [
    {
     "data": {
      "text/html": [
       "<div>\n",
       "<style scoped>\n",
       "    .dataframe tbody tr th:only-of-type {\n",
       "        vertical-align: middle;\n",
       "    }\n",
       "\n",
       "    .dataframe tbody tr th {\n",
       "        vertical-align: top;\n",
       "    }\n",
       "\n",
       "    .dataframe thead th {\n",
       "        text-align: right;\n",
       "    }\n",
       "</style>\n",
       "<table border=\"1\" class=\"dataframe\">\n",
       "  <thead>\n",
       "    <tr style=\"text-align: right;\">\n",
       "      <th></th>\n",
       "      <th>amount</th>\n",
       "    </tr>\n",
       "  </thead>\n",
       "  <tbody>\n",
       "    <tr>\n",
       "      <th>crypto</th>\n",
       "      <td>39302.66</td>\n",
       "    </tr>\n",
       "    <tr>\n",
       "      <th>stock/bond</th>\n",
       "      <td>67605.00</td>\n",
       "    </tr>\n",
       "  </tbody>\n",
       "</table>\n",
       "</div>"
      ],
      "text/plain": [
       "              amount\n",
       "crypto      39302.66\n",
       "stock/bond  67605.00"
      ]
     },
     "metadata": {},
     "output_type": "display_data"
    }
   ],
   "source": [
    "# Create a Pandas DataFrame called savings_df \n",
    "savings_df = pd.DataFrame(savings_data, index=[\"crypto\", \"stock/bond\"], columns=[\"amount\"])\n",
    "\n",
    "# Display the savings_df DataFrame\n",
    "display(savings_df.head())\n"
   ]
  },
  {
   "cell_type": "markdown",
   "metadata": {},
   "source": [
    "#### Step 3: Use the `savings_df` DataFrame to plot a pie chart that visualizes the composition of the member’s portfolio. The y-axis of the pie chart uses `amount`. Be sure to add a title."
   ]
  },
  {
   "cell_type": "code",
   "execution_count": 41,
   "metadata": {},
   "outputs": [
    {
     "data": {
      "text/plain": [
       "<AxesSubplot:title={'center':'Savings Composition - 8/12/2022'}, ylabel='amount'>"
      ]
     },
     "execution_count": 41,
     "metadata": {},
     "output_type": "execute_result"
    },
    {
     "data": {
      "image/png": "[encoded data removed]",
      "text/plain": [
       "<Figure size 432x288 with 1 Axes>"
      ]
     },
     "metadata": {},
     "output_type": "display_data"
    }
   ],
   "source": [
    "# Plot the total value of the member's portfolio (crypto and stock/bond) in a pie chart\n",
    "savings_df.plot.pie(y=\"amount\", title=\"Savings Composition - 8/12/2022\")\n"
   ]
  },
  {
   "cell_type": "markdown",
   "metadata": {},
   "source": [
    "#### Step 4: Using Python, determine if the current portfolio has enough to create an emergency fund as part of the member’s financial plan. Ideally, an emergency fund should equal to three times the member’s monthly income. To do this, implement the following steps:\n",
    "\n",
    "Step 1. Create a variable named `emergency_fund_value`, and set it equal to three times the value of the member’s `monthly_income` of 12000. (You set this earlier in Part 1).\n",
    "\n",
    "Step 2. Create a series of three if statements to determine if the member’s total portfolio is large enough to fund the emergency portfolio:\n",
    "\n",
    "* If the total portfolio value is greater than the emergency fund value, display a message congratulating the member for having enough money in this fund.\n",
    "\n",
    "* Else if the total portfolio value is equal to the emergency fund value, display a message congratulating the member on reaching this important financial goal.\n",
    "\n",
    "* Else the total portfolio is less than the emergency fund value, so display a message showing how many dollars away the member is from reaching the goal. (Subtract the total portfolio value from the emergency fund value.)\n"
   ]
  },
  {
   "cell_type": "markdown",
   "metadata": {},
   "source": [
    "##### Step 4-1: Create a variable named `emergency_fund_value`, and set it equal to three times the value of the member’s `monthly_income` of 12000. (You set this earlier in Part 1)."
   ]
  },
  {
   "cell_type": "code",
   "execution_count": 42,
   "metadata": {},
   "outputs": [],
   "source": [
    "# Create a variable named emergency_fund_value\n",
    "emergency_fund_value = monthly_income * 3\n"
   ]
  },
  {
   "cell_type": "markdown",
   "metadata": {},
   "source": [
    "##### Step 4-2: Create a series of three if statements to determine if the member’s total portfolio is large enough to fund the emergency portfolio:\n",
    "\n",
    "* If the total portfolio value is greater than the emergency fund value, display a message congratulating the member for having enough money in this fund.\n",
    "\n",
    "* Else if the total portfolio value is equal to the emergency fund value, display a message congratulating the member on reaching this important financial goal.\n",
    "\n",
    "* Else the total portfolio is less than the emergency fund value, so display a message showing how many dollars away the member is from reaching the goal. (Subtract the total portfolio value from the emergency fund value.)"
   ]
  },
  {
   "cell_type": "code",
   "execution_count": 43,
   "metadata": {},
   "outputs": [
    {
     "name": "stdout",
     "output_type": "stream",
     "text": [
      "Congratulations!  You have enough money!\n"
     ]
    }
   ],
   "source": [
    "# Evaluate the possibility of creating an emergency fund with 3 conditions:\n",
    "if total_portfolio > emergency_fund_value:\n",
    "    print(\"Congratulations!  You have enough money!\")\n",
    "elif total_portfolio == emergency_fund_value:\n",
    "    print(\"Congratulations!  You have reached your emergency fund goal!\")\n",
    "else:\n",
    "    print(f\"You only need to save ${emergency_fund_value - total_portfolio} before you reach your emergency fund goal!\")\n"
   ]
  },
  {
   "cell_type": "markdown",
   "metadata": {},
   "source": [
    "## Part 2: Create a Financial Planner for Retirement"
   ]
  },
  {
   "cell_type": "markdown",
   "metadata": {},
   "source": [
    "### Create the Monte Carlo Simulation\n",
    "\n",
    "In this section, you’ll use the MCForecastTools library to create a Monte Carlo simulation for the member’s savings portfolio. To do this, complete the following steps:\n",
    "\n",
    "1. Make an API call via the Alpaca SDK to get 3 years of historical closing prices for a traditional 60/40 portfolio split: 60% stocks (SPY) and 40% bonds (AGG).\n",
    "\n",
    "2. Run a Monte Carlo simulation of 500 samples and 30 years for the 60/40 portfolio, and then plot the results.The following image shows the overlay line plot resulting from a simulation with these characteristics. However, because a random number generator is used to run each live Monte Carlo simulation, your image will differ slightly from this exact image:\n",
    "\n",
    "![A screenshot depicts the resulting plot.](Images/5-4-monte-carlo-line-plot.png)\n",
    "\n",
    "3. Plot the probability distribution of the Monte Carlo simulation. Plot the probability distribution of the Monte Carlo simulation. The following image shows the histogram plot resulting from a simulation with these characteristics. However, because a random number generator is used to run each live Monte Carlo simulation, your image will differ slightly from this exact image:\n",
    "\n",
    "![A screenshot depicts the histogram plot.](Images/5-4-monte-carlo-histogram.png)\n",
    "\n",
    "4. Generate the summary statistics for the Monte Carlo simulation.\n",
    "\n"
   ]
  },
  {
   "cell_type": "markdown",
   "metadata": {},
   "source": [
    "#### Step 1: Make an API call via the Alpaca SDK to get 3 years of historical closing prices for a traditional 60/40 portfolio split: 60% stocks (SPY) and 40% bonds (AGG)."
   ]
  },
  {
   "cell_type": "code",
   "execution_count": 44,
   "metadata": {},
   "outputs": [
    {
     "name": "stdout",
     "output_type": "stream",
     "text": [
      "2019-08-13T16:49:39.763239-04:00\n",
      "2022-08-13T16:49:39.763239-04:00\n"
     ]
    }
   ],
   "source": [
    "# Set start and end dates of 3 years back from your current date\n",
    "# Alternatively, you can use an end date of 2020-08-07 and work 3 years back from that date\n",
    "\n",
    "now = datetime.datetime.now() - datetime.timedelta(days=1)\n",
    "three_years_ago = datetime.datetime.now() - datetime.timedelta(days=3*365 + 2)\n",
    "\n",
    "start_date = pd.Timestamp(three_years_ago, tz=\"America/New_York\").isoformat()\n",
    "end_date = pd.Timestamp(now, tz=\"America/New_York\").isoformat()\n",
    "\n",
    "print(start_date)\n",
    "print(end_date)"
   ]
  },
  {
   "cell_type": "code",
   "execution_count": 45,
   "metadata": {},
   "outputs": [
    {
     "data": {
      "text/html": [
       "<div>\n",
       "<style scoped>\n",
       "    .dataframe tbody tr th:only-of-type {\n",
       "        vertical-align: middle;\n",
       "    }\n",
       "\n",
       "    .dataframe tbody tr th {\n",
       "        vertical-align: top;\n",
       "    }\n",
       "\n",
       "    .dataframe thead tr th {\n",
       "        text-align: left;\n",
       "    }\n",
       "\n",
       "    .dataframe thead tr:last-of-type th {\n",
       "        text-align: right;\n",
       "    }\n",
       "</style>\n",
       "<table border=\"1\" class=\"dataframe\">\n",
       "  <thead>\n",
       "    <tr>\n",
       "      <th></th>\n",
       "      <th colspan=\"7\" halign=\"left\">SPY</th>\n",
       "      <th colspan=\"7\" halign=\"left\">AGG</th>\n",
       "    </tr>\n",
       "    <tr>\n",
       "      <th></th>\n",
       "      <th>open</th>\n",
       "      <th>high</th>\n",
       "      <th>low</th>\n",
       "      <th>close</th>\n",
       "      <th>volume</th>\n",
       "      <th>trade_count</th>\n",
       "      <th>vwap</th>\n",
       "      <th>open</th>\n",
       "      <th>high</th>\n",
       "      <th>low</th>\n",
       "      <th>close</th>\n",
       "      <th>volume</th>\n",
       "      <th>trade_count</th>\n",
       "      <th>vwap</th>\n",
       "    </tr>\n",
       "    <tr>\n",
       "      <th>timestamp</th>\n",
       "      <th></th>\n",
       "      <th></th>\n",
       "      <th></th>\n",
       "      <th></th>\n",
       "      <th></th>\n",
       "      <th></th>\n",
       "      <th></th>\n",
       "      <th></th>\n",
       "      <th></th>\n",
       "      <th></th>\n",
       "      <th></th>\n",
       "      <th></th>\n",
       "      <th></th>\n",
       "      <th></th>\n",
       "    </tr>\n",
       "  </thead>\n",
       "  <tbody>\n",
       "    <tr>\n",
       "      <th>2019-08-14 04:00:00+00:00</th>\n",
       "      <td>288.05</td>\n",
       "      <td>292.4644</td>\n",
       "      <td>283.7600</td>\n",
       "      <td>283.90</td>\n",
       "      <td>136293807</td>\n",
       "      <td>677326</td>\n",
       "      <td>285.776096</td>\n",
       "      <td>113.30</td>\n",
       "      <td>113.380</td>\n",
       "      <td>113.21</td>\n",
       "      <td>113.24</td>\n",
       "      <td>2832001</td>\n",
       "      <td>13903</td>\n",
       "      <td>113.298845</td>\n",
       "    </tr>\n",
       "    <tr>\n",
       "      <th>2019-08-15 04:00:00+00:00</th>\n",
       "      <td>284.89</td>\n",
       "      <td>285.6400</td>\n",
       "      <td>282.3900</td>\n",
       "      <td>284.65</td>\n",
       "      <td>102128101</td>\n",
       "      <td>533485</td>\n",
       "      <td>284.469402</td>\n",
       "      <td>113.39</td>\n",
       "      <td>113.910</td>\n",
       "      <td>113.37</td>\n",
       "      <td>113.76</td>\n",
       "      <td>2829081</td>\n",
       "      <td>14814</td>\n",
       "      <td>113.608836</td>\n",
       "    </tr>\n",
       "    <tr>\n",
       "      <th>2019-08-16 04:00:00+00:00</th>\n",
       "      <td>286.49</td>\n",
       "      <td>289.3300</td>\n",
       "      <td>284.7138</td>\n",
       "      <td>288.85</td>\n",
       "      <td>86075298</td>\n",
       "      <td>371928</td>\n",
       "      <td>288.239546</td>\n",
       "      <td>113.57</td>\n",
       "      <td>113.685</td>\n",
       "      <td>113.36</td>\n",
       "      <td>113.67</td>\n",
       "      <td>5209018</td>\n",
       "      <td>19639</td>\n",
       "      <td>113.594116</td>\n",
       "    </tr>\n",
       "    <tr>\n",
       "      <th>2019-08-19 04:00:00+00:00</th>\n",
       "      <td>292.23</td>\n",
       "      <td>293.0800</td>\n",
       "      <td>291.4400</td>\n",
       "      <td>292.33</td>\n",
       "      <td>53733045</td>\n",
       "      <td>264347</td>\n",
       "      <td>292.275536</td>\n",
       "      <td>113.34</td>\n",
       "      <td>113.460</td>\n",
       "      <td>113.27</td>\n",
       "      <td>113.37</td>\n",
       "      <td>2900796</td>\n",
       "      <td>13344</td>\n",
       "      <td>113.374430</td>\n",
       "    </tr>\n",
       "    <tr>\n",
       "      <th>2019-08-20 04:00:00+00:00</th>\n",
       "      <td>291.78</td>\n",
       "      <td>292.3600</td>\n",
       "      <td>289.9500</td>\n",
       "      <td>290.09</td>\n",
       "      <td>51652752</td>\n",
       "      <td>242268</td>\n",
       "      <td>291.000229</td>\n",
       "      <td>113.67</td>\n",
       "      <td>113.700</td>\n",
       "      <td>113.56</td>\n",
       "      <td>113.68</td>\n",
       "      <td>2253594</td>\n",
       "      <td>12775</td>\n",
       "      <td>113.625971</td>\n",
       "    </tr>\n",
       "  </tbody>\n",
       "</table>\n",
       "</div>"
      ],
      "text/plain": [
       "                              SPY                                         \\\n",
       "                             open      high       low   close     volume   \n",
       "timestamp                                                                  \n",
       "2019-08-14 04:00:00+00:00  288.05  292.4644  283.7600  283.90  136293807   \n",
       "2019-08-15 04:00:00+00:00  284.89  285.6400  282.3900  284.65  102128101   \n",
       "2019-08-16 04:00:00+00:00  286.49  289.3300  284.7138  288.85   86075298   \n",
       "2019-08-19 04:00:00+00:00  292.23  293.0800  291.4400  292.33   53733045   \n",
       "2019-08-20 04:00:00+00:00  291.78  292.3600  289.9500  290.09   51652752   \n",
       "\n",
       "                                                      AGG                   \\\n",
       "                          trade_count        vwap    open     high     low   \n",
       "timestamp                                                                    \n",
       "2019-08-14 04:00:00+00:00      677326  285.776096  113.30  113.380  113.21   \n",
       "2019-08-15 04:00:00+00:00      533485  284.469402  113.39  113.910  113.37   \n",
       "2019-08-16 04:00:00+00:00      371928  288.239546  113.57  113.685  113.36   \n",
       "2019-08-19 04:00:00+00:00      264347  292.275536  113.34  113.460  113.27   \n",
       "2019-08-20 04:00:00+00:00      242268  291.000229  113.67  113.700  113.56   \n",
       "\n",
       "                                                                    \n",
       "                            close   volume trade_count        vwap  \n",
       "timestamp                                                           \n",
       "2019-08-14 04:00:00+00:00  113.24  2832001       13903  113.298845  \n",
       "2019-08-15 04:00:00+00:00  113.76  2829081       14814  113.608836  \n",
       "2019-08-16 04:00:00+00:00  113.67  5209018       19639  113.594116  \n",
       "2019-08-19 04:00:00+00:00  113.37  2900796       13344  113.374430  \n",
       "2019-08-20 04:00:00+00:00  113.68  2253594       12775  113.625971  "
      ]
     },
     "metadata": {},
     "output_type": "display_data"
    },
    {
     "data": {
      "text/html": [
       "<div>\n",
       "<style scoped>\n",
       "    .dataframe tbody tr th:only-of-type {\n",
       "        vertical-align: middle;\n",
       "    }\n",
       "\n",
       "    .dataframe tbody tr th {\n",
       "        vertical-align: top;\n",
       "    }\n",
       "\n",
       "    .dataframe thead tr th {\n",
       "        text-align: left;\n",
       "    }\n",
       "\n",
       "    .dataframe thead tr:last-of-type th {\n",
       "        text-align: right;\n",
       "    }\n",
       "</style>\n",
       "<table border=\"1\" class=\"dataframe\">\n",
       "  <thead>\n",
       "    <tr>\n",
       "      <th></th>\n",
       "      <th colspan=\"7\" halign=\"left\">SPY</th>\n",
       "      <th colspan=\"7\" halign=\"left\">AGG</th>\n",
       "    </tr>\n",
       "    <tr>\n",
       "      <th></th>\n",
       "      <th>open</th>\n",
       "      <th>high</th>\n",
       "      <th>low</th>\n",
       "      <th>close</th>\n",
       "      <th>volume</th>\n",
       "      <th>trade_count</th>\n",
       "      <th>vwap</th>\n",
       "      <th>open</th>\n",
       "      <th>high</th>\n",
       "      <th>low</th>\n",
       "      <th>close</th>\n",
       "      <th>volume</th>\n",
       "      <th>trade_count</th>\n",
       "      <th>vwap</th>\n",
       "    </tr>\n",
       "    <tr>\n",
       "      <th>timestamp</th>\n",
       "      <th></th>\n",
       "      <th></th>\n",
       "      <th></th>\n",
       "      <th></th>\n",
       "      <th></th>\n",
       "      <th></th>\n",
       "      <th></th>\n",
       "      <th></th>\n",
       "      <th></th>\n",
       "      <th></th>\n",
       "      <th></th>\n",
       "      <th></th>\n",
       "      <th></th>\n",
       "      <th></th>\n",
       "    </tr>\n",
       "  </thead>\n",
       "  <tbody>\n",
       "    <tr>\n",
       "      <th>2022-08-08 04:00:00+00:00</th>\n",
       "      <td>415.25</td>\n",
       "      <td>417.62</td>\n",
       "      <td>411.83</td>\n",
       "      <td>412.99</td>\n",
       "      <td>53867272</td>\n",
       "      <td>421156</td>\n",
       "      <td>414.421803</td>\n",
       "      <td>103.10</td>\n",
       "      <td>103.290</td>\n",
       "      <td>103.0400</td>\n",
       "      <td>103.18</td>\n",
       "      <td>3219068</td>\n",
       "      <td>15830</td>\n",
       "      <td>103.175213</td>\n",
       "    </tr>\n",
       "    <tr>\n",
       "      <th>2022-08-09 04:00:00+00:00</th>\n",
       "      <td>412.30</td>\n",
       "      <td>412.75</td>\n",
       "      <td>410.22</td>\n",
       "      <td>411.35</td>\n",
       "      <td>44110509</td>\n",
       "      <td>366275</td>\n",
       "      <td>411.331714</td>\n",
       "      <td>102.92</td>\n",
       "      <td>103.045</td>\n",
       "      <td>102.8400</td>\n",
       "      <td>102.95</td>\n",
       "      <td>3849491</td>\n",
       "      <td>17130</td>\n",
       "      <td>102.948831</td>\n",
       "    </tr>\n",
       "    <tr>\n",
       "      <th>2022-08-10 04:00:00+00:00</th>\n",
       "      <td>418.71</td>\n",
       "      <td>420.14</td>\n",
       "      <td>416.72</td>\n",
       "      <td>419.99</td>\n",
       "      <td>68139304</td>\n",
       "      <td>473663</td>\n",
       "      <td>418.182059</td>\n",
       "      <td>103.43</td>\n",
       "      <td>103.675</td>\n",
       "      <td>103.1095</td>\n",
       "      <td>103.21</td>\n",
       "      <td>6848952</td>\n",
       "      <td>19064</td>\n",
       "      <td>103.486096</td>\n",
       "    </tr>\n",
       "    <tr>\n",
       "      <th>2022-08-11 04:00:00+00:00</th>\n",
       "      <td>423.00</td>\n",
       "      <td>424.95</td>\n",
       "      <td>419.21</td>\n",
       "      <td>419.99</td>\n",
       "      <td>59337460</td>\n",
       "      <td>443453</td>\n",
       "      <td>421.578655</td>\n",
       "      <td>103.38</td>\n",
       "      <td>103.630</td>\n",
       "      <td>102.6150</td>\n",
       "      <td>102.66</td>\n",
       "      <td>8499300</td>\n",
       "      <td>24163</td>\n",
       "      <td>103.070842</td>\n",
       "    </tr>\n",
       "    <tr>\n",
       "      <th>2022-08-12 04:00:00+00:00</th>\n",
       "      <td>422.10</td>\n",
       "      <td>427.21</td>\n",
       "      <td>421.03</td>\n",
       "      <td>427.10</td>\n",
       "      <td>61456095</td>\n",
       "      <td>396459</td>\n",
       "      <td>424.557629</td>\n",
       "      <td>102.97</td>\n",
       "      <td>103.120</td>\n",
       "      <td>102.7200</td>\n",
       "      <td>103.12</td>\n",
       "      <td>3628312</td>\n",
       "      <td>16069</td>\n",
       "      <td>102.954114</td>\n",
       "    </tr>\n",
       "  </tbody>\n",
       "</table>\n",
       "</div>"
      ],
      "text/plain": [
       "                              SPY                                    \\\n",
       "                             open    high     low   close    volume   \n",
       "timestamp                                                             \n",
       "2022-08-08 04:00:00+00:00  415.25  417.62  411.83  412.99  53867272   \n",
       "2022-08-09 04:00:00+00:00  412.30  412.75  410.22  411.35  44110509   \n",
       "2022-08-10 04:00:00+00:00  418.71  420.14  416.72  419.99  68139304   \n",
       "2022-08-11 04:00:00+00:00  423.00  424.95  419.21  419.99  59337460   \n",
       "2022-08-12 04:00:00+00:00  422.10  427.21  421.03  427.10  61456095   \n",
       "\n",
       "                                                      AGG                     \\\n",
       "                          trade_count        vwap    open     high       low   \n",
       "timestamp                                                                      \n",
       "2022-08-08 04:00:00+00:00      421156  414.421803  103.10  103.290  103.0400   \n",
       "2022-08-09 04:00:00+00:00      366275  411.331714  102.92  103.045  102.8400   \n",
       "2022-08-10 04:00:00+00:00      473663  418.182059  103.43  103.675  103.1095   \n",
       "2022-08-11 04:00:00+00:00      443453  421.578655  103.38  103.630  102.6150   \n",
       "2022-08-12 04:00:00+00:00      396459  424.557629  102.97  103.120  102.7200   \n",
       "\n",
       "                                                                    \n",
       "                            close   volume trade_count        vwap  \n",
       "timestamp                                                           \n",
       "2022-08-08 04:00:00+00:00  103.18  3219068       15830  103.175213  \n",
       "2022-08-09 04:00:00+00:00  102.95  3849491       17130  102.948831  \n",
       "2022-08-10 04:00:00+00:00  103.21  6848952       19064  103.486096  \n",
       "2022-08-11 04:00:00+00:00  102.66  8499300       24163  103.070842  \n",
       "2022-08-12 04:00:00+00:00  103.12  3628312       16069  102.954114  "
      ]
     },
     "metadata": {},
     "output_type": "display_data"
    }
   ],
   "source": [
    "# Use the Alpaca get_bars function to make the API call to get the 3 years worth of pricing data\n",
    "# The tickers and timeframe parameters should have been set in Part 1 of this activity \n",
    "# The start and end dates should be updated with the information set above\n",
    "# Remember to add the df property to the end of the call so the response is returned as a DataFrame\n",
    "prices_df = alpaca.get_bars(\n",
    "    tickers,\n",
    "    timeframe,\n",
    "    start = start_date,\n",
    "    end = end_date\n",
    ").df\n",
    "\n",
    "# Reorganize the DataFrame\n",
    "# Separate ticker data\n",
    "SPY = prices_df[prices_df['symbol']=='SPY'].drop('symbol', axis=1)\n",
    "AGG = prices_df[prices_df['symbol']=='AGG'].drop('symbol', axis=1)\n",
    "\n",
    "# Concatenate the ticker DataFrames\n",
    "prices_df = pd.concat([SPY, AGG], axis=1, keys=[\"SPY\",\"AGG\"])\n",
    "\n",
    "# Display both the first and last five rows of the DataFrame\n",
    "display(prices_df.head())\n",
    "display(prices_df.tail())\n"
   ]
  },
  {
   "cell_type": "markdown",
   "metadata": {},
   "source": [
    "#### Step 2: Run a Monte Carlo simulation of 500 samples and 30 years for the 60/40 portfolio, and then plot the results."
   ]
  },
  {
   "cell_type": "code",
   "execution_count": 46,
   "metadata": {},
   "outputs": [
    {
     "data": {
      "text/html": [
       "<div>\n",
       "<style scoped>\n",
       "    .dataframe tbody tr th:only-of-type {\n",
       "        vertical-align: middle;\n",
       "    }\n",
       "\n",
       "    .dataframe tbody tr th {\n",
       "        vertical-align: top;\n",
       "    }\n",
       "\n",
       "    .dataframe thead tr th {\n",
       "        text-align: left;\n",
       "    }\n",
       "\n",
       "    .dataframe thead tr:last-of-type th {\n",
       "        text-align: right;\n",
       "    }\n",
       "</style>\n",
       "<table border=\"1\" class=\"dataframe\">\n",
       "  <thead>\n",
       "    <tr>\n",
       "      <th></th>\n",
       "      <th colspan=\"8\" halign=\"left\">SPY</th>\n",
       "      <th colspan=\"8\" halign=\"left\">AGG</th>\n",
       "    </tr>\n",
       "    <tr>\n",
       "      <th></th>\n",
       "      <th>open</th>\n",
       "      <th>high</th>\n",
       "      <th>low</th>\n",
       "      <th>close</th>\n",
       "      <th>volume</th>\n",
       "      <th>trade_count</th>\n",
       "      <th>vwap</th>\n",
       "      <th>daily_return</th>\n",
       "      <th>open</th>\n",
       "      <th>high</th>\n",
       "      <th>low</th>\n",
       "      <th>close</th>\n",
       "      <th>volume</th>\n",
       "      <th>trade_count</th>\n",
       "      <th>vwap</th>\n",
       "      <th>daily_return</th>\n",
       "    </tr>\n",
       "    <tr>\n",
       "      <th>timestamp</th>\n",
       "      <th></th>\n",
       "      <th></th>\n",
       "      <th></th>\n",
       "      <th></th>\n",
       "      <th></th>\n",
       "      <th></th>\n",
       "      <th></th>\n",
       "      <th></th>\n",
       "      <th></th>\n",
       "      <th></th>\n",
       "      <th></th>\n",
       "      <th></th>\n",
       "      <th></th>\n",
       "      <th></th>\n",
       "      <th></th>\n",
       "      <th></th>\n",
       "    </tr>\n",
       "  </thead>\n",
       "  <tbody>\n",
       "    <tr>\n",
       "      <th>2019-08-14 04:00:00+00:00</th>\n",
       "      <td>288.05</td>\n",
       "      <td>292.4644</td>\n",
       "      <td>283.7600</td>\n",
       "      <td>283.90</td>\n",
       "      <td>136293807</td>\n",
       "      <td>677326</td>\n",
       "      <td>285.776096</td>\n",
       "      <td>NaN</td>\n",
       "      <td>113.30</td>\n",
       "      <td>113.380</td>\n",
       "      <td>113.21</td>\n",
       "      <td>113.24</td>\n",
       "      <td>2832001</td>\n",
       "      <td>13903</td>\n",
       "      <td>113.298845</td>\n",
       "      <td>NaN</td>\n",
       "    </tr>\n",
       "    <tr>\n",
       "      <th>2019-08-15 04:00:00+00:00</th>\n",
       "      <td>284.89</td>\n",
       "      <td>285.6400</td>\n",
       "      <td>282.3900</td>\n",
       "      <td>284.65</td>\n",
       "      <td>102128101</td>\n",
       "      <td>533485</td>\n",
       "      <td>284.469402</td>\n",
       "      <td>0.002642</td>\n",
       "      <td>113.39</td>\n",
       "      <td>113.910</td>\n",
       "      <td>113.37</td>\n",
       "      <td>113.76</td>\n",
       "      <td>2829081</td>\n",
       "      <td>14814</td>\n",
       "      <td>113.608836</td>\n",
       "      <td>0.004592</td>\n",
       "    </tr>\n",
       "    <tr>\n",
       "      <th>2019-08-16 04:00:00+00:00</th>\n",
       "      <td>286.49</td>\n",
       "      <td>289.3300</td>\n",
       "      <td>284.7138</td>\n",
       "      <td>288.85</td>\n",
       "      <td>86075298</td>\n",
       "      <td>371928</td>\n",
       "      <td>288.239546</td>\n",
       "      <td>0.014755</td>\n",
       "      <td>113.57</td>\n",
       "      <td>113.685</td>\n",
       "      <td>113.36</td>\n",
       "      <td>113.67</td>\n",
       "      <td>5209018</td>\n",
       "      <td>19639</td>\n",
       "      <td>113.594116</td>\n",
       "      <td>-0.000791</td>\n",
       "    </tr>\n",
       "    <tr>\n",
       "      <th>2019-08-19 04:00:00+00:00</th>\n",
       "      <td>292.23</td>\n",
       "      <td>293.0800</td>\n",
       "      <td>291.4400</td>\n",
       "      <td>292.33</td>\n",
       "      <td>53733045</td>\n",
       "      <td>264347</td>\n",
       "      <td>292.275536</td>\n",
       "      <td>0.012048</td>\n",
       "      <td>113.34</td>\n",
       "      <td>113.460</td>\n",
       "      <td>113.27</td>\n",
       "      <td>113.37</td>\n",
       "      <td>2900796</td>\n",
       "      <td>13344</td>\n",
       "      <td>113.374430</td>\n",
       "      <td>-0.002639</td>\n",
       "    </tr>\n",
       "    <tr>\n",
       "      <th>2019-08-20 04:00:00+00:00</th>\n",
       "      <td>291.78</td>\n",
       "      <td>292.3600</td>\n",
       "      <td>289.9500</td>\n",
       "      <td>290.09</td>\n",
       "      <td>51652752</td>\n",
       "      <td>242268</td>\n",
       "      <td>291.000229</td>\n",
       "      <td>-0.007663</td>\n",
       "      <td>113.67</td>\n",
       "      <td>113.700</td>\n",
       "      <td>113.56</td>\n",
       "      <td>113.68</td>\n",
       "      <td>2253594</td>\n",
       "      <td>12775</td>\n",
       "      <td>113.625971</td>\n",
       "      <td>0.002734</td>\n",
       "    </tr>\n",
       "  </tbody>\n",
       "</table>\n",
       "</div>"
      ],
      "text/plain": [
       "                              SPY                                         \\\n",
       "                             open      high       low   close     volume   \n",
       "timestamp                                                                  \n",
       "2019-08-14 04:00:00+00:00  288.05  292.4644  283.7600  283.90  136293807   \n",
       "2019-08-15 04:00:00+00:00  284.89  285.6400  282.3900  284.65  102128101   \n",
       "2019-08-16 04:00:00+00:00  286.49  289.3300  284.7138  288.85   86075298   \n",
       "2019-08-19 04:00:00+00:00  292.23  293.0800  291.4400  292.33   53733045   \n",
       "2019-08-20 04:00:00+00:00  291.78  292.3600  289.9500  290.09   51652752   \n",
       "\n",
       "                                                                   AGG  \\\n",
       "                          trade_count        vwap daily_return    open   \n",
       "timestamp                                                                \n",
       "2019-08-14 04:00:00+00:00      677326  285.776096          NaN  113.30   \n",
       "2019-08-15 04:00:00+00:00      533485  284.469402     0.002642  113.39   \n",
       "2019-08-16 04:00:00+00:00      371928  288.239546     0.014755  113.57   \n",
       "2019-08-19 04:00:00+00:00      264347  292.275536     0.012048  113.34   \n",
       "2019-08-20 04:00:00+00:00      242268  291.000229    -0.007663  113.67   \n",
       "\n",
       "                                                                         \\\n",
       "                              high     low   close   volume trade_count   \n",
       "timestamp                                                                 \n",
       "2019-08-14 04:00:00+00:00  113.380  113.21  113.24  2832001       13903   \n",
       "2019-08-15 04:00:00+00:00  113.910  113.37  113.76  2829081       14814   \n",
       "2019-08-16 04:00:00+00:00  113.685  113.36  113.67  5209018       19639   \n",
       "2019-08-19 04:00:00+00:00  113.460  113.27  113.37  2900796       13344   \n",
       "2019-08-20 04:00:00+00:00  113.700  113.56  113.68  2253594       12775   \n",
       "\n",
       "                                                    \n",
       "                                 vwap daily_return  \n",
       "timestamp                                           \n",
       "2019-08-14 04:00:00+00:00  113.298845          NaN  \n",
       "2019-08-15 04:00:00+00:00  113.608836     0.004592  \n",
       "2019-08-16 04:00:00+00:00  113.594116    -0.000791  \n",
       "2019-08-19 04:00:00+00:00  113.374430    -0.002639  \n",
       "2019-08-20 04:00:00+00:00  113.625971     0.002734  "
      ]
     },
     "execution_count": 46,
     "metadata": {},
     "output_type": "execute_result"
    }
   ],
   "source": [
    "# Configure the Monte Carlo simulation to forecast 30 years cumulative returns\n",
    "# The weights should be split 40% to AGG and 60% to SPY.\n",
    "# Run 500 samples.\n",
    "MC_60_40 = MCSimulation(\n",
    "    portfolio_data = prices_df,\n",
    "    weights = [.60, .40],\n",
    "    num_simulation = 500,\n",
    "    num_trading_days = 252*30\n",
    ")\n",
    "\n",
    "# Review the simulation input data\n",
    "MC_60_40.portfolio_data.head()\n"
   ]
  },
  {
   "cell_type": "code",
   "execution_count": 47,
   "metadata": {},
   "outputs": [
    {
     "name": "stdout",
     "output_type": "stream",
     "text": [
      "Running Monte Carlo simulation number 0.\n",
      "Running Monte Carlo simulation number 10.\n",
      "Running Monte Carlo simulation number 20.\n",
      "Running Monte Carlo simulation number 30.\n",
      "Running Monte Carlo simulation number 40.\n",
      "Running Monte Carlo simulation number 50.\n",
      "Running Monte Carlo simulation number 60.\n",
      "Running Monte Carlo simulation number 70.\n",
      "Running Monte Carlo simulation number 80.\n",
      "Running Monte Carlo simulation number 90.\n",
      "Running Monte Carlo simulation number 100.\n"
     ]
    },
    {
     "name": "stderr",
     "output_type": "stream",
     "text": [
      "C:\\Users\\mmaro\\Desktop\\Projects\\financial_planner\\MCForecastTools.py:117: PerformanceWarning: DataFrame is highly fragmented.  This is usually the result of calling `frame.insert` many times, which has poor performance.  Consider joining all columns at once using pd.concat(axis=1) instead.  To get a de-fragmented frame, use `newframe = frame.copy()`\n",
      "  portfolio_cumulative_returns[n] = (1 + sim_df.fillna(0)).cumprod()\n"
     ]
    },
    {
     "name": "stdout",
     "output_type": "stream",
     "text": [
      "Running Monte Carlo simulation number 110.\n",
      "Running Monte Carlo simulation number 120.\n",
      "Running Monte Carlo simulation number 130.\n",
      "Running Monte Carlo simulation number 140.\n",
      "Running Monte Carlo simulation number 150.\n",
      "Running Monte Carlo simulation number 160.\n",
      "Running Monte Carlo simulation number 170.\n",
      "Running Monte Carlo simulation number 180.\n",
      "Running Monte Carlo simulation number 190.\n",
      "Running Monte Carlo simulation number 200.\n",
      "Running Monte Carlo simulation number 210.\n",
      "Running Monte Carlo simulation number 220.\n",
      "Running Monte Carlo simulation number 230.\n",
      "Running Monte Carlo simulation number 240.\n",
      "Running Monte Carlo simulation number 250.\n",
      "Running Monte Carlo simulation number 260.\n",
      "Running Monte Carlo simulation number 270.\n",
      "Running Monte Carlo simulation number 280.\n",
      "Running Monte Carlo simulation number 290.\n",
      "Running Monte Carlo simulation number 300.\n",
      "Running Monte Carlo simulation number 310.\n",
      "Running Monte Carlo simulation number 320.\n",
      "Running Monte Carlo simulation number 330.\n",
      "Running Monte Carlo simulation number 340.\n",
      "Running Monte Carlo simulation number 350.\n",
      "Running Monte Carlo simulation number 360.\n",
      "Running Monte Carlo simulation number 370.\n",
      "Running Monte Carlo simulation number 380.\n",
      "Running Monte Carlo simulation number 390.\n",
      "Running Monte Carlo simulation number 400.\n",
      "Running Monte Carlo simulation number 410.\n",
      "Running Monte Carlo simulation number 420.\n",
      "Running Monte Carlo simulation number 430.\n",
      "Running Monte Carlo simulation number 440.\n",
      "Running Monte Carlo simulation number 450.\n",
      "Running Monte Carlo simulation number 460.\n",
      "Running Monte Carlo simulation number 470.\n",
      "Running Monte Carlo simulation number 480.\n",
      "Running Monte Carlo simulation number 490.\n"
     ]
    },
    {
     "data": {
      "text/html": [
       "<div>\n",
       "<style scoped>\n",
       "    .dataframe tbody tr th:only-of-type {\n",
       "        vertical-align: middle;\n",
       "    }\n",
       "\n",
       "    .dataframe tbody tr th {\n",
       "        vertical-align: top;\n",
       "    }\n",
       "\n",
       "    .dataframe thead th {\n",
       "        text-align: right;\n",
       "    }\n",
       "</style>\n",
       "<table border=\"1\" class=\"dataframe\">\n",
       "  <thead>\n",
       "    <tr style=\"text-align: right;\">\n",
       "      <th></th>\n",
       "      <th>0</th>\n",
       "      <th>1</th>\n",
       "      <th>2</th>\n",
       "      <th>3</th>\n",
       "      <th>4</th>\n",
       "      <th>5</th>\n",
       "      <th>6</th>\n",
       "      <th>7</th>\n",
       "      <th>8</th>\n",
       "      <th>9</th>\n",
       "      <th>...</th>\n",
       "      <th>490</th>\n",
       "      <th>491</th>\n",
       "      <th>492</th>\n",
       "      <th>493</th>\n",
       "      <th>494</th>\n",
       "      <th>495</th>\n",
       "      <th>496</th>\n",
       "      <th>497</th>\n",
       "      <th>498</th>\n",
       "      <th>499</th>\n",
       "    </tr>\n",
       "  </thead>\n",
       "  <tbody>\n",
       "    <tr>\n",
       "      <th>0</th>\n",
       "      <td>1.000000</td>\n",
       "      <td>1.000000</td>\n",
       "      <td>1.000000</td>\n",
       "      <td>1.000000</td>\n",
       "      <td>1.000000</td>\n",
       "      <td>1.000000</td>\n",
       "      <td>1.000000</td>\n",
       "      <td>1.000000</td>\n",
       "      <td>1.000000</td>\n",
       "      <td>1.000000</td>\n",
       "      <td>...</td>\n",
       "      <td>1.000000</td>\n",
       "      <td>1.000000</td>\n",
       "      <td>1.000000</td>\n",
       "      <td>1.000000</td>\n",
       "      <td>1.000000</td>\n",
       "      <td>1.000000</td>\n",
       "      <td>1.000000</td>\n",
       "      <td>1.000000</td>\n",
       "      <td>1.000000</td>\n",
       "      <td>1.000000</td>\n",
       "    </tr>\n",
       "    <tr>\n",
       "      <th>1</th>\n",
       "      <td>0.996236</td>\n",
       "      <td>1.006124</td>\n",
       "      <td>0.995567</td>\n",
       "      <td>1.007968</td>\n",
       "      <td>0.992012</td>\n",
       "      <td>0.997690</td>\n",
       "      <td>1.007110</td>\n",
       "      <td>0.989212</td>\n",
       "      <td>1.002169</td>\n",
       "      <td>1.003522</td>\n",
       "      <td>...</td>\n",
       "      <td>1.010171</td>\n",
       "      <td>0.994306</td>\n",
       "      <td>0.999707</td>\n",
       "      <td>0.998457</td>\n",
       "      <td>0.998515</td>\n",
       "      <td>0.994235</td>\n",
       "      <td>0.996258</td>\n",
       "      <td>1.026478</td>\n",
       "      <td>0.995993</td>\n",
       "      <td>1.001052</td>\n",
       "    </tr>\n",
       "    <tr>\n",
       "      <th>2</th>\n",
       "      <td>0.993752</td>\n",
       "      <td>1.009342</td>\n",
       "      <td>0.997732</td>\n",
       "      <td>1.004261</td>\n",
       "      <td>0.990436</td>\n",
       "      <td>1.001494</td>\n",
       "      <td>1.009974</td>\n",
       "      <td>1.003036</td>\n",
       "      <td>1.012030</td>\n",
       "      <td>1.000356</td>\n",
       "      <td>...</td>\n",
       "      <td>1.009308</td>\n",
       "      <td>0.994106</td>\n",
       "      <td>1.004439</td>\n",
       "      <td>0.986515</td>\n",
       "      <td>0.987995</td>\n",
       "      <td>0.998596</td>\n",
       "      <td>1.002809</td>\n",
       "      <td>1.027199</td>\n",
       "      <td>0.992898</td>\n",
       "      <td>0.997428</td>\n",
       "    </tr>\n",
       "    <tr>\n",
       "      <th>3</th>\n",
       "      <td>0.983742</td>\n",
       "      <td>1.004590</td>\n",
       "      <td>0.994841</td>\n",
       "      <td>1.008863</td>\n",
       "      <td>0.994932</td>\n",
       "      <td>0.996550</td>\n",
       "      <td>1.019866</td>\n",
       "      <td>0.994302</td>\n",
       "      <td>1.017242</td>\n",
       "      <td>1.023700</td>\n",
       "      <td>...</td>\n",
       "      <td>1.011429</td>\n",
       "      <td>0.973555</td>\n",
       "      <td>1.002195</td>\n",
       "      <td>0.995599</td>\n",
       "      <td>0.991681</td>\n",
       "      <td>1.001714</td>\n",
       "      <td>1.003560</td>\n",
       "      <td>1.020581</td>\n",
       "      <td>0.999445</td>\n",
       "      <td>0.993801</td>\n",
       "    </tr>\n",
       "    <tr>\n",
       "      <th>4</th>\n",
       "      <td>0.981421</td>\n",
       "      <td>0.995324</td>\n",
       "      <td>0.996329</td>\n",
       "      <td>1.019226</td>\n",
       "      <td>0.988535</td>\n",
       "      <td>0.996524</td>\n",
       "      <td>1.027105</td>\n",
       "      <td>0.997124</td>\n",
       "      <td>1.007317</td>\n",
       "      <td>1.011833</td>\n",
       "      <td>...</td>\n",
       "      <td>1.029799</td>\n",
       "      <td>0.965982</td>\n",
       "      <td>1.004108</td>\n",
       "      <td>1.011351</td>\n",
       "      <td>1.010606</td>\n",
       "      <td>0.978947</td>\n",
       "      <td>1.020183</td>\n",
       "      <td>1.027904</td>\n",
       "      <td>0.979285</td>\n",
       "      <td>0.987077</td>\n",
       "    </tr>\n",
       "    <tr>\n",
       "      <th>...</th>\n",
       "      <td>...</td>\n",
       "      <td>...</td>\n",
       "      <td>...</td>\n",
       "      <td>...</td>\n",
       "      <td>...</td>\n",
       "      <td>...</td>\n",
       "      <td>...</td>\n",
       "      <td>...</td>\n",
       "      <td>...</td>\n",
       "      <td>...</td>\n",
       "      <td>...</td>\n",
       "      <td>...</td>\n",
       "      <td>...</td>\n",
       "      <td>...</td>\n",
       "      <td>...</td>\n",
       "      <td>...</td>\n",
       "      <td>...</td>\n",
       "      <td>...</td>\n",
       "      <td>...</td>\n",
       "      <td>...</td>\n",
       "      <td>...</td>\n",
       "    </tr>\n",
       "    <tr>\n",
       "      <th>7556</th>\n",
       "      <td>1.055513</td>\n",
       "      <td>21.859095</td>\n",
       "      <td>5.462137</td>\n",
       "      <td>19.154946</td>\n",
       "      <td>13.200101</td>\n",
       "      <td>3.883603</td>\n",
       "      <td>27.969706</td>\n",
       "      <td>9.132483</td>\n",
       "      <td>11.803016</td>\n",
       "      <td>15.332636</td>\n",
       "      <td>...</td>\n",
       "      <td>6.858116</td>\n",
       "      <td>26.319177</td>\n",
       "      <td>22.124172</td>\n",
       "      <td>32.677804</td>\n",
       "      <td>16.985883</td>\n",
       "      <td>74.158694</td>\n",
       "      <td>19.972085</td>\n",
       "      <td>8.396501</td>\n",
       "      <td>34.249075</td>\n",
       "      <td>33.876718</td>\n",
       "    </tr>\n",
       "    <tr>\n",
       "      <th>7557</th>\n",
       "      <td>1.054095</td>\n",
       "      <td>21.949259</td>\n",
       "      <td>5.441023</td>\n",
       "      <td>19.443565</td>\n",
       "      <td>13.197257</td>\n",
       "      <td>3.898014</td>\n",
       "      <td>28.018699</td>\n",
       "      <td>9.127467</td>\n",
       "      <td>11.756140</td>\n",
       "      <td>15.280419</td>\n",
       "      <td>...</td>\n",
       "      <td>6.780168</td>\n",
       "      <td>26.646452</td>\n",
       "      <td>21.986051</td>\n",
       "      <td>32.558093</td>\n",
       "      <td>17.065804</td>\n",
       "      <td>74.492731</td>\n",
       "      <td>19.837234</td>\n",
       "      <td>8.350371</td>\n",
       "      <td>34.583029</td>\n",
       "      <td>34.432736</td>\n",
       "    </tr>\n",
       "    <tr>\n",
       "      <th>7558</th>\n",
       "      <td>1.048166</td>\n",
       "      <td>21.893804</td>\n",
       "      <td>5.441275</td>\n",
       "      <td>19.654059</td>\n",
       "      <td>13.166805</td>\n",
       "      <td>3.875862</td>\n",
       "      <td>27.987132</td>\n",
       "      <td>9.137609</td>\n",
       "      <td>11.675017</td>\n",
       "      <td>15.112364</td>\n",
       "      <td>...</td>\n",
       "      <td>6.810967</td>\n",
       "      <td>26.295550</td>\n",
       "      <td>22.081292</td>\n",
       "      <td>32.956972</td>\n",
       "      <td>17.190919</td>\n",
       "      <td>73.723125</td>\n",
       "      <td>19.812576</td>\n",
       "      <td>8.393106</td>\n",
       "      <td>34.982265</td>\n",
       "      <td>33.993575</td>\n",
       "    </tr>\n",
       "    <tr>\n",
       "      <th>7559</th>\n",
       "      <td>1.035629</td>\n",
       "      <td>21.939352</td>\n",
       "      <td>5.455753</td>\n",
       "      <td>19.320219</td>\n",
       "      <td>13.343717</td>\n",
       "      <td>3.862062</td>\n",
       "      <td>27.970801</td>\n",
       "      <td>9.101814</td>\n",
       "      <td>11.773920</td>\n",
       "      <td>15.014084</td>\n",
       "      <td>...</td>\n",
       "      <td>6.871963</td>\n",
       "      <td>26.420427</td>\n",
       "      <td>21.685568</td>\n",
       "      <td>33.129118</td>\n",
       "      <td>17.228277</td>\n",
       "      <td>74.284553</td>\n",
       "      <td>20.027930</td>\n",
       "      <td>8.367501</td>\n",
       "      <td>35.164686</td>\n",
       "      <td>34.333443</td>\n",
       "    </tr>\n",
       "    <tr>\n",
       "      <th>7560</th>\n",
       "      <td>1.034704</td>\n",
       "      <td>21.873084</td>\n",
       "      <td>5.451801</td>\n",
       "      <td>19.400954</td>\n",
       "      <td>13.163991</td>\n",
       "      <td>3.893894</td>\n",
       "      <td>28.477632</td>\n",
       "      <td>9.114707</td>\n",
       "      <td>11.845440</td>\n",
       "      <td>14.855196</td>\n",
       "      <td>...</td>\n",
       "      <td>6.804350</td>\n",
       "      <td>26.297003</td>\n",
       "      <td>21.754354</td>\n",
       "      <td>33.229489</td>\n",
       "      <td>17.176787</td>\n",
       "      <td>74.455659</td>\n",
       "      <td>20.044294</td>\n",
       "      <td>8.452656</td>\n",
       "      <td>34.625654</td>\n",
       "      <td>34.407040</td>\n",
       "    </tr>\n",
       "  </tbody>\n",
       "</table>\n",
       "<p>7561 rows × 500 columns</p>\n",
       "</div>"
      ],
      "text/plain": [
       "           0          1         2          3          4         5    \\\n",
       "0     1.000000   1.000000  1.000000   1.000000   1.000000  1.000000   \n",
       "1     0.996236   1.006124  0.995567   1.007968   0.992012  0.997690   \n",
       "2     0.993752   1.009342  0.997732   1.004261   0.990436  1.001494   \n",
       "3     0.983742   1.004590  0.994841   1.008863   0.994932  0.996550   \n",
       "4     0.981421   0.995324  0.996329   1.019226   0.988535  0.996524   \n",
       "...        ...        ...       ...        ...        ...       ...   \n",
       "7556  1.055513  21.859095  5.462137  19.154946  13.200101  3.883603   \n",
       "7557  1.054095  21.949259  5.441023  19.443565  13.197257  3.898014   \n",
       "7558  1.048166  21.893804  5.441275  19.654059  13.166805  3.875862   \n",
       "7559  1.035629  21.939352  5.455753  19.320219  13.343717  3.862062   \n",
       "7560  1.034704  21.873084  5.451801  19.400954  13.163991  3.893894   \n",
       "\n",
       "            6         7          8          9    ...       490        491  \\\n",
       "0      1.000000  1.000000   1.000000   1.000000  ...  1.000000   1.000000   \n",
       "1      1.007110  0.989212   1.002169   1.003522  ...  1.010171   0.994306   \n",
       "2      1.009974  1.003036   1.012030   1.000356  ...  1.009308   0.994106   \n",
       "3      1.019866  0.994302   1.017242   1.023700  ...  1.011429   0.973555   \n",
       "4      1.027105  0.997124   1.007317   1.011833  ...  1.029799   0.965982   \n",
       "...         ...       ...        ...        ...  ...       ...        ...   \n",
       "7556  27.969706  9.132483  11.803016  15.332636  ...  6.858116  26.319177   \n",
       "7557  28.018699  9.127467  11.756140  15.280419  ...  6.780168  26.646452   \n",
       "7558  27.987132  9.137609  11.675017  15.112364  ...  6.810967  26.295550   \n",
       "7559  27.970801  9.101814  11.773920  15.014084  ...  6.871963  26.420427   \n",
       "7560  28.477632  9.114707  11.845440  14.855196  ...  6.804350  26.297003   \n",
       "\n",
       "            492        493        494        495        496       497  \\\n",
       "0      1.000000   1.000000   1.000000   1.000000   1.000000  1.000000   \n",
       "1      0.999707   0.998457   0.998515   0.994235   0.996258  1.026478   \n",
       "2      1.004439   0.986515   0.987995   0.998596   1.002809  1.027199   \n",
       "3      1.002195   0.995599   0.991681   1.001714   1.003560  1.020581   \n",
       "4      1.004108   1.011351   1.010606   0.978947   1.020183  1.027904   \n",
       "...         ...        ...        ...        ...        ...       ...   \n",
       "7556  22.124172  32.677804  16.985883  74.158694  19.972085  8.396501   \n",
       "7557  21.986051  32.558093  17.065804  74.492731  19.837234  8.350371   \n",
       "7558  22.081292  32.956972  17.190919  73.723125  19.812576  8.393106   \n",
       "7559  21.685568  33.129118  17.228277  74.284553  20.027930  8.367501   \n",
       "7560  21.754354  33.229489  17.176787  74.455659  20.044294  8.452656   \n",
       "\n",
       "            498        499  \n",
       "0      1.000000   1.000000  \n",
       "1      0.995993   1.001052  \n",
       "2      0.992898   0.997428  \n",
       "3      0.999445   0.993801  \n",
       "4      0.979285   0.987077  \n",
       "...         ...        ...  \n",
       "7556  34.249075  33.876718  \n",
       "7557  34.583029  34.432736  \n",
       "7558  34.982265  33.993575  \n",
       "7559  35.164686  34.333443  \n",
       "7560  34.625654  34.407040  \n",
       "\n",
       "[7561 rows x 500 columns]"
      ]
     },
     "execution_count": 47,
     "metadata": {},
     "output_type": "execute_result"
    }
   ],
   "source": [
    "# Run the Monte Carlo simulation to forecast 30 years cumulative returns\n",
    "MC_60_40.calc_cumulative_return()\n"
   ]
  },
  {
   "cell_type": "code",
   "execution_count": 48,
   "metadata": {},
   "outputs": [
    {
     "data": {
      "text/plain": [
       "<AxesSubplot:title={'center':'500 Simulations of Cumulative Portfolio Return Trajectories Over the Next 7560 Trading Days.'}>"
      ]
     },
     "execution_count": 48,
     "metadata": {},
     "output_type": "execute_result"
    },
    {
     "data": {
      "image/png": "[encoded data removed]",
      "text/plain": [
       "<Figure size 432x288 with 1 Axes>"
      ]
     },
     "metadata": {
      "needs_background": "light"
     },
     "output_type": "display_data"
    }
   ],
   "source": [
    "# Visualize the 30-year Monte Carlo simulation by creating an\n",
    "# overlay line plot\n",
    "MC_60_40.plot_simulation()\n"
   ]
  },
  {
   "cell_type": "markdown",
   "metadata": {},
   "source": [
    "#### Step 3: Plot the probability distribution of the Monte Carlo simulation."
   ]
  },
  {
   "cell_type": "code",
   "execution_count": 49,
   "metadata": {},
   "outputs": [
    {
     "data": {
      "text/plain": [
       "<AxesSubplot:title={'center':'Distribution of Final Cumuluative Returns Across All 500 Simulations'}, ylabel='Frequency'>"
      ]
     },
     "execution_count": 49,
     "metadata": {},
     "output_type": "execute_result"
    },
    {
     "data": {
      "image/png": "[encoded data removed]",
      "text/plain": [
       "<Figure size 432x288 with 1 Axes>"
      ]
     },
     "metadata": {
      "needs_background": "light"
     },
     "output_type": "display_data"
    }
   ],
   "source": [
    "# Visualize the probability distribution of the 30-year Monte Carlo simulation \n",
    "# by plotting a histogram\n",
    "MC_60_40.plot_distribution()\n"
   ]
  },
  {
   "cell_type": "markdown",
   "metadata": {},
   "source": [
    "#### Step 4: Generate the summary statistics for the Monte Carlo simulation."
   ]
  },
  {
   "cell_type": "code",
   "execution_count": 50,
   "metadata": {},
   "outputs": [
    {
     "name": "stdout",
     "output_type": "stream",
     "text": [
      "count           500.000000\n",
      "mean             14.643090\n",
      "std              13.872339\n",
      "min               0.655855\n",
      "25%               5.932414\n",
      "50%              10.525694\n",
      "75%              18.871266\n",
      "max             127.258312\n",
      "95% CI Lower      1.961061\n",
      "95% CI Upper     56.003508\n",
      "Name: 7560, dtype: float64\n"
     ]
    }
   ],
   "source": [
    "# Generate summary statistics from the 30-year Monte Carlo simulation results\n",
    "# Save the results as a variable\n",
    "MC_60_40_table = MC_60_40.summarize_cumulative_return()\n",
    "\n",
    "\n",
    "# Review the 30-year Monte Carlo summary statistics\n",
    "print(MC_60_40_table)"
   ]
  },
  {
   "cell_type": "markdown",
   "metadata": {},
   "source": [
    "### Analyze the Retirement Portfolio Forecasts\n",
    "\n",
    "Using the current value of only the stock and bond portion of the member's portfolio and the summary statistics that you generated from the Monte Carlo simulation, answer the following question in your Jupyter notebook:\n",
    "\n",
    "-  What are the lower and upper bounds for the expected value of the portfolio with a 95% confidence interval?\n"
   ]
  },
  {
   "cell_type": "code",
   "execution_count": 51,
   "metadata": {},
   "outputs": [
    {
     "name": "stdout",
     "output_type": "stream",
     "text": [
      "67605.0\n"
     ]
    }
   ],
   "source": [
    "# Print the current balance of the stock and bond portion of the members portfolio\n",
    "print(total_stocks_bonds)\n"
   ]
  },
  {
   "cell_type": "code",
   "execution_count": 52,
   "metadata": {},
   "outputs": [
    {
     "name": "stdout",
     "output_type": "stream",
     "text": [
      "In 30 years, there is a 95% chance that these stocks/bonds will be worth between $132,577.54 and $3,786,117.19\n"
     ]
    }
   ],
   "source": [
    "# Use the lower and upper `95%` confidence intervals to calculate the range of the possible outcomes for the current stock/bond portfolio\n",
    "ci_lower_thirty_cumulative_return = MC_60_40_table[8] * total_stocks_bonds\n",
    "ci_upper_thirty_cumulative_return = MC_60_40_table[9] * total_stocks_bonds\n",
    "\n",
    "# Print the result of your calculations\n",
    "print(f\"In 30 years, there is a 95% chance that these stocks/bonds will be worth between \"\n",
    "      f\"${round(ci_lower_thirty_cumulative_return, 2):,} and ${round(ci_upper_thirty_cumulative_return, 2):,}\")\n"
   ]
  },
  {
   "cell_type": "markdown",
   "metadata": {},
   "source": [
    "### Forecast Cumulative Returns in 10 Years\n",
    "\n",
    "The CTO of the credit union is impressed with your work on these planning tools but wonders if 30 years is a long time to wait until retirement. So, your next task is to adjust the retirement portfolio and run a new Monte Carlo simulation to find out if the changes will allow members to retire earlier.\n",
    "\n",
    "For this new Monte Carlo simulation, do the following: \n",
    "\n",
    "- Forecast the cumulative returns for 10 years from now. Because of the shortened investment horizon (30 years to 10 years), the portfolio needs to invest more heavily in the riskier asset&mdash;that is, stock&mdash;to help accumulate wealth for retirement. \n",
    "\n",
    "- Adjust the weights of the retirement portfolio so that the composition for the Monte Carlo simulation consists of 20% bonds and 80% stocks. \n",
    "\n",
    "- Run the simulation over 500 samples, and use the same data that the API call to Alpaca generated.\n",
    "\n",
    "- Based on the new Monte Carlo simulation, answer the following questions in your Jupyter notebook:\n",
    "\n",
    "    - Using the current value of only the stock and bond portion of the member's portfolio and the summary statistics that you generated from the new Monte Carlo simulation, what are the lower and upper bounds for the expected value of the portfolio (with the new weights) with a 95% confidence interval?\n",
    "\n",
    "    - Will weighting the portfolio more heavily toward stocks allow the credit union members to retire after only 10 years?\n"
   ]
  },
  {
   "cell_type": "code",
   "execution_count": 53,
   "metadata": {},
   "outputs": [
    {
     "data": {
      "text/html": [
       "<div>\n",
       "<style scoped>\n",
       "    .dataframe tbody tr th:only-of-type {\n",
       "        vertical-align: middle;\n",
       "    }\n",
       "\n",
       "    .dataframe tbody tr th {\n",
       "        vertical-align: top;\n",
       "    }\n",
       "\n",
       "    .dataframe thead tr th {\n",
       "        text-align: left;\n",
       "    }\n",
       "\n",
       "    .dataframe thead tr:last-of-type th {\n",
       "        text-align: right;\n",
       "    }\n",
       "</style>\n",
       "<table border=\"1\" class=\"dataframe\">\n",
       "  <thead>\n",
       "    <tr>\n",
       "      <th></th>\n",
       "      <th colspan=\"8\" halign=\"left\">SPY</th>\n",
       "      <th colspan=\"8\" halign=\"left\">AGG</th>\n",
       "    </tr>\n",
       "    <tr>\n",
       "      <th></th>\n",
       "      <th>open</th>\n",
       "      <th>high</th>\n",
       "      <th>low</th>\n",
       "      <th>close</th>\n",
       "      <th>volume</th>\n",
       "      <th>trade_count</th>\n",
       "      <th>vwap</th>\n",
       "      <th>daily_return</th>\n",
       "      <th>open</th>\n",
       "      <th>high</th>\n",
       "      <th>low</th>\n",
       "      <th>close</th>\n",
       "      <th>volume</th>\n",
       "      <th>trade_count</th>\n",
       "      <th>vwap</th>\n",
       "      <th>daily_return</th>\n",
       "    </tr>\n",
       "    <tr>\n",
       "      <th>timestamp</th>\n",
       "      <th></th>\n",
       "      <th></th>\n",
       "      <th></th>\n",
       "      <th></th>\n",
       "      <th></th>\n",
       "      <th></th>\n",
       "      <th></th>\n",
       "      <th></th>\n",
       "      <th></th>\n",
       "      <th></th>\n",
       "      <th></th>\n",
       "      <th></th>\n",
       "      <th></th>\n",
       "      <th></th>\n",
       "      <th></th>\n",
       "      <th></th>\n",
       "    </tr>\n",
       "  </thead>\n",
       "  <tbody>\n",
       "    <tr>\n",
       "      <th>2019-08-14 04:00:00+00:00</th>\n",
       "      <td>288.05</td>\n",
       "      <td>292.4644</td>\n",
       "      <td>283.7600</td>\n",
       "      <td>283.90</td>\n",
       "      <td>136293807</td>\n",
       "      <td>677326</td>\n",
       "      <td>285.776096</td>\n",
       "      <td>NaN</td>\n",
       "      <td>113.30</td>\n",
       "      <td>113.380</td>\n",
       "      <td>113.21</td>\n",
       "      <td>113.24</td>\n",
       "      <td>2832001</td>\n",
       "      <td>13903</td>\n",
       "      <td>113.298845</td>\n",
       "      <td>NaN</td>\n",
       "    </tr>\n",
       "    <tr>\n",
       "      <th>2019-08-15 04:00:00+00:00</th>\n",
       "      <td>284.89</td>\n",
       "      <td>285.6400</td>\n",
       "      <td>282.3900</td>\n",
       "      <td>284.65</td>\n",
       "      <td>102128101</td>\n",
       "      <td>533485</td>\n",
       "      <td>284.469402</td>\n",
       "      <td>0.002642</td>\n",
       "      <td>113.39</td>\n",
       "      <td>113.910</td>\n",
       "      <td>113.37</td>\n",
       "      <td>113.76</td>\n",
       "      <td>2829081</td>\n",
       "      <td>14814</td>\n",
       "      <td>113.608836</td>\n",
       "      <td>0.004592</td>\n",
       "    </tr>\n",
       "    <tr>\n",
       "      <th>2019-08-16 04:00:00+00:00</th>\n",
       "      <td>286.49</td>\n",
       "      <td>289.3300</td>\n",
       "      <td>284.7138</td>\n",
       "      <td>288.85</td>\n",
       "      <td>86075298</td>\n",
       "      <td>371928</td>\n",
       "      <td>288.239546</td>\n",
       "      <td>0.014755</td>\n",
       "      <td>113.57</td>\n",
       "      <td>113.685</td>\n",
       "      <td>113.36</td>\n",
       "      <td>113.67</td>\n",
       "      <td>5209018</td>\n",
       "      <td>19639</td>\n",
       "      <td>113.594116</td>\n",
       "      <td>-0.000791</td>\n",
       "    </tr>\n",
       "    <tr>\n",
       "      <th>2019-08-19 04:00:00+00:00</th>\n",
       "      <td>292.23</td>\n",
       "      <td>293.0800</td>\n",
       "      <td>291.4400</td>\n",
       "      <td>292.33</td>\n",
       "      <td>53733045</td>\n",
       "      <td>264347</td>\n",
       "      <td>292.275536</td>\n",
       "      <td>0.012048</td>\n",
       "      <td>113.34</td>\n",
       "      <td>113.460</td>\n",
       "      <td>113.27</td>\n",
       "      <td>113.37</td>\n",
       "      <td>2900796</td>\n",
       "      <td>13344</td>\n",
       "      <td>113.374430</td>\n",
       "      <td>-0.002639</td>\n",
       "    </tr>\n",
       "    <tr>\n",
       "      <th>2019-08-20 04:00:00+00:00</th>\n",
       "      <td>291.78</td>\n",
       "      <td>292.3600</td>\n",
       "      <td>289.9500</td>\n",
       "      <td>290.09</td>\n",
       "      <td>51652752</td>\n",
       "      <td>242268</td>\n",
       "      <td>291.000229</td>\n",
       "      <td>-0.007663</td>\n",
       "      <td>113.67</td>\n",
       "      <td>113.700</td>\n",
       "      <td>113.56</td>\n",
       "      <td>113.68</td>\n",
       "      <td>2253594</td>\n",
       "      <td>12775</td>\n",
       "      <td>113.625971</td>\n",
       "      <td>0.002734</td>\n",
       "    </tr>\n",
       "  </tbody>\n",
       "</table>\n",
       "</div>"
      ],
      "text/plain": [
       "                              SPY                                         \\\n",
       "                             open      high       low   close     volume   \n",
       "timestamp                                                                  \n",
       "2019-08-14 04:00:00+00:00  288.05  292.4644  283.7600  283.90  136293807   \n",
       "2019-08-15 04:00:00+00:00  284.89  285.6400  282.3900  284.65  102128101   \n",
       "2019-08-16 04:00:00+00:00  286.49  289.3300  284.7138  288.85   86075298   \n",
       "2019-08-19 04:00:00+00:00  292.23  293.0800  291.4400  292.33   53733045   \n",
       "2019-08-20 04:00:00+00:00  291.78  292.3600  289.9500  290.09   51652752   \n",
       "\n",
       "                                                                   AGG  \\\n",
       "                          trade_count        vwap daily_return    open   \n",
       "timestamp                                                                \n",
       "2019-08-14 04:00:00+00:00      677326  285.776096          NaN  113.30   \n",
       "2019-08-15 04:00:00+00:00      533485  284.469402     0.002642  113.39   \n",
       "2019-08-16 04:00:00+00:00      371928  288.239546     0.014755  113.57   \n",
       "2019-08-19 04:00:00+00:00      264347  292.275536     0.012048  113.34   \n",
       "2019-08-20 04:00:00+00:00      242268  291.000229    -0.007663  113.67   \n",
       "\n",
       "                                                                         \\\n",
       "                              high     low   close   volume trade_count   \n",
       "timestamp                                                                 \n",
       "2019-08-14 04:00:00+00:00  113.380  113.21  113.24  2832001       13903   \n",
       "2019-08-15 04:00:00+00:00  113.910  113.37  113.76  2829081       14814   \n",
       "2019-08-16 04:00:00+00:00  113.685  113.36  113.67  5209018       19639   \n",
       "2019-08-19 04:00:00+00:00  113.460  113.27  113.37  2900796       13344   \n",
       "2019-08-20 04:00:00+00:00  113.700  113.56  113.68  2253594       12775   \n",
       "\n",
       "                                                    \n",
       "                                 vwap daily_return  \n",
       "timestamp                                           \n",
       "2019-08-14 04:00:00+00:00  113.298845          NaN  \n",
       "2019-08-15 04:00:00+00:00  113.608836     0.004592  \n",
       "2019-08-16 04:00:00+00:00  113.594116    -0.000791  \n",
       "2019-08-19 04:00:00+00:00  113.374430    -0.002639  \n",
       "2019-08-20 04:00:00+00:00  113.625971     0.002734  "
      ]
     },
     "execution_count": 53,
     "metadata": {},
     "output_type": "execute_result"
    }
   ],
   "source": [
    "# Configure a Monte Carlo simulation to forecast 10 years cumulative returns\n",
    "# The weights should be split 20% to AGG and 80% to SPY.\n",
    "# Run 500 samples.\n",
    "MC_80_20 = MCSimulation(\n",
    "    portfolio_data = prices_df,\n",
    "    weights = [.80, .20],\n",
    "    num_simulation = 500,\n",
    "    num_trading_days = 252*10\n",
    ")\n",
    "\n",
    "# Review the simulation input data\n",
    "MC_80_20.portfolio_data.head()\n"
   ]
  },
  {
   "cell_type": "code",
   "execution_count": 54,
   "metadata": {},
   "outputs": [
    {
     "name": "stdout",
     "output_type": "stream",
     "text": [
      "Running Monte Carlo simulation number 0.\n",
      "Running Monte Carlo simulation number 10.\n",
      "Running Monte Carlo simulation number 20.\n",
      "Running Monte Carlo simulation number 30.\n",
      "Running Monte Carlo simulation number 40.\n",
      "Running Monte Carlo simulation number 50.\n",
      "Running Monte Carlo simulation number 60.\n",
      "Running Monte Carlo simulation number 70.\n",
      "Running Monte Carlo simulation number 80.\n",
      "Running Monte Carlo simulation number 90.\n",
      "Running Monte Carlo simulation number 100.\n"
     ]
    },
    {
     "name": "stderr",
     "output_type": "stream",
     "text": [
      "C:\\Users\\mmaro\\Desktop\\Projects\\financial_planner\\MCForecastTools.py:117: PerformanceWarning: DataFrame is highly fragmented.  This is usually the result of calling `frame.insert` many times, which has poor performance.  Consider joining all columns at once using pd.concat(axis=1) instead.  To get a de-fragmented frame, use `newframe = frame.copy()`\n",
      "  portfolio_cumulative_returns[n] = (1 + sim_df.fillna(0)).cumprod()\n"
     ]
    },
    {
     "name": "stdout",
     "output_type": "stream",
     "text": [
      "Running Monte Carlo simulation number 110.\n",
      "Running Monte Carlo simulation number 120.\n",
      "Running Monte Carlo simulation number 130.\n",
      "Running Monte Carlo simulation number 140.\n",
      "Running Monte Carlo simulation number 150.\n",
      "Running Monte Carlo simulation number 160.\n",
      "Running Monte Carlo simulation number 170.\n",
      "Running Monte Carlo simulation number 180.\n",
      "Running Monte Carlo simulation number 190.\n",
      "Running Monte Carlo simulation number 200.\n",
      "Running Monte Carlo simulation number 210.\n",
      "Running Monte Carlo simulation number 220.\n",
      "Running Monte Carlo simulation number 230.\n",
      "Running Monte Carlo simulation number 240.\n",
      "Running Monte Carlo simulation number 250.\n",
      "Running Monte Carlo simulation number 260.\n",
      "Running Monte Carlo simulation number 270.\n",
      "Running Monte Carlo simulation number 280.\n",
      "Running Monte Carlo simulation number 290.\n",
      "Running Monte Carlo simulation number 300.\n",
      "Running Monte Carlo simulation number 310.\n",
      "Running Monte Carlo simulation number 320.\n",
      "Running Monte Carlo simulation number 330.\n",
      "Running Monte Carlo simulation number 340.\n",
      "Running Monte Carlo simulation number 350.\n",
      "Running Monte Carlo simulation number 360.\n",
      "Running Monte Carlo simulation number 370.\n",
      "Running Monte Carlo simulation number 380.\n",
      "Running Monte Carlo simulation number 390.\n",
      "Running Monte Carlo simulation number 400.\n",
      "Running Monte Carlo simulation number 410.\n",
      "Running Monte Carlo simulation number 420.\n",
      "Running Monte Carlo simulation number 430.\n",
      "Running Monte Carlo simulation number 440.\n",
      "Running Monte Carlo simulation number 450.\n",
      "Running Monte Carlo simulation number 460.\n",
      "Running Monte Carlo simulation number 470.\n",
      "Running Monte Carlo simulation number 480.\n",
      "Running Monte Carlo simulation number 490.\n"
     ]
    },
    {
     "data": {
      "text/html": [
       "<div>\n",
       "<style scoped>\n",
       "    .dataframe tbody tr th:only-of-type {\n",
       "        vertical-align: middle;\n",
       "    }\n",
       "\n",
       "    .dataframe tbody tr th {\n",
       "        vertical-align: top;\n",
       "    }\n",
       "\n",
       "    .dataframe thead th {\n",
       "        text-align: right;\n",
       "    }\n",
       "</style>\n",
       "<table border=\"1\" class=\"dataframe\">\n",
       "  <thead>\n",
       "    <tr style=\"text-align: right;\">\n",
       "      <th></th>\n",
       "      <th>0</th>\n",
       "      <th>1</th>\n",
       "      <th>2</th>\n",
       "      <th>3</th>\n",
       "      <th>4</th>\n",
       "      <th>5</th>\n",
       "      <th>6</th>\n",
       "      <th>7</th>\n",
       "      <th>8</th>\n",
       "      <th>9</th>\n",
       "      <th>...</th>\n",
       "      <th>490</th>\n",
       "      <th>491</th>\n",
       "      <th>492</th>\n",
       "      <th>493</th>\n",
       "      <th>494</th>\n",
       "      <th>495</th>\n",
       "      <th>496</th>\n",
       "      <th>497</th>\n",
       "      <th>498</th>\n",
       "      <th>499</th>\n",
       "    </tr>\n",
       "  </thead>\n",
       "  <tbody>\n",
       "    <tr>\n",
       "      <th>0</th>\n",
       "      <td>1.000000</td>\n",
       "      <td>1.000000</td>\n",
       "      <td>1.000000</td>\n",
       "      <td>1.000000</td>\n",
       "      <td>1.000000</td>\n",
       "      <td>1.000000</td>\n",
       "      <td>1.000000</td>\n",
       "      <td>1.000000</td>\n",
       "      <td>1.000000</td>\n",
       "      <td>1.000000</td>\n",
       "      <td>...</td>\n",
       "      <td>1.000000</td>\n",
       "      <td>1.000000</td>\n",
       "      <td>1.000000</td>\n",
       "      <td>1.000000</td>\n",
       "      <td>1.000000</td>\n",
       "      <td>1.000000</td>\n",
       "      <td>1.000000</td>\n",
       "      <td>1.000000</td>\n",
       "      <td>1.000000</td>\n",
       "      <td>1.000000</td>\n",
       "    </tr>\n",
       "    <tr>\n",
       "      <th>1</th>\n",
       "      <td>1.006090</td>\n",
       "      <td>0.977305</td>\n",
       "      <td>1.009624</td>\n",
       "      <td>0.987380</td>\n",
       "      <td>0.990735</td>\n",
       "      <td>1.017926</td>\n",
       "      <td>0.958219</td>\n",
       "      <td>0.993232</td>\n",
       "      <td>0.986843</td>\n",
       "      <td>0.983160</td>\n",
       "      <td>...</td>\n",
       "      <td>1.009927</td>\n",
       "      <td>0.988124</td>\n",
       "      <td>1.007268</td>\n",
       "      <td>0.994473</td>\n",
       "      <td>0.986505</td>\n",
       "      <td>1.006278</td>\n",
       "      <td>1.000093</td>\n",
       "      <td>0.998556</td>\n",
       "      <td>0.985278</td>\n",
       "      <td>0.995885</td>\n",
       "    </tr>\n",
       "    <tr>\n",
       "      <th>2</th>\n",
       "      <td>0.986859</td>\n",
       "      <td>0.968166</td>\n",
       "      <td>1.011764</td>\n",
       "      <td>0.993146</td>\n",
       "      <td>0.983678</td>\n",
       "      <td>1.016566</td>\n",
       "      <td>0.952764</td>\n",
       "      <td>0.991550</td>\n",
       "      <td>0.982627</td>\n",
       "      <td>0.976916</td>\n",
       "      <td>...</td>\n",
       "      <td>1.014715</td>\n",
       "      <td>0.980574</td>\n",
       "      <td>1.022491</td>\n",
       "      <td>1.007824</td>\n",
       "      <td>0.996098</td>\n",
       "      <td>1.012204</td>\n",
       "      <td>1.013262</td>\n",
       "      <td>0.989165</td>\n",
       "      <td>0.990165</td>\n",
       "      <td>1.000337</td>\n",
       "    </tr>\n",
       "    <tr>\n",
       "      <th>3</th>\n",
       "      <td>0.964372</td>\n",
       "      <td>0.944358</td>\n",
       "      <td>1.006452</td>\n",
       "      <td>1.018726</td>\n",
       "      <td>0.981871</td>\n",
       "      <td>1.015656</td>\n",
       "      <td>0.958008</td>\n",
       "      <td>1.013341</td>\n",
       "      <td>0.981318</td>\n",
       "      <td>0.982359</td>\n",
       "      <td>...</td>\n",
       "      <td>1.007938</td>\n",
       "      <td>0.973504</td>\n",
       "      <td>1.016910</td>\n",
       "      <td>1.004637</td>\n",
       "      <td>1.004609</td>\n",
       "      <td>1.020360</td>\n",
       "      <td>1.003348</td>\n",
       "      <td>0.977274</td>\n",
       "      <td>0.985579</td>\n",
       "      <td>1.003248</td>\n",
       "    </tr>\n",
       "    <tr>\n",
       "      <th>4</th>\n",
       "      <td>0.954967</td>\n",
       "      <td>0.955744</td>\n",
       "      <td>1.010305</td>\n",
       "      <td>1.023365</td>\n",
       "      <td>0.981259</td>\n",
       "      <td>1.024055</td>\n",
       "      <td>0.972020</td>\n",
       "      <td>1.022594</td>\n",
       "      <td>0.966546</td>\n",
       "      <td>0.971144</td>\n",
       "      <td>...</td>\n",
       "      <td>1.023292</td>\n",
       "      <td>0.977380</td>\n",
       "      <td>1.016675</td>\n",
       "      <td>1.000864</td>\n",
       "      <td>1.010537</td>\n",
       "      <td>0.999005</td>\n",
       "      <td>1.017264</td>\n",
       "      <td>0.963384</td>\n",
       "      <td>0.977486</td>\n",
       "      <td>1.003504</td>\n",
       "    </tr>\n",
       "    <tr>\n",
       "      <th>...</th>\n",
       "      <td>...</td>\n",
       "      <td>...</td>\n",
       "      <td>...</td>\n",
       "      <td>...</td>\n",
       "      <td>...</td>\n",
       "      <td>...</td>\n",
       "      <td>...</td>\n",
       "      <td>...</td>\n",
       "      <td>...</td>\n",
       "      <td>...</td>\n",
       "      <td>...</td>\n",
       "      <td>...</td>\n",
       "      <td>...</td>\n",
       "      <td>...</td>\n",
       "      <td>...</td>\n",
       "      <td>...</td>\n",
       "      <td>...</td>\n",
       "      <td>...</td>\n",
       "      <td>...</td>\n",
       "      <td>...</td>\n",
       "      <td>...</td>\n",
       "    </tr>\n",
       "    <tr>\n",
       "      <th>2516</th>\n",
       "      <td>1.711934</td>\n",
       "      <td>5.642271</td>\n",
       "      <td>1.405308</td>\n",
       "      <td>5.801897</td>\n",
       "      <td>1.255420</td>\n",
       "      <td>4.494304</td>\n",
       "      <td>5.842257</td>\n",
       "      <td>5.811690</td>\n",
       "      <td>4.326266</td>\n",
       "      <td>2.091094</td>\n",
       "      <td>...</td>\n",
       "      <td>3.660404</td>\n",
       "      <td>1.872653</td>\n",
       "      <td>1.718021</td>\n",
       "      <td>3.040120</td>\n",
       "      <td>6.688992</td>\n",
       "      <td>2.849817</td>\n",
       "      <td>1.157725</td>\n",
       "      <td>1.341547</td>\n",
       "      <td>5.687710</td>\n",
       "      <td>4.085768</td>\n",
       "    </tr>\n",
       "    <tr>\n",
       "      <th>2517</th>\n",
       "      <td>1.726317</td>\n",
       "      <td>5.710000</td>\n",
       "      <td>1.406705</td>\n",
       "      <td>5.799358</td>\n",
       "      <td>1.252578</td>\n",
       "      <td>4.395217</td>\n",
       "      <td>5.978701</td>\n",
       "      <td>5.786727</td>\n",
       "      <td>4.335163</td>\n",
       "      <td>2.111501</td>\n",
       "      <td>...</td>\n",
       "      <td>3.689831</td>\n",
       "      <td>1.831369</td>\n",
       "      <td>1.729376</td>\n",
       "      <td>3.029178</td>\n",
       "      <td>6.687198</td>\n",
       "      <td>2.837778</td>\n",
       "      <td>1.158269</td>\n",
       "      <td>1.338796</td>\n",
       "      <td>5.729321</td>\n",
       "      <td>4.110703</td>\n",
       "    </tr>\n",
       "    <tr>\n",
       "      <th>2518</th>\n",
       "      <td>1.739386</td>\n",
       "      <td>5.725160</td>\n",
       "      <td>1.422119</td>\n",
       "      <td>5.698180</td>\n",
       "      <td>1.257912</td>\n",
       "      <td>4.430224</td>\n",
       "      <td>5.991491</td>\n",
       "      <td>5.863879</td>\n",
       "      <td>4.394715</td>\n",
       "      <td>2.105578</td>\n",
       "      <td>...</td>\n",
       "      <td>3.686212</td>\n",
       "      <td>1.813529</td>\n",
       "      <td>1.727802</td>\n",
       "      <td>2.958404</td>\n",
       "      <td>6.641770</td>\n",
       "      <td>2.852753</td>\n",
       "      <td>1.174969</td>\n",
       "      <td>1.330682</td>\n",
       "      <td>5.724160</td>\n",
       "      <td>4.072342</td>\n",
       "    </tr>\n",
       "    <tr>\n",
       "      <th>2519</th>\n",
       "      <td>1.737781</td>\n",
       "      <td>5.697828</td>\n",
       "      <td>1.436430</td>\n",
       "      <td>5.883260</td>\n",
       "      <td>1.253028</td>\n",
       "      <td>4.458272</td>\n",
       "      <td>6.081330</td>\n",
       "      <td>5.864025</td>\n",
       "      <td>4.398310</td>\n",
       "      <td>2.091749</td>\n",
       "      <td>...</td>\n",
       "      <td>3.665473</td>\n",
       "      <td>1.819437</td>\n",
       "      <td>1.672795</td>\n",
       "      <td>3.005535</td>\n",
       "      <td>6.580139</td>\n",
       "      <td>2.832687</td>\n",
       "      <td>1.180797</td>\n",
       "      <td>1.318966</td>\n",
       "      <td>5.804344</td>\n",
       "      <td>4.108404</td>\n",
       "    </tr>\n",
       "    <tr>\n",
       "      <th>2520</th>\n",
       "      <td>1.724532</td>\n",
       "      <td>5.751415</td>\n",
       "      <td>1.461435</td>\n",
       "      <td>5.780964</td>\n",
       "      <td>1.254206</td>\n",
       "      <td>4.507670</td>\n",
       "      <td>6.069996</td>\n",
       "      <td>5.854063</td>\n",
       "      <td>4.412722</td>\n",
       "      <td>2.089800</td>\n",
       "      <td>...</td>\n",
       "      <td>3.669936</td>\n",
       "      <td>1.847233</td>\n",
       "      <td>1.699878</td>\n",
       "      <td>2.980381</td>\n",
       "      <td>6.627954</td>\n",
       "      <td>2.852533</td>\n",
       "      <td>1.178547</td>\n",
       "      <td>1.314729</td>\n",
       "      <td>5.816446</td>\n",
       "      <td>4.170305</td>\n",
       "    </tr>\n",
       "  </tbody>\n",
       "</table>\n",
       "<p>2521 rows × 500 columns</p>\n",
       "</div>"
      ],
      "text/plain": [
       "           0         1         2         3         4         5         6    \\\n",
       "0     1.000000  1.000000  1.000000  1.000000  1.000000  1.000000  1.000000   \n",
       "1     1.006090  0.977305  1.009624  0.987380  0.990735  1.017926  0.958219   \n",
       "2     0.986859  0.968166  1.011764  0.993146  0.983678  1.016566  0.952764   \n",
       "3     0.964372  0.944358  1.006452  1.018726  0.981871  1.015656  0.958008   \n",
       "4     0.954967  0.955744  1.010305  1.023365  0.981259  1.024055  0.972020   \n",
       "...        ...       ...       ...       ...       ...       ...       ...   \n",
       "2516  1.711934  5.642271  1.405308  5.801897  1.255420  4.494304  5.842257   \n",
       "2517  1.726317  5.710000  1.406705  5.799358  1.252578  4.395217  5.978701   \n",
       "2518  1.739386  5.725160  1.422119  5.698180  1.257912  4.430224  5.991491   \n",
       "2519  1.737781  5.697828  1.436430  5.883260  1.253028  4.458272  6.081330   \n",
       "2520  1.724532  5.751415  1.461435  5.780964  1.254206  4.507670  6.069996   \n",
       "\n",
       "           7         8         9    ...       490       491       492  \\\n",
       "0     1.000000  1.000000  1.000000  ...  1.000000  1.000000  1.000000   \n",
       "1     0.993232  0.986843  0.983160  ...  1.009927  0.988124  1.007268   \n",
       "2     0.991550  0.982627  0.976916  ...  1.014715  0.980574  1.022491   \n",
       "3     1.013341  0.981318  0.982359  ...  1.007938  0.973504  1.016910   \n",
       "4     1.022594  0.966546  0.971144  ...  1.023292  0.977380  1.016675   \n",
       "...        ...       ...       ...  ...       ...       ...       ...   \n",
       "2516  5.811690  4.326266  2.091094  ...  3.660404  1.872653  1.718021   \n",
       "2517  5.786727  4.335163  2.111501  ...  3.689831  1.831369  1.729376   \n",
       "2518  5.863879  4.394715  2.105578  ...  3.686212  1.813529  1.727802   \n",
       "2519  5.864025  4.398310  2.091749  ...  3.665473  1.819437  1.672795   \n",
       "2520  5.854063  4.412722  2.089800  ...  3.669936  1.847233  1.699878   \n",
       "\n",
       "           493       494       495       496       497       498       499  \n",
       "0     1.000000  1.000000  1.000000  1.000000  1.000000  1.000000  1.000000  \n",
       "1     0.994473  0.986505  1.006278  1.000093  0.998556  0.985278  0.995885  \n",
       "2     1.007824  0.996098  1.012204  1.013262  0.989165  0.990165  1.000337  \n",
       "3     1.004637  1.004609  1.020360  1.003348  0.977274  0.985579  1.003248  \n",
       "4     1.000864  1.010537  0.999005  1.017264  0.963384  0.977486  1.003504  \n",
       "...        ...       ...       ...       ...       ...       ...       ...  \n",
       "2516  3.040120  6.688992  2.849817  1.157725  1.341547  5.687710  4.085768  \n",
       "2517  3.029178  6.687198  2.837778  1.158269  1.338796  5.729321  4.110703  \n",
       "2518  2.958404  6.641770  2.852753  1.174969  1.330682  5.724160  4.072342  \n",
       "2519  3.005535  6.580139  2.832687  1.180797  1.318966  5.804344  4.108404  \n",
       "2520  2.980381  6.627954  2.852533  1.178547  1.314729  5.816446  4.170305  \n",
       "\n",
       "[2521 rows x 500 columns]"
      ]
     },
     "execution_count": 54,
     "metadata": {},
     "output_type": "execute_result"
    }
   ],
   "source": [
    "# Run the Monte Carlo simulation to forecast 10 years cumulative returns\n",
    "MC_80_20.calc_cumulative_return()\n"
   ]
  },
  {
   "cell_type": "code",
   "execution_count": 55,
   "metadata": {},
   "outputs": [
    {
     "data": {
      "text/plain": [
       "<AxesSubplot:title={'center':'500 Simulations of Cumulative Portfolio Return Trajectories Over the Next 2520 Trading Days.'}>"
      ]
     },
     "execution_count": 55,
     "metadata": {},
     "output_type": "execute_result"
    },
    {
     "data": {
      "image/png": "[encoded data removed]",
      "text/plain": [
       "<Figure size 432x288 with 1 Axes>"
      ]
     },
     "metadata": {
      "needs_background": "light"
     },
     "output_type": "display_data"
    }
   ],
   "source": [
    "# Visualize the 10-year Monte Carlo simulation by creating an\n",
    "# overlay line plot\n",
    "MC_80_20.plot_simulation()\n"
   ]
  },
  {
   "cell_type": "code",
   "execution_count": 56,
   "metadata": {},
   "outputs": [
    {
     "data": {
      "text/plain": [
       "<AxesSubplot:title={'center':'Distribution of Final Cumuluative Returns Across All 500 Simulations'}, ylabel='Frequency'>"
      ]
     },
     "execution_count": 56,
     "metadata": {},
     "output_type": "execute_result"
    },
    {
     "data": {
      "image/png": "[encoded data removed]",
      "text/plain": [
       "<Figure size 432x288 with 1 Axes>"
      ]
     },
     "metadata": {
      "needs_background": "light"
     },
     "output_type": "display_data"
    }
   ],
   "source": [
    "# Visualize the probability distribution of the 10-year Monte Carlo simulation \n",
    "# by plotting a histogram\n",
    "MC_80_20.plot_distribution()\n"
   ]
  },
  {
   "cell_type": "code",
   "execution_count": 57,
   "metadata": {},
   "outputs": [
    {
     "data": {
      "text/plain": [
       "count           500.000000\n",
       "mean              3.548083\n",
       "std               2.297577\n",
       "min               0.373027\n",
       "25%               1.941380\n",
       "50%               3.036033\n",
       "75%               4.405467\n",
       "max              21.958803\n",
       "95% CI Lower      0.837192\n",
       "95% CI Upper      9.038973\n",
       "Name: 2520, dtype: float64"
      ]
     },
     "metadata": {},
     "output_type": "display_data"
    }
   ],
   "source": [
    "# Generate summary statistics from the 10-year Monte Carlo simulation results\n",
    "# Save the results as a variable\n",
    "MC_80_20_table = MC_80_20.summarize_cumulative_return()\n",
    "\n",
    "\n",
    "# Review the 10-year Monte Carlo summary statistics\n",
    "display(MC_80_20_table)"
   ]
  },
  {
   "cell_type": "markdown",
   "metadata": {
    "tags": []
   },
   "source": [
    "### Answer the following questions:"
   ]
  },
  {
   "cell_type": "markdown",
   "metadata": {},
   "source": [
    "#### Question: Using the current value of only the stock and bond portion of the member's portfolio and the summary statistics that you generated from the new Monte Carlo simulation, what are the lower and upper bounds for the expected value of the portfolio (with the new weights) with a 95% confidence interval?"
   ]
  },
  {
   "cell_type": "code",
   "execution_count": 58,
   "metadata": {},
   "outputs": [
    {
     "name": "stdout",
     "output_type": "stream",
     "text": [
      "67605.0\n"
     ]
    }
   ],
   "source": [
    "# Print the current balance of the stock and bond portion of the members portfolio\n",
    "print(total_stocks_bonds)\n"
   ]
  },
  {
   "cell_type": "code",
   "execution_count": 59,
   "metadata": {},
   "outputs": [
    {
     "name": "stdout",
     "output_type": "stream",
     "text": [
      "In 10 years, there is a 95% chance that these stocks/bonds will be worth between $56,598.39 and $611,079.77\n"
     ]
    }
   ],
   "source": [
    "# Use the lower and upper `95%` confidence intervals to calculate the range of the possible outcomes for the current stock/bond portfolio\n",
    "ci_lower_ten_cumulative_return = MC_80_20_table[8] * total_stocks_bonds\n",
    "ci_upper_ten_cumulative_return = MC_80_20_table[9] * total_stocks_bonds\n",
    "\n",
    "# Print the result of your calculations\n",
    "print(f\"In 10 years, there is a 95% chance that these stocks/bonds will be worth between \"\n",
    "      f\"${round(ci_lower_ten_cumulative_return, 2):,} and ${round(ci_upper_ten_cumulative_return, 2):,}\")\n"
   ]
  },
  {
   "cell_type": "markdown",
   "metadata": {},
   "source": [
    "#### Question: Will weighting the portfolio more heavily to stocks allow the credit union members to retire after only 10 years?"
   ]
  },
  {
   "cell_type": "raw",
   "metadata": {},
   "source": [
    "**Answer** It's unlikely.  Even at the upper confidence levels, retiring with half a million would be difficult."
   ]
  },
  {
   "cell_type": "code",
   "execution_count": null,
   "metadata": {},
   "outputs": [],
   "source": []
  }
 ],
 "metadata": {
  "kernelspec": {
   "display_name": "Python 3.9.12 ('base')",
   "language": "python",
   "name": "python3"
  },
  "language_info": {
   "codemirror_mode": {
    "name": "ipython",
    "version": 3
   },
   "file_extension": ".py",
   "mimetype": "text/x-python",
   "name": "python",
   "nbconvert_exporter": "python",
   "pygments_lexer": "ipython3",
   "version": "3.9.12"
  },
  "vscode": {
   "interpreter": {
    "hash": "4ae133f5f2a9aa00420fc66dcc61142fc552639719e8a64d22c0fee9bddacd6e"
   }
  }
 },
 "nbformat": 4,
 "nbformat_minor": 4
}
