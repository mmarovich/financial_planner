{
 "cells": [
  {
   "cell_type": "markdown",
   "metadata": {},
   "source": [
    "# Financial Planning with APIs and Simulations\n",
    "\n",
    "In this Challenge, you’ll create two financial analysis tools by using a single Jupyter notebook:\n",
    "\n",
    "Part 1: A financial planner for emergencies. The members will be able to use this tool to visualize their current savings. The members can then determine if they have enough reserves for an emergency fund.\n",
    "\n",
    "Part 2: A financial planner for retirement. This tool will forecast the performance of their retirement portfolio in 30 years. To do this, the tool will make an Alpaca API call via the Alpaca SDK to get historical price data for use in Monte Carlo simulations.\n",
    "\n",
    "You’ll use the information from the Monte Carlo simulation to answer questions about the portfolio in your Jupyter notebook.\n",
    "\n"
   ]
  },
  {
   "cell_type": "code",
   "execution_count": 60,
   "metadata": {},
   "outputs": [],
   "source": [
    "# Import the required libraries and dependencies\n",
    "import os\n",
    "import requests\n",
    "import json\n",
    "import pandas as pd\n",
    "from dotenv import load_dotenv\n",
    "import alpaca_trade_api as tradeapi\n",
    "from MCForecastTools import MCSimulation\n",
    "import datetime\n",
    "\n",
    "%matplotlib inline"
   ]
  },
  {
   "cell_type": "code",
   "execution_count": 61,
   "metadata": {},
   "outputs": [
    {
     "data": {
      "text/plain": [
       "True"
      ]
     },
     "execution_count": 61,
     "metadata": {},
     "output_type": "execute_result"
    }
   ],
   "source": [
    "# Load the environment variables from the .env file\n",
    "#by calling the load_dotenv function\n",
    "load_dotenv()"
   ]
  },
  {
   "cell_type": "markdown",
   "metadata": {},
   "source": [
    "## Part 1: Create a Financial Planner for Emergencies"
   ]
  },
  {
   "cell_type": "markdown",
   "metadata": {},
   "source": [
    "### Evaluate the Cryptocurrency Wallet by Using the Requests Library\n",
    "\n",
    "In this section, you’ll determine the current value of a member’s cryptocurrency wallet. You’ll collect the current prices for the Bitcoin and Ethereum cryptocurrencies by using the Python Requests library. For the prototype, you’ll assume that the member holds the 1.2 Bitcoins (BTC) and 5.3 Ethereum coins (ETH). To do all this, complete the following steps:\n",
    "\n",
    "1. Create a variable named `monthly_income`, and set its value to `12000`.\n",
    "\n",
    "2. Use the Requests library to get the current price (in US dollars) of Bitcoin (BTC) and Ethereum (ETH) by using the API endpoints that the starter code supplies.\n",
    "\n",
    "3. Navigate the JSON response object to access the current price of each coin, and store each in a variable.\n",
    "\n",
    "    > **Hint** Note the specific identifier for each cryptocurrency in the API JSON response. The Bitcoin identifier is `1`, and the Ethereum identifier is `1027`.\n",
    "\n",
    "4. Calculate the value, in US dollars, of the current amount of each cryptocurrency and of the entire cryptocurrency wallet.\n",
    "\n"
   ]
  },
  {
   "cell_type": "code",
   "execution_count": 62,
   "metadata": {},
   "outputs": [],
   "source": [
    "# The current number of coins for each cryptocurrency asset held in the portfolio.\n",
    "btc_coins = 1.2\n",
    "eth_coins = 5.2"
   ]
  },
  {
   "cell_type": "markdown",
   "metadata": {},
   "source": [
    "#### Step 1: Create a variable named `monthly_income`, and set its value to `12000`."
   ]
  },
  {
   "cell_type": "code",
   "execution_count": 63,
   "metadata": {},
   "outputs": [],
   "source": [
    "# The monthly amount for the member's household income\n",
    "monthly_income = 12000\n"
   ]
  },
  {
   "cell_type": "markdown",
   "metadata": {},
   "source": [
    "#### Review the endpoint URLs for the API calls to Free Crypto API in order to get the current pricing information for both BTC and ETH."
   ]
  },
  {
   "cell_type": "code",
   "execution_count": 64,
   "metadata": {},
   "outputs": [],
   "source": [
    "# The Free Crypto API Call endpoint URLs for the held cryptocurrency assets\n",
    "btc_url = \"https://api.alternative.me/v2/ticker/Bitcoin/?convert=USD\"\n",
    "eth_url = \"https://api.alternative.me/v2/ticker/Ethereum/?convert=USD\""
   ]
  },
  {
   "cell_type": "markdown",
   "metadata": {},
   "source": [
    "#### Step 2. Use the Requests library to get the current price (in US dollars) of Bitcoin (BTC) and Ethereum (ETH) by using the API endpoints that the starter code supplied."
   ]
  },
  {
   "cell_type": "code",
   "execution_count": 65,
   "metadata": {},
   "outputs": [
    {
     "name": "stdout",
     "output_type": "stream",
     "text": [
      "{\n",
      "    \"data\": {\n",
      "        \"1\": {\n",
      "            \"circulating_supply\": 19121468,\n",
      "            \"id\": 1,\n",
      "            \"last_updated\": 1660504144,\n",
      "            \"max_supply\": 21000000,\n",
      "            \"name\": \"Bitcoin\",\n",
      "            \"quotes\": {\n",
      "                \"USD\": {\n",
      "                    \"market_cap\": 464830751592,\n",
      "                    \"percent_change_1h\": 0.111282788729675,\n",
      "                    \"percent_change_24h\": -0.682524884648184,\n",
      "                    \"percent_change_7d\": 5.82179161246751,\n",
      "                    \"percentage_change_1h\": 0.111282788729675,\n",
      "                    \"percentage_change_24h\": -0.682524884648184,\n",
      "                    \"percentage_change_7d\": 5.82179161246751,\n",
      "                    \"price\": 24323.0,\n",
      "                    \"volume_24h\": 21364260495\n",
      "                }\n",
      "            },\n",
      "            \"rank\": 1,\n",
      "            \"symbol\": \"BTC\",\n",
      "            \"total_supply\": 19121468,\n",
      "            \"website_slug\": \"bitcoin\"\n",
      "        }\n",
      "    },\n",
      "    \"metadata\": {\n",
      "        \"error\": null,\n",
      "        \"num_cryptocurrencies\": 3116,\n",
      "        \"timestamp\": 1660504144\n",
      "    }\n",
      "}\n"
     ]
    }
   ],
   "source": [
    "# Using the Python requests library, make an API call to access the current price of BTC\n",
    "btc_response = requests.get(btc_url).json()\n",
    "\n",
    "# Use the json.dumps function to review the response data from the API call\n",
    "# Use the indent and sort_keys parameters to make the response object readable\n",
    "print(json.dumps(btc_response, indent=4, sort_keys=True))\n"
   ]
  },
  {
   "cell_type": "code",
   "execution_count": 66,
   "metadata": {},
   "outputs": [
    {
     "name": "stdout",
     "output_type": "stream",
     "text": [
      "{\n",
      "    \"data\": {\n",
      "        \"1027\": {\n",
      "            \"circulating_supply\": 120097008,\n",
      "            \"id\": 1027,\n",
      "            \"last_updated\": 1660504160,\n",
      "            \"max_supply\": 120097008,\n",
      "            \"name\": \"Ethereum\",\n",
      "            \"quotes\": {\n",
      "                \"USD\": {\n",
      "                    \"market_cap\": 231973732359,\n",
      "                    \"percent_change_1h\": 0.483523241186056,\n",
      "                    \"percent_change_24h\": -2.69424130427376,\n",
      "                    \"percent_change_7d\": 14.1031471250159,\n",
      "                    \"percentage_change_1h\": 0.483523241186056,\n",
      "                    \"percentage_change_24h\": -2.69424130427376,\n",
      "                    \"percentage_change_7d\": 14.1031471250159,\n",
      "                    \"price\": 1932.1,\n",
      "                    \"volume_24h\": 11631427766\n",
      "                }\n",
      "            },\n",
      "            \"rank\": 2,\n",
      "            \"symbol\": \"ETH\",\n",
      "            \"total_supply\": 120097008,\n",
      "            \"website_slug\": \"ethereum\"\n",
      "        }\n",
      "    },\n",
      "    \"metadata\": {\n",
      "        \"error\": null,\n",
      "        \"num_cryptocurrencies\": 3116,\n",
      "        \"timestamp\": 1660504160\n",
      "    }\n",
      "}\n"
     ]
    }
   ],
   "source": [
    "# Using the Python requests library, make an API call to access the current price ETH\n",
    "eth_response = requests.get(eth_url).json()\n",
    "\n",
    "# Use the json.dumps function to review the response data from the API call\n",
    "# Use the indent and sort_keys parameters to make the response object readable\n",
    "print(json.dumps(eth_response, indent=4, sort_keys=True))\n"
   ]
  },
  {
   "cell_type": "markdown",
   "metadata": {},
   "source": [
    "#### Step 3: Navigate the JSON response object to access the current price of each coin, and store each in a variable."
   ]
  },
  {
   "cell_type": "code",
   "execution_count": 67,
   "metadata": {},
   "outputs": [
    {
     "name": "stdout",
     "output_type": "stream",
     "text": [
      "24323.0\n"
     ]
    }
   ],
   "source": [
    "# Navigate the BTC response object to access the current price of BTC\n",
    "btc_price = btc_response[\"data\"][\"1\"][\"quotes\"][\"USD\"][\"price\"]\n",
    "\n",
    "# Print the current price of BTC\n",
    "print(btc_price)\n"
   ]
  },
  {
   "cell_type": "code",
   "execution_count": 68,
   "metadata": {},
   "outputs": [
    {
     "name": "stdout",
     "output_type": "stream",
     "text": [
      "1932.1\n"
     ]
    }
   ],
   "source": [
    "# Navigate the BTC response object to access the current price of ETH\n",
    "eth_price = eth_response[\"data\"][\"1027\"][\"quotes\"][\"USD\"][\"price\"]\n",
    "\n",
    "# Print the current price of ETH\n",
    "print(eth_price)\n"
   ]
  },
  {
   "cell_type": "markdown",
   "metadata": {},
   "source": [
    "### Step 4: Calculate the value, in US dollars, of the current amount of each cryptocurrency and of the entire cryptocurrency wallet."
   ]
  },
  {
   "cell_type": "code",
   "execution_count": 69,
   "metadata": {},
   "outputs": [
    {
     "name": "stdout",
     "output_type": "stream",
     "text": [
      "29187.6\n"
     ]
    }
   ],
   "source": [
    "# Compute the current value of the BTC holding \n",
    "btc_value = btc_price * btc_coins\n",
    "\n",
    "# Print current value of your holding in BTC\n",
    "print(btc_value)\n"
   ]
  },
  {
   "cell_type": "code",
   "execution_count": 70,
   "metadata": {},
   "outputs": [
    {
     "name": "stdout",
     "output_type": "stream",
     "text": [
      "10046.92\n"
     ]
    }
   ],
   "source": [
    "# Compute the current value of the ETH holding \n",
    "eth_value = eth_price * eth_coins\n",
    "\n",
    "# Print current value of your holding in ETH\n",
    "print(eth_value)\n"
   ]
  },
  {
   "cell_type": "code",
   "execution_count": 71,
   "metadata": {},
   "outputs": [
    {
     "name": "stdout",
     "output_type": "stream",
     "text": [
      "39234.52\n"
     ]
    }
   ],
   "source": [
    "# Compute the total value of the cryptocurrency wallet\n",
    "# Add the value of the BTC holding to the value of the ETH holding\n",
    "total_crypto_wallet = btc_value + eth_value\n",
    "\n",
    "# Print current cryptocurrency wallet balance\n",
    "print(total_crypto_wallet)\n"
   ]
  },
  {
   "cell_type": "markdown",
   "metadata": {},
   "source": [
    "### Evaluate the Stock and Bond Holdings by Using the Alpaca SDK\n",
    "\n",
    "In this section, you’ll determine the current value of a member’s stock and bond holdings. You’ll make an API call to Alpaca via the Alpaca SDK to get the current closing prices of the SPDR S&P 500 ETF Trust (ticker: SPY) and of the iShares Core US Aggregate Bond ETF (ticker: AGG). For the prototype, assume that the member holds 110 shares of SPY, which represents the stock portion of their portfolio, and 200 shares of AGG, which represents the bond portion. To do all this, complete the following steps:\n",
    "\n",
    "1. In the `Starter_Code` folder, create an environment file (`.env`) to store the values of your Alpaca API key and Alpaca secret key.\n",
    "\n",
    "2. Set the variables for the Alpaca API and secret keys. Using the Alpaca SDK, create the Alpaca `tradeapi.REST` object. In this object, include the parameters for the Alpaca API key, the secret key, and the version number.\n",
    "\n",
    "3. Set the following parameters for the Alpaca API call:\n",
    "\n",
    "    - `tickers`: Use the tickers for the member’s stock and bond holdings.\n",
    "\n",
    "    - `timeframe`: Use a time frame of one day.\n",
    "\n",
    "    - `start_date` and `end_date`: Use the same date for these parameters, and format them with the date of the previous weekday (or `2020-08-07`). This is because you want the one closing price for the most-recent trading day.\n",
    "\n",
    "4. Get the current closing prices for `SPY` and `AGG` by using the Alpaca `get_bars` function. Format the response as a Pandas DataFrame by including the `df` property at the end of the `get_bars` function.\n",
    "\n",
    "5. Navigating the Alpaca response DataFrame, select the `SPY` and `AGG` closing prices, and store them as variables.\n",
    "\n",
    "6. Calculate the value, in US dollars, of the current amount of shares in each of the stock and bond portions of the portfolio, and print the results.\n"
   ]
  },
  {
   "cell_type": "markdown",
   "metadata": {},
   "source": [
    "#### Review the total number of shares held in both (SPY) and (AGG)."
   ]
  },
  {
   "cell_type": "code",
   "execution_count": 72,
   "metadata": {},
   "outputs": [],
   "source": [
    "# Current amount of shares held in both the stock (SPY) and bond (AGG) portion of the portfolio.\n",
    "spy_shares = 110\n",
    "agg_shares = 200\n"
   ]
  },
  {
   "cell_type": "markdown",
   "metadata": {},
   "source": [
    "#### Step 1: In the `Starter_Code` folder, create an environment file (`.env`) to store the values of your Alpaca API key and Alpaca secret key."
   ]
  },
  {
   "cell_type": "markdown",
   "metadata": {},
   "source": [
    "#### Step 2: Set the variables for the Alpaca API and secret keys. Using the Alpaca SDK, create the Alpaca `tradeapi.REST` object. In this object, include the parameters for the Alpaca API key, the secret key, and the version number."
   ]
  },
  {
   "cell_type": "code",
   "execution_count": 73,
   "metadata": {},
   "outputs": [],
   "source": [
    "# Set the variables for the Alpaca API and secret keys\n",
    "alpaca_api_key = os.getenv(\"ALPACA_API_KEY\")\n",
    "alpaca_secret_key = os.getenv(\"ALPACA_SECRET_KEY\")\n",
    "\n",
    "# Create the Alpaca tradeapi.REST object\n",
    "alpaca = tradeapi.REST(alpaca_api_key, alpaca_secret_key, api_version=\"v2\")\n"
   ]
  },
  {
   "cell_type": "markdown",
   "metadata": {},
   "source": [
    "#### Step 3: Set the following parameters for the Alpaca API call:\n",
    "\n",
    "- `tickers`: Use the tickers for the member’s stock and bond holdings.\n",
    "\n",
    "- `timeframe`: Use a time frame of one day.\n",
    "\n",
    "- `start_date` and `end_date`: Use the same date for these parameters, and format them with the date of the previous weekday (or `2020-08-07`). This is because you want the one closing price for the most-recent trading day.\n"
   ]
  },
  {
   "cell_type": "code",
   "execution_count": 74,
   "metadata": {},
   "outputs": [],
   "source": [
    "# Set the tickers for both the bond and stock portion of the portfolio\n",
    "tickers = [\"SPY\",\"AGG\"]\n",
    "\n",
    "# Set timeframe to 1Day\n",
    "timeframe = \"1Day\"\n",
    "\n",
    "# Format current date as ISO format\n",
    "# Set both the start and end date at the date of your prior weekday \n",
    "# This will give you the closing price of the previous trading day\n",
    "# Alternatively you can use a start and end date of 2020-08-07\n",
    "start_date = pd.Timestamp(\"2022-08-12\", tz=\"America/New_York\").isoformat()\n",
    "end_date = pd.Timestamp(\"2022-08-12\", tz=\"America/New_York\").isoformat()\n"
   ]
  },
  {
   "cell_type": "markdown",
   "metadata": {},
   "source": [
    "#### Step 4: Get the current closing prices for `SPY` and `AGG` by using the Alpaca `get_bars` function. Format the response as a Pandas DataFrame by including the `df` property at the end of the `get_bars` function."
   ]
  },
  {
   "cell_type": "code",
   "execution_count": 75,
   "metadata": {},
   "outputs": [
    {
     "data": {
      "text/html": [
       "<div>\n",
       "<style scoped>\n",
       "    .dataframe tbody tr th:only-of-type {\n",
       "        vertical-align: middle;\n",
       "    }\n",
       "\n",
       "    .dataframe tbody tr th {\n",
       "        vertical-align: top;\n",
       "    }\n",
       "\n",
       "    .dataframe thead tr th {\n",
       "        text-align: left;\n",
       "    }\n",
       "\n",
       "    .dataframe thead tr:last-of-type th {\n",
       "        text-align: right;\n",
       "    }\n",
       "</style>\n",
       "<table border=\"1\" class=\"dataframe\">\n",
       "  <thead>\n",
       "    <tr>\n",
       "      <th></th>\n",
       "      <th colspan=\"7\" halign=\"left\">SPY</th>\n",
       "      <th colspan=\"7\" halign=\"left\">AGG</th>\n",
       "    </tr>\n",
       "    <tr>\n",
       "      <th></th>\n",
       "      <th>open</th>\n",
       "      <th>high</th>\n",
       "      <th>low</th>\n",
       "      <th>close</th>\n",
       "      <th>volume</th>\n",
       "      <th>trade_count</th>\n",
       "      <th>vwap</th>\n",
       "      <th>open</th>\n",
       "      <th>high</th>\n",
       "      <th>low</th>\n",
       "      <th>close</th>\n",
       "      <th>volume</th>\n",
       "      <th>trade_count</th>\n",
       "      <th>vwap</th>\n",
       "    </tr>\n",
       "    <tr>\n",
       "      <th>timestamp</th>\n",
       "      <th></th>\n",
       "      <th></th>\n",
       "      <th></th>\n",
       "      <th></th>\n",
       "      <th></th>\n",
       "      <th></th>\n",
       "      <th></th>\n",
       "      <th></th>\n",
       "      <th></th>\n",
       "      <th></th>\n",
       "      <th></th>\n",
       "      <th></th>\n",
       "      <th></th>\n",
       "      <th></th>\n",
       "    </tr>\n",
       "  </thead>\n",
       "  <tbody>\n",
       "    <tr>\n",
       "      <th>2022-08-12 04:00:00+00:00</th>\n",
       "      <td>422.1</td>\n",
       "      <td>427.21</td>\n",
       "      <td>421.03</td>\n",
       "      <td>427.1</td>\n",
       "      <td>61456095</td>\n",
       "      <td>396459</td>\n",
       "      <td>424.557629</td>\n",
       "      <td>102.97</td>\n",
       "      <td>103.12</td>\n",
       "      <td>102.72</td>\n",
       "      <td>103.12</td>\n",
       "      <td>3628312</td>\n",
       "      <td>16069</td>\n",
       "      <td>102.954114</td>\n",
       "    </tr>\n",
       "  </tbody>\n",
       "</table>\n",
       "</div>"
      ],
      "text/plain": [
       "                             SPY                                               \\\n",
       "                            open    high     low  close    volume trade_count   \n",
       "timestamp                                                                       \n",
       "2022-08-12 04:00:00+00:00  422.1  427.21  421.03  427.1  61456095      396459   \n",
       "\n",
       "                                          AGG                          \\\n",
       "                                 vwap    open    high     low   close   \n",
       "timestamp                                                               \n",
       "2022-08-12 04:00:00+00:00  424.557629  102.97  103.12  102.72  103.12   \n",
       "\n",
       "                                                            \n",
       "                            volume trade_count        vwap  \n",
       "timestamp                                                   \n",
       "2022-08-12 04:00:00+00:00  3628312       16069  102.954114  "
      ]
     },
     "execution_count": 75,
     "metadata": {},
     "output_type": "execute_result"
    }
   ],
   "source": [
    "# Use the Alpaca get_bars function to get current closing prices the portfolio\n",
    "# Be sure to set the `df` property after the function to format the response object as a DataFrame\n",
    "stock_prices_df = alpaca.get_bars(\n",
    "    tickers,\n",
    "    timeframe,\n",
    "    start = start_date,\n",
    "    end = end_date\n",
    ").df\n",
    "\n",
    "# Reorganize the DataFrame\n",
    "# Separate ticker data\n",
    "SPY = stock_prices_df[stock_prices_df['symbol']=='SPY'].drop('symbol', axis=1)\n",
    "AGG = stock_prices_df[stock_prices_df['symbol']=='AGG'].drop('symbol', axis=1)\n",
    "\n",
    "# Concatenate the ticker DataFrames\n",
    "stock_prices_df = pd.concat([SPY,AGG], axis=1, keys=[\"SPY\",\"AGG\"])\n",
    "\n",
    "# Review the first 5 rows of the Alpaca DataFrame\n",
    "stock_prices_df.head()\n"
   ]
  },
  {
   "cell_type": "markdown",
   "metadata": {},
   "source": [
    "#### Step 5: Navigating the Alpaca response DataFrame, select the `SPY` and `AGG` closing prices, and store them as variables."
   ]
  },
  {
   "cell_type": "code",
   "execution_count": 76,
   "metadata": {},
   "outputs": [
    {
     "name": "stdout",
     "output_type": "stream",
     "text": [
      "103.12\n"
     ]
    }
   ],
   "source": [
    "# Access the closing price for AGG from the Alpaca DataFrame\n",
    "# Converting the value to a floating point number\n",
    "agg_close_price = float(stock_prices_df[\"AGG\"][\"close\"])\n",
    "\n",
    "# Print the AGG closing price\n",
    "print(agg_close_price)\n"
   ]
  },
  {
   "cell_type": "code",
   "execution_count": 77,
   "metadata": {},
   "outputs": [
    {
     "name": "stdout",
     "output_type": "stream",
     "text": [
      "427.1\n"
     ]
    }
   ],
   "source": [
    "# Access the closing price for SPY from the Alpaca DataFrame\n",
    "# Converting the value to a floating point number\n",
    "spy_close_price = float(stock_prices_df[\"SPY\"][\"close\"])\n",
    "\n",
    "# Print the SPY closing price\n",
    "print(spy_close_price)\n"
   ]
  },
  {
   "cell_type": "markdown",
   "metadata": {},
   "source": [
    "#### Step 6: Calculate the value, in US dollars, of the current amount of shares in each of the stock and bond portions of the portfolio, and print the results."
   ]
  },
  {
   "cell_type": "code",
   "execution_count": 78,
   "metadata": {},
   "outputs": [
    {
     "name": "stdout",
     "output_type": "stream",
     "text": [
      "20624.0\n"
     ]
    }
   ],
   "source": [
    "# Calculate the current value of the bond portion of the portfolio\n",
    "agg_value = agg_close_price * agg_shares\n",
    "\n",
    "# Print the current value of the bond portfolio\n",
    "print(agg_value)\n"
   ]
  },
  {
   "cell_type": "code",
   "execution_count": 79,
   "metadata": {},
   "outputs": [
    {
     "name": "stdout",
     "output_type": "stream",
     "text": [
      "46981.0\n"
     ]
    }
   ],
   "source": [
    "# Calculate the current value of the stock portion of the portfolio\n",
    "spy_value = spy_close_price * spy_shares\n",
    "\n",
    "# Print the current value of the stock portfolio\n",
    "print(spy_value)\n"
   ]
  },
  {
   "cell_type": "code",
   "execution_count": 80,
   "metadata": {},
   "outputs": [
    {
     "name": "stdout",
     "output_type": "stream",
     "text": [
      "67605.0\n"
     ]
    }
   ],
   "source": [
    "# Calculate the total value of the stock and bond portion of the portfolio\n",
    "total_stocks_bonds = agg_value + spy_value\n",
    "\n",
    "# Print the current balance of the stock and bond portion of the portfolio\n",
    "print(total_stocks_bonds)\n"
   ]
  },
  {
   "cell_type": "code",
   "execution_count": 81,
   "metadata": {},
   "outputs": [
    {
     "name": "stdout",
     "output_type": "stream",
     "text": [
      "106839.51999999999\n"
     ]
    }
   ],
   "source": [
    "# Calculate the total value of the member's entire savings portfolio\n",
    "# Add the value of the cryptocurrency walled to the value of the total stocks and bonds\n",
    "total_portfolio = total_crypto_wallet + total_stocks_bonds\n",
    "\n",
    "# Print current cryptocurrency wallet balance\n",
    "print(total_portfolio)\n"
   ]
  },
  {
   "cell_type": "markdown",
   "metadata": {},
   "source": [
    "### Evaluate the Emergency Fund\n",
    "\n",
    "In this section, you’ll use the valuations for the cryptocurrency wallet and for the stock and bond portions of the portfolio to determine if the credit union member has enough savings to build an emergency fund into their financial plan. To do this, complete the following steps:\n",
    "\n",
    "1. Create a Python list named `savings_data` that has two elements. The first element contains the total value of the cryptocurrency wallet. The second element contains the total value of the stock and bond portions of the portfolio.\n",
    "\n",
    "2. Use the `savings_data` list to create a Pandas DataFrame named `savings_df`, and then display this DataFrame. The function to create the DataFrame should take the following three parameters:\n",
    "\n",
    "    - `savings_data`: Use the list that you just created.\n",
    "\n",
    "    - `columns`: Set this parameter equal to a Python list with a single value called `amount`.\n",
    "\n",
    "    - `index`: Set this parameter equal to a Python list with the values of `crypto` and `stock/bond`.\n",
    "\n",
    "3. Use the `savings_df` DataFrame to plot a pie chart that visualizes the composition of the member’s portfolio. The y-axis of the pie chart uses `amount`. Be sure to add a title.\n",
    "\n",
    "4. Using Python, determine if the current portfolio has enough to create an emergency fund as part of the member’s financial plan. Ideally, an emergency fund should equal to three times the member’s monthly income. To do this, implement the following steps:\n",
    "\n",
    "    1. Create a variable named `emergency_fund_value`, and set it equal to three times the value of the member’s `monthly_income` of $12000. (You set this earlier in Part 1).\n",
    "\n",
    "    2. Create a series of three if statements to determine if the member’s total portfolio is large enough to fund the emergency portfolio:\n",
    "\n",
    "        1. If the total portfolio value is greater than the emergency fund value, display a message congratulating the member for having enough money in this fund.\n",
    "\n",
    "        2. Else if the total portfolio value is equal to the emergency fund value, display a message congratulating the member on reaching this important financial goal.\n",
    "\n",
    "        3. Else the total portfolio is less than the emergency fund value, so display a message showing how many dollars away the member is from reaching the goal. (Subtract the total portfolio value from the emergency fund value.)\n"
   ]
  },
  {
   "cell_type": "markdown",
   "metadata": {},
   "source": [
    "#### Step 1: Create a Python list named `savings_data` that has two elements. The first element contains the total value of the cryptocurrency wallet. The second element contains the total value of the stock and bond portions of the portfolio."
   ]
  },
  {
   "cell_type": "code",
   "execution_count": 82,
   "metadata": {},
   "outputs": [
    {
     "name": "stdout",
     "output_type": "stream",
     "text": [
      "[39234.52, 67605.0]\n"
     ]
    }
   ],
   "source": [
    "# Consolidate financial assets data into a Python list\n",
    "savings_data = [total_crypto_wallet, total_stocks_bonds]\n",
    "\n",
    "# Review the Python list savings_data\n",
    "print(savings_data)\n",
    "    "
   ]
  },
  {
   "cell_type": "markdown",
   "metadata": {},
   "source": [
    "#### Step 2: Use the `savings_data` list to create a Pandas DataFrame named `savings_df`, and then display this DataFrame. The function to create the DataFrame should take the following three parameters:\n",
    "\n",
    "- `savings_data`: Use the list that you just created.\n",
    "\n",
    "- `columns`: Set this parameter equal to a Python list with a single value called `amount`.\n",
    "\n",
    "- `index`: Set this parameter equal to a Python list with the values of `crypto` and `stock/bond`.\n"
   ]
  },
  {
   "cell_type": "code",
   "execution_count": 83,
   "metadata": {},
   "outputs": [
    {
     "data": {
      "text/html": [
       "<div>\n",
       "<style scoped>\n",
       "    .dataframe tbody tr th:only-of-type {\n",
       "        vertical-align: middle;\n",
       "    }\n",
       "\n",
       "    .dataframe tbody tr th {\n",
       "        vertical-align: top;\n",
       "    }\n",
       "\n",
       "    .dataframe thead th {\n",
       "        text-align: right;\n",
       "    }\n",
       "</style>\n",
       "<table border=\"1\" class=\"dataframe\">\n",
       "  <thead>\n",
       "    <tr style=\"text-align: right;\">\n",
       "      <th></th>\n",
       "      <th>amount</th>\n",
       "    </tr>\n",
       "  </thead>\n",
       "  <tbody>\n",
       "    <tr>\n",
       "      <th>crypto</th>\n",
       "      <td>39234.52</td>\n",
       "    </tr>\n",
       "    <tr>\n",
       "      <th>stock/bond</th>\n",
       "      <td>67605.00</td>\n",
       "    </tr>\n",
       "  </tbody>\n",
       "</table>\n",
       "</div>"
      ],
      "text/plain": [
       "              amount\n",
       "crypto      39234.52\n",
       "stock/bond  67605.00"
      ]
     },
     "metadata": {},
     "output_type": "display_data"
    }
   ],
   "source": [
    "# Create a Pandas DataFrame called savings_df \n",
    "savings_df = pd.DataFrame(savings_data, index=[\"crypto\", \"stock/bond\"], columns=[\"amount\"])\n",
    "\n",
    "# Display the savings_df DataFrame\n",
    "display(savings_df.head())\n"
   ]
  },
  {
   "cell_type": "markdown",
   "metadata": {},
   "source": [
    "#### Step 3: Use the `savings_df` DataFrame to plot a pie chart that visualizes the composition of the member’s portfolio. The y-axis of the pie chart uses `amount`. Be sure to add a title."
   ]
  },
  {
   "cell_type": "code",
   "execution_count": 84,
   "metadata": {},
   "outputs": [
    {
     "data": {
      "text/plain": [
       "<AxesSubplot:title={'center':'Savings Composition - 8/12/2022'}, ylabel='amount'>"
      ]
     },
     "execution_count": 84,
     "metadata": {},
     "output_type": "execute_result"
    },
    {
     "data": {
      "image/png": "[encoded data removed]",
      "text/plain": [
       "<Figure size 432x288 with 1 Axes>"
      ]
     },
     "metadata": {},
     "output_type": "display_data"
    }
   ],
   "source": [
    "# Plot the total value of the member's portfolio (crypto and stock/bond) in a pie chart\n",
    "savings_df.plot.pie(y=\"amount\", title=\"Savings Composition - 8/12/2022\")\n"
   ]
  },
  {
   "cell_type": "markdown",
   "metadata": {},
   "source": [
    "#### Step 4: Using Python, determine if the current portfolio has enough to create an emergency fund as part of the member’s financial plan. Ideally, an emergency fund should equal to three times the member’s monthly income. To do this, implement the following steps:\n",
    "\n",
    "Step 1. Create a variable named `emergency_fund_value`, and set it equal to three times the value of the member’s `monthly_income` of 12000. (You set this earlier in Part 1).\n",
    "\n",
    "Step 2. Create a series of three if statements to determine if the member’s total portfolio is large enough to fund the emergency portfolio:\n",
    "\n",
    "* If the total portfolio value is greater than the emergency fund value, display a message congratulating the member for having enough money in this fund.\n",
    "\n",
    "* Else if the total portfolio value is equal to the emergency fund value, display a message congratulating the member on reaching this important financial goal.\n",
    "\n",
    "* Else the total portfolio is less than the emergency fund value, so display a message showing how many dollars away the member is from reaching the goal. (Subtract the total portfolio value from the emergency fund value.)\n"
   ]
  },
  {
   "cell_type": "markdown",
   "metadata": {},
   "source": [
    "##### Step 4-1: Create a variable named `emergency_fund_value`, and set it equal to three times the value of the member’s `monthly_income` of 12000. (You set this earlier in Part 1)."
   ]
  },
  {
   "cell_type": "code",
   "execution_count": 85,
   "metadata": {},
   "outputs": [],
   "source": [
    "# Create a variable named emergency_fund_value\n",
    "emergency_fund_value = monthly_income * 3\n"
   ]
  },
  {
   "cell_type": "markdown",
   "metadata": {},
   "source": [
    "##### Step 4-2: Create a series of three if statements to determine if the member’s total portfolio is large enough to fund the emergency portfolio:\n",
    "\n",
    "* If the total portfolio value is greater than the emergency fund value, display a message congratulating the member for having enough money in this fund.\n",
    "\n",
    "* Else if the total portfolio value is equal to the emergency fund value, display a message congratulating the member on reaching this important financial goal.\n",
    "\n",
    "* Else the total portfolio is less than the emergency fund value, so display a message showing how many dollars away the member is from reaching the goal. (Subtract the total portfolio value from the emergency fund value.)"
   ]
  },
  {
   "cell_type": "code",
   "execution_count": 86,
   "metadata": {},
   "outputs": [
    {
     "name": "stdout",
     "output_type": "stream",
     "text": [
      "Congratulations!  You have enough money!\n"
     ]
    }
   ],
   "source": [
    "# Evaluate the possibility of creating an emergency fund with 3 conditions:\n",
    "if total_portfolio > emergency_fund_value:\n",
    "    print(\"Congratulations!  You have enough money!\")\n",
    "elif total_portfolio == emergency_fund_value:\n",
    "    print(\"Congratulations!  You have reached your emergency fund goal!\")\n",
    "else:\n",
    "    print(f\"You only need to save ${emergency_fund_value - total_portfolio} before you reach your emergency fund goal!\")\n"
   ]
  },
  {
   "cell_type": "markdown",
   "metadata": {},
   "source": [
    "## Part 2: Create a Financial Planner for Retirement"
   ]
  },
  {
   "cell_type": "markdown",
   "metadata": {},
   "source": [
    "### Create the Monte Carlo Simulation\n",
    "\n",
    "In this section, you’ll use the MCForecastTools library to create a Monte Carlo simulation for the member’s savings portfolio. To do this, complete the following steps:\n",
    "\n",
    "1. Make an API call via the Alpaca SDK to get 3 years of historical closing prices for a traditional 60/40 portfolio split: 60% stocks (SPY) and 40% bonds (AGG).\n",
    "\n",
    "2. Run a Monte Carlo simulation of 500 samples and 30 years for the 60/40 portfolio, and then plot the results.The following image shows the overlay line plot resulting from a simulation with these characteristics. However, because a random number generator is used to run each live Monte Carlo simulation, your image will differ slightly from this exact image:\n",
    "\n",
    "![A screenshot depicts the resulting plot.](Images/5-4-monte-carlo-line-plot.png)\n",
    "\n",
    "3. Plot the probability distribution of the Monte Carlo simulation. Plot the probability distribution of the Monte Carlo simulation. The following image shows the histogram plot resulting from a simulation with these characteristics. However, because a random number generator is used to run each live Monte Carlo simulation, your image will differ slightly from this exact image:\n",
    "\n",
    "![A screenshot depicts the histogram plot.](Images/5-4-monte-carlo-histogram.png)\n",
    "\n",
    "4. Generate the summary statistics for the Monte Carlo simulation.\n",
    "\n"
   ]
  },
  {
   "cell_type": "markdown",
   "metadata": {},
   "source": [
    "#### Step 1: Make an API call via the Alpaca SDK to get 3 years of historical closing prices for a traditional 60/40 portfolio split: 60% stocks (SPY) and 40% bonds (AGG)."
   ]
  },
  {
   "cell_type": "code",
   "execution_count": 94,
   "metadata": {},
   "outputs": [
    {
     "name": "stdout",
     "output_type": "stream",
     "text": [
      "2019-08-13T15:23:49.768185-04:00\n",
      "2022-08-13T15:23:49.768185-04:00\n"
     ]
    }
   ],
   "source": [
    "# Set start and end dates of 3 years back from your current date\n",
    "# Alternatively, you can use an end date of 2020-08-07 and work 3 years back from that date\n",
    "\n",
    "now = datetime.datetime.now() - datetime.timedelta(days=1)\n",
    "three_years_ago = datetime.datetime.now() - datetime.timedelta(days=3*365 + 2)\n",
    "\n",
    "start_date = pd.Timestamp(three_years_ago, tz=\"America/New_York\").isoformat()\n",
    "end_date = pd.Timestamp(now, tz=\"America/New_York\").isoformat()\n",
    "\n",
    "print(start_date)\n",
    "print(end_date)"
   ]
  },
  {
   "cell_type": "code",
   "execution_count": 95,
   "metadata": {},
   "outputs": [
    {
     "data": {
      "text/html": [
       "<div>\n",
       "<style scoped>\n",
       "    .dataframe tbody tr th:only-of-type {\n",
       "        vertical-align: middle;\n",
       "    }\n",
       "\n",
       "    .dataframe tbody tr th {\n",
       "        vertical-align: top;\n",
       "    }\n",
       "\n",
       "    .dataframe thead tr th {\n",
       "        text-align: left;\n",
       "    }\n",
       "\n",
       "    .dataframe thead tr:last-of-type th {\n",
       "        text-align: right;\n",
       "    }\n",
       "</style>\n",
       "<table border=\"1\" class=\"dataframe\">\n",
       "  <thead>\n",
       "    <tr>\n",
       "      <th></th>\n",
       "      <th colspan=\"7\" halign=\"left\">SPY</th>\n",
       "      <th colspan=\"7\" halign=\"left\">AGG</th>\n",
       "    </tr>\n",
       "    <tr>\n",
       "      <th></th>\n",
       "      <th>open</th>\n",
       "      <th>high</th>\n",
       "      <th>low</th>\n",
       "      <th>close</th>\n",
       "      <th>volume</th>\n",
       "      <th>trade_count</th>\n",
       "      <th>vwap</th>\n",
       "      <th>open</th>\n",
       "      <th>high</th>\n",
       "      <th>low</th>\n",
       "      <th>close</th>\n",
       "      <th>volume</th>\n",
       "      <th>trade_count</th>\n",
       "      <th>vwap</th>\n",
       "    </tr>\n",
       "    <tr>\n",
       "      <th>timestamp</th>\n",
       "      <th></th>\n",
       "      <th></th>\n",
       "      <th></th>\n",
       "      <th></th>\n",
       "      <th></th>\n",
       "      <th></th>\n",
       "      <th></th>\n",
       "      <th></th>\n",
       "      <th></th>\n",
       "      <th></th>\n",
       "      <th></th>\n",
       "      <th></th>\n",
       "      <th></th>\n",
       "      <th></th>\n",
       "    </tr>\n",
       "  </thead>\n",
       "  <tbody>\n",
       "    <tr>\n",
       "      <th>2019-08-14 04:00:00+00:00</th>\n",
       "      <td>288.05</td>\n",
       "      <td>292.4644</td>\n",
       "      <td>283.7600</td>\n",
       "      <td>283.90</td>\n",
       "      <td>136293807</td>\n",
       "      <td>677326</td>\n",
       "      <td>285.776096</td>\n",
       "      <td>113.30</td>\n",
       "      <td>113.380</td>\n",
       "      <td>113.21</td>\n",
       "      <td>113.24</td>\n",
       "      <td>2832001</td>\n",
       "      <td>13903</td>\n",
       "      <td>113.298845</td>\n",
       "    </tr>\n",
       "    <tr>\n",
       "      <th>2019-08-15 04:00:00+00:00</th>\n",
       "      <td>284.89</td>\n",
       "      <td>285.6400</td>\n",
       "      <td>282.3900</td>\n",
       "      <td>284.65</td>\n",
       "      <td>102128101</td>\n",
       "      <td>533485</td>\n",
       "      <td>284.469402</td>\n",
       "      <td>113.39</td>\n",
       "      <td>113.910</td>\n",
       "      <td>113.37</td>\n",
       "      <td>113.76</td>\n",
       "      <td>2829081</td>\n",
       "      <td>14814</td>\n",
       "      <td>113.608836</td>\n",
       "    </tr>\n",
       "    <tr>\n",
       "      <th>2019-08-16 04:00:00+00:00</th>\n",
       "      <td>286.49</td>\n",
       "      <td>289.3300</td>\n",
       "      <td>284.7138</td>\n",
       "      <td>288.85</td>\n",
       "      <td>86075298</td>\n",
       "      <td>371928</td>\n",
       "      <td>288.239546</td>\n",
       "      <td>113.57</td>\n",
       "      <td>113.685</td>\n",
       "      <td>113.36</td>\n",
       "      <td>113.67</td>\n",
       "      <td>5209018</td>\n",
       "      <td>19639</td>\n",
       "      <td>113.594116</td>\n",
       "    </tr>\n",
       "    <tr>\n",
       "      <th>2019-08-19 04:00:00+00:00</th>\n",
       "      <td>292.23</td>\n",
       "      <td>293.0800</td>\n",
       "      <td>291.4400</td>\n",
       "      <td>292.33</td>\n",
       "      <td>53733045</td>\n",
       "      <td>264347</td>\n",
       "      <td>292.275536</td>\n",
       "      <td>113.34</td>\n",
       "      <td>113.460</td>\n",
       "      <td>113.27</td>\n",
       "      <td>113.37</td>\n",
       "      <td>2900796</td>\n",
       "      <td>13344</td>\n",
       "      <td>113.374430</td>\n",
       "    </tr>\n",
       "    <tr>\n",
       "      <th>2019-08-20 04:00:00+00:00</th>\n",
       "      <td>291.78</td>\n",
       "      <td>292.3600</td>\n",
       "      <td>289.9500</td>\n",
       "      <td>290.09</td>\n",
       "      <td>51652752</td>\n",
       "      <td>242268</td>\n",
       "      <td>291.000229</td>\n",
       "      <td>113.67</td>\n",
       "      <td>113.700</td>\n",
       "      <td>113.56</td>\n",
       "      <td>113.68</td>\n",
       "      <td>2253594</td>\n",
       "      <td>12775</td>\n",
       "      <td>113.625971</td>\n",
       "    </tr>\n",
       "  </tbody>\n",
       "</table>\n",
       "</div>"
      ],
      "text/plain": [
       "                              SPY                                         \\\n",
       "                             open      high       low   close     volume   \n",
       "timestamp                                                                  \n",
       "2019-08-14 04:00:00+00:00  288.05  292.4644  283.7600  283.90  136293807   \n",
       "2019-08-15 04:00:00+00:00  284.89  285.6400  282.3900  284.65  102128101   \n",
       "2019-08-16 04:00:00+00:00  286.49  289.3300  284.7138  288.85   86075298   \n",
       "2019-08-19 04:00:00+00:00  292.23  293.0800  291.4400  292.33   53733045   \n",
       "2019-08-20 04:00:00+00:00  291.78  292.3600  289.9500  290.09   51652752   \n",
       "\n",
       "                                                      AGG                   \\\n",
       "                          trade_count        vwap    open     high     low   \n",
       "timestamp                                                                    \n",
       "2019-08-14 04:00:00+00:00      677326  285.776096  113.30  113.380  113.21   \n",
       "2019-08-15 04:00:00+00:00      533485  284.469402  113.39  113.910  113.37   \n",
       "2019-08-16 04:00:00+00:00      371928  288.239546  113.57  113.685  113.36   \n",
       "2019-08-19 04:00:00+00:00      264347  292.275536  113.34  113.460  113.27   \n",
       "2019-08-20 04:00:00+00:00      242268  291.000229  113.67  113.700  113.56   \n",
       "\n",
       "                                                                    \n",
       "                            close   volume trade_count        vwap  \n",
       "timestamp                                                           \n",
       "2019-08-14 04:00:00+00:00  113.24  2832001       13903  113.298845  \n",
       "2019-08-15 04:00:00+00:00  113.76  2829081       14814  113.608836  \n",
       "2019-08-16 04:00:00+00:00  113.67  5209018       19639  113.594116  \n",
       "2019-08-19 04:00:00+00:00  113.37  2900796       13344  113.374430  \n",
       "2019-08-20 04:00:00+00:00  113.68  2253594       12775  113.625971  "
      ]
     },
     "metadata": {},
     "output_type": "display_data"
    },
    {
     "data": {
      "text/html": [
       "<div>\n",
       "<style scoped>\n",
       "    .dataframe tbody tr th:only-of-type {\n",
       "        vertical-align: middle;\n",
       "    }\n",
       "\n",
       "    .dataframe tbody tr th {\n",
       "        vertical-align: top;\n",
       "    }\n",
       "\n",
       "    .dataframe thead tr th {\n",
       "        text-align: left;\n",
       "    }\n",
       "\n",
       "    .dataframe thead tr:last-of-type th {\n",
       "        text-align: right;\n",
       "    }\n",
       "</style>\n",
       "<table border=\"1\" class=\"dataframe\">\n",
       "  <thead>\n",
       "    <tr>\n",
       "      <th></th>\n",
       "      <th colspan=\"7\" halign=\"left\">SPY</th>\n",
       "      <th colspan=\"7\" halign=\"left\">AGG</th>\n",
       "    </tr>\n",
       "    <tr>\n",
       "      <th></th>\n",
       "      <th>open</th>\n",
       "      <th>high</th>\n",
       "      <th>low</th>\n",
       "      <th>close</th>\n",
       "      <th>volume</th>\n",
       "      <th>trade_count</th>\n",
       "      <th>vwap</th>\n",
       "      <th>open</th>\n",
       "      <th>high</th>\n",
       "      <th>low</th>\n",
       "      <th>close</th>\n",
       "      <th>volume</th>\n",
       "      <th>trade_count</th>\n",
       "      <th>vwap</th>\n",
       "    </tr>\n",
       "    <tr>\n",
       "      <th>timestamp</th>\n",
       "      <th></th>\n",
       "      <th></th>\n",
       "      <th></th>\n",
       "      <th></th>\n",
       "      <th></th>\n",
       "      <th></th>\n",
       "      <th></th>\n",
       "      <th></th>\n",
       "      <th></th>\n",
       "      <th></th>\n",
       "      <th></th>\n",
       "      <th></th>\n",
       "      <th></th>\n",
       "      <th></th>\n",
       "    </tr>\n",
       "  </thead>\n",
       "  <tbody>\n",
       "    <tr>\n",
       "      <th>2022-08-08 04:00:00+00:00</th>\n",
       "      <td>415.25</td>\n",
       "      <td>417.62</td>\n",
       "      <td>411.83</td>\n",
       "      <td>412.99</td>\n",
       "      <td>53867272</td>\n",
       "      <td>421156</td>\n",
       "      <td>414.421803</td>\n",
       "      <td>103.10</td>\n",
       "      <td>103.290</td>\n",
       "      <td>103.0400</td>\n",
       "      <td>103.18</td>\n",
       "      <td>3219068</td>\n",
       "      <td>15830</td>\n",
       "      <td>103.175213</td>\n",
       "    </tr>\n",
       "    <tr>\n",
       "      <th>2022-08-09 04:00:00+00:00</th>\n",
       "      <td>412.30</td>\n",
       "      <td>412.75</td>\n",
       "      <td>410.22</td>\n",
       "      <td>411.35</td>\n",
       "      <td>44110509</td>\n",
       "      <td>366275</td>\n",
       "      <td>411.331714</td>\n",
       "      <td>102.92</td>\n",
       "      <td>103.045</td>\n",
       "      <td>102.8400</td>\n",
       "      <td>102.95</td>\n",
       "      <td>3849491</td>\n",
       "      <td>17130</td>\n",
       "      <td>102.948831</td>\n",
       "    </tr>\n",
       "    <tr>\n",
       "      <th>2022-08-10 04:00:00+00:00</th>\n",
       "      <td>418.71</td>\n",
       "      <td>420.14</td>\n",
       "      <td>416.72</td>\n",
       "      <td>419.99</td>\n",
       "      <td>68139304</td>\n",
       "      <td>473663</td>\n",
       "      <td>418.182059</td>\n",
       "      <td>103.43</td>\n",
       "      <td>103.675</td>\n",
       "      <td>103.1095</td>\n",
       "      <td>103.21</td>\n",
       "      <td>6848952</td>\n",
       "      <td>19064</td>\n",
       "      <td>103.486096</td>\n",
       "    </tr>\n",
       "    <tr>\n",
       "      <th>2022-08-11 04:00:00+00:00</th>\n",
       "      <td>423.00</td>\n",
       "      <td>424.95</td>\n",
       "      <td>419.21</td>\n",
       "      <td>419.99</td>\n",
       "      <td>59337460</td>\n",
       "      <td>443453</td>\n",
       "      <td>421.578655</td>\n",
       "      <td>103.38</td>\n",
       "      <td>103.630</td>\n",
       "      <td>102.6150</td>\n",
       "      <td>102.66</td>\n",
       "      <td>8499300</td>\n",
       "      <td>24163</td>\n",
       "      <td>103.070842</td>\n",
       "    </tr>\n",
       "    <tr>\n",
       "      <th>2022-08-12 04:00:00+00:00</th>\n",
       "      <td>422.10</td>\n",
       "      <td>427.21</td>\n",
       "      <td>421.03</td>\n",
       "      <td>427.10</td>\n",
       "      <td>61456095</td>\n",
       "      <td>396459</td>\n",
       "      <td>424.557629</td>\n",
       "      <td>102.97</td>\n",
       "      <td>103.120</td>\n",
       "      <td>102.7200</td>\n",
       "      <td>103.12</td>\n",
       "      <td>3628312</td>\n",
       "      <td>16069</td>\n",
       "      <td>102.954114</td>\n",
       "    </tr>\n",
       "  </tbody>\n",
       "</table>\n",
       "</div>"
      ],
      "text/plain": [
       "                              SPY                                    \\\n",
       "                             open    high     low   close    volume   \n",
       "timestamp                                                             \n",
       "2022-08-08 04:00:00+00:00  415.25  417.62  411.83  412.99  53867272   \n",
       "2022-08-09 04:00:00+00:00  412.30  412.75  410.22  411.35  44110509   \n",
       "2022-08-10 04:00:00+00:00  418.71  420.14  416.72  419.99  68139304   \n",
       "2022-08-11 04:00:00+00:00  423.00  424.95  419.21  419.99  59337460   \n",
       "2022-08-12 04:00:00+00:00  422.10  427.21  421.03  427.10  61456095   \n",
       "\n",
       "                                                      AGG                     \\\n",
       "                          trade_count        vwap    open     high       low   \n",
       "timestamp                                                                      \n",
       "2022-08-08 04:00:00+00:00      421156  414.421803  103.10  103.290  103.0400   \n",
       "2022-08-09 04:00:00+00:00      366275  411.331714  102.92  103.045  102.8400   \n",
       "2022-08-10 04:00:00+00:00      473663  418.182059  103.43  103.675  103.1095   \n",
       "2022-08-11 04:00:00+00:00      443453  421.578655  103.38  103.630  102.6150   \n",
       "2022-08-12 04:00:00+00:00      396459  424.557629  102.97  103.120  102.7200   \n",
       "\n",
       "                                                                    \n",
       "                            close   volume trade_count        vwap  \n",
       "timestamp                                                           \n",
       "2022-08-08 04:00:00+00:00  103.18  3219068       15830  103.175213  \n",
       "2022-08-09 04:00:00+00:00  102.95  3849491       17130  102.948831  \n",
       "2022-08-10 04:00:00+00:00  103.21  6848952       19064  103.486096  \n",
       "2022-08-11 04:00:00+00:00  102.66  8499300       24163  103.070842  \n",
       "2022-08-12 04:00:00+00:00  103.12  3628312       16069  102.954114  "
      ]
     },
     "metadata": {},
     "output_type": "display_data"
    }
   ],
   "source": [
    "# Use the Alpaca get_bars function to make the API call to get the 3 years worth of pricing data\n",
    "# The tickers and timeframe parameters should have been set in Part 1 of this activity \n",
    "# The start and end dates should be updated with the information set above\n",
    "# Remember to add the df property to the end of the call so the response is returned as a DataFrame\n",
    "prices_df = alpaca.get_bars(\n",
    "    tickers,\n",
    "    timeframe,\n",
    "    start = start_date,\n",
    "    end = end_date\n",
    ").df\n",
    "\n",
    "# Reorganize the DataFrame\n",
    "# Separate ticker data\n",
    "SPY = prices_df[prices_df['symbol']=='SPY'].drop('symbol', axis=1)\n",
    "AGG = prices_df[prices_df['symbol']=='AGG'].drop('symbol', axis=1)\n",
    "\n",
    "# Concatenate the ticker DataFrames\n",
    "prices_df = pd.concat([SPY, AGG], axis=1, keys=[\"SPY\",\"AGG\"])\n",
    "\n",
    "# Display both the first and last five rows of the DataFrame\n",
    "display(prices_df.head())\n",
    "display(prices_df.tail())\n"
   ]
  },
  {
   "cell_type": "markdown",
   "metadata": {},
   "source": [
    "#### Step 2: Run a Monte Carlo simulation of 500 samples and 30 years for the 60/40 portfolio, and then plot the results."
   ]
  },
  {
   "cell_type": "code",
   "execution_count": 96,
   "metadata": {},
   "outputs": [
    {
     "data": {
      "text/html": [
       "<div>\n",
       "<style scoped>\n",
       "    .dataframe tbody tr th:only-of-type {\n",
       "        vertical-align: middle;\n",
       "    }\n",
       "\n",
       "    .dataframe tbody tr th {\n",
       "        vertical-align: top;\n",
       "    }\n",
       "\n",
       "    .dataframe thead tr th {\n",
       "        text-align: left;\n",
       "    }\n",
       "\n",
       "    .dataframe thead tr:last-of-type th {\n",
       "        text-align: right;\n",
       "    }\n",
       "</style>\n",
       "<table border=\"1\" class=\"dataframe\">\n",
       "  <thead>\n",
       "    <tr>\n",
       "      <th></th>\n",
       "      <th colspan=\"8\" halign=\"left\">SPY</th>\n",
       "      <th colspan=\"8\" halign=\"left\">AGG</th>\n",
       "    </tr>\n",
       "    <tr>\n",
       "      <th></th>\n",
       "      <th>open</th>\n",
       "      <th>high</th>\n",
       "      <th>low</th>\n",
       "      <th>close</th>\n",
       "      <th>volume</th>\n",
       "      <th>trade_count</th>\n",
       "      <th>vwap</th>\n",
       "      <th>daily_return</th>\n",
       "      <th>open</th>\n",
       "      <th>high</th>\n",
       "      <th>low</th>\n",
       "      <th>close</th>\n",
       "      <th>volume</th>\n",
       "      <th>trade_count</th>\n",
       "      <th>vwap</th>\n",
       "      <th>daily_return</th>\n",
       "    </tr>\n",
       "    <tr>\n",
       "      <th>timestamp</th>\n",
       "      <th></th>\n",
       "      <th></th>\n",
       "      <th></th>\n",
       "      <th></th>\n",
       "      <th></th>\n",
       "      <th></th>\n",
       "      <th></th>\n",
       "      <th></th>\n",
       "      <th></th>\n",
       "      <th></th>\n",
       "      <th></th>\n",
       "      <th></th>\n",
       "      <th></th>\n",
       "      <th></th>\n",
       "      <th></th>\n",
       "      <th></th>\n",
       "    </tr>\n",
       "  </thead>\n",
       "  <tbody>\n",
       "    <tr>\n",
       "      <th>2019-08-14 04:00:00+00:00</th>\n",
       "      <td>288.05</td>\n",
       "      <td>292.4644</td>\n",
       "      <td>283.7600</td>\n",
       "      <td>283.90</td>\n",
       "      <td>136293807</td>\n",
       "      <td>677326</td>\n",
       "      <td>285.776096</td>\n",
       "      <td>NaN</td>\n",
       "      <td>113.30</td>\n",
       "      <td>113.380</td>\n",
       "      <td>113.21</td>\n",
       "      <td>113.24</td>\n",
       "      <td>2832001</td>\n",
       "      <td>13903</td>\n",
       "      <td>113.298845</td>\n",
       "      <td>NaN</td>\n",
       "    </tr>\n",
       "    <tr>\n",
       "      <th>2019-08-15 04:00:00+00:00</th>\n",
       "      <td>284.89</td>\n",
       "      <td>285.6400</td>\n",
       "      <td>282.3900</td>\n",
       "      <td>284.65</td>\n",
       "      <td>102128101</td>\n",
       "      <td>533485</td>\n",
       "      <td>284.469402</td>\n",
       "      <td>0.002642</td>\n",
       "      <td>113.39</td>\n",
       "      <td>113.910</td>\n",
       "      <td>113.37</td>\n",
       "      <td>113.76</td>\n",
       "      <td>2829081</td>\n",
       "      <td>14814</td>\n",
       "      <td>113.608836</td>\n",
       "      <td>0.004592</td>\n",
       "    </tr>\n",
       "    <tr>\n",
       "      <th>2019-08-16 04:00:00+00:00</th>\n",
       "      <td>286.49</td>\n",
       "      <td>289.3300</td>\n",
       "      <td>284.7138</td>\n",
       "      <td>288.85</td>\n",
       "      <td>86075298</td>\n",
       "      <td>371928</td>\n",
       "      <td>288.239546</td>\n",
       "      <td>0.014755</td>\n",
       "      <td>113.57</td>\n",
       "      <td>113.685</td>\n",
       "      <td>113.36</td>\n",
       "      <td>113.67</td>\n",
       "      <td>5209018</td>\n",
       "      <td>19639</td>\n",
       "      <td>113.594116</td>\n",
       "      <td>-0.000791</td>\n",
       "    </tr>\n",
       "    <tr>\n",
       "      <th>2019-08-19 04:00:00+00:00</th>\n",
       "      <td>292.23</td>\n",
       "      <td>293.0800</td>\n",
       "      <td>291.4400</td>\n",
       "      <td>292.33</td>\n",
       "      <td>53733045</td>\n",
       "      <td>264347</td>\n",
       "      <td>292.275536</td>\n",
       "      <td>0.012048</td>\n",
       "      <td>113.34</td>\n",
       "      <td>113.460</td>\n",
       "      <td>113.27</td>\n",
       "      <td>113.37</td>\n",
       "      <td>2900796</td>\n",
       "      <td>13344</td>\n",
       "      <td>113.374430</td>\n",
       "      <td>-0.002639</td>\n",
       "    </tr>\n",
       "    <tr>\n",
       "      <th>2019-08-20 04:00:00+00:00</th>\n",
       "      <td>291.78</td>\n",
       "      <td>292.3600</td>\n",
       "      <td>289.9500</td>\n",
       "      <td>290.09</td>\n",
       "      <td>51652752</td>\n",
       "      <td>242268</td>\n",
       "      <td>291.000229</td>\n",
       "      <td>-0.007663</td>\n",
       "      <td>113.67</td>\n",
       "      <td>113.700</td>\n",
       "      <td>113.56</td>\n",
       "      <td>113.68</td>\n",
       "      <td>2253594</td>\n",
       "      <td>12775</td>\n",
       "      <td>113.625971</td>\n",
       "      <td>0.002734</td>\n",
       "    </tr>\n",
       "  </tbody>\n",
       "</table>\n",
       "</div>"
      ],
      "text/plain": [
       "                              SPY                                         \\\n",
       "                             open      high       low   close     volume   \n",
       "timestamp                                                                  \n",
       "2019-08-14 04:00:00+00:00  288.05  292.4644  283.7600  283.90  136293807   \n",
       "2019-08-15 04:00:00+00:00  284.89  285.6400  282.3900  284.65  102128101   \n",
       "2019-08-16 04:00:00+00:00  286.49  289.3300  284.7138  288.85   86075298   \n",
       "2019-08-19 04:00:00+00:00  292.23  293.0800  291.4400  292.33   53733045   \n",
       "2019-08-20 04:00:00+00:00  291.78  292.3600  289.9500  290.09   51652752   \n",
       "\n",
       "                                                                   AGG  \\\n",
       "                          trade_count        vwap daily_return    open   \n",
       "timestamp                                                                \n",
       "2019-08-14 04:00:00+00:00      677326  285.776096          NaN  113.30   \n",
       "2019-08-15 04:00:00+00:00      533485  284.469402     0.002642  113.39   \n",
       "2019-08-16 04:00:00+00:00      371928  288.239546     0.014755  113.57   \n",
       "2019-08-19 04:00:00+00:00      264347  292.275536     0.012048  113.34   \n",
       "2019-08-20 04:00:00+00:00      242268  291.000229    -0.007663  113.67   \n",
       "\n",
       "                                                                         \\\n",
       "                              high     low   close   volume trade_count   \n",
       "timestamp                                                                 \n",
       "2019-08-14 04:00:00+00:00  113.380  113.21  113.24  2832001       13903   \n",
       "2019-08-15 04:00:00+00:00  113.910  113.37  113.76  2829081       14814   \n",
       "2019-08-16 04:00:00+00:00  113.685  113.36  113.67  5209018       19639   \n",
       "2019-08-19 04:00:00+00:00  113.460  113.27  113.37  2900796       13344   \n",
       "2019-08-20 04:00:00+00:00  113.700  113.56  113.68  2253594       12775   \n",
       "\n",
       "                                                    \n",
       "                                 vwap daily_return  \n",
       "timestamp                                           \n",
       "2019-08-14 04:00:00+00:00  113.298845          NaN  \n",
       "2019-08-15 04:00:00+00:00  113.608836     0.004592  \n",
       "2019-08-16 04:00:00+00:00  113.594116    -0.000791  \n",
       "2019-08-19 04:00:00+00:00  113.374430    -0.002639  \n",
       "2019-08-20 04:00:00+00:00  113.625971     0.002734  "
      ]
     },
     "execution_count": 96,
     "metadata": {},
     "output_type": "execute_result"
    }
   ],
   "source": [
    "# Configure the Monte Carlo simulation to forecast 30 years cumulative returns\n",
    "# The weights should be split 40% to AGG and 60% to SPY.\n",
    "# Run 500 samples.\n",
    "MC_60_40 = MCSimulation(\n",
    "    portfolio_data = prices_df,\n",
    "    weights = [.60, .40],\n",
    "    num_simulation = 500,\n",
    "    num_trading_days = 252*30\n",
    ")\n",
    "\n",
    "# Review the simulation input data\n",
    "MC_60_40.portfolio_data.head()\n"
   ]
  },
  {
   "cell_type": "code",
   "execution_count": 97,
   "metadata": {},
   "outputs": [
    {
     "name": "stdout",
     "output_type": "stream",
     "text": [
      "Running Monte Carlo simulation number 0.\n",
      "Running Monte Carlo simulation number 10.\n",
      "Running Monte Carlo simulation number 20.\n",
      "Running Monte Carlo simulation number 30.\n",
      "Running Monte Carlo simulation number 40.\n",
      "Running Monte Carlo simulation number 50.\n",
      "Running Monte Carlo simulation number 60.\n",
      "Running Monte Carlo simulation number 70.\n",
      "Running Monte Carlo simulation number 80.\n",
      "Running Monte Carlo simulation number 90.\n",
      "Running Monte Carlo simulation number 100.\n"
     ]
    },
    {
     "name": "stderr",
     "output_type": "stream",
     "text": [
      "C:\\Users\\mmaro\\Desktop\\Projects\\financial_planner\\MCForecastTools.py:117: PerformanceWarning: DataFrame is highly fragmented.  This is usually the result of calling `frame.insert` many times, which has poor performance.  Consider joining all columns at once using pd.concat(axis=1) instead.  To get a de-fragmented frame, use `newframe = frame.copy()`\n",
      "  portfolio_cumulative_returns[n] = (1 + sim_df.fillna(0)).cumprod()\n"
     ]
    },
    {
     "name": "stdout",
     "output_type": "stream",
     "text": [
      "Running Monte Carlo simulation number 110.\n",
      "Running Monte Carlo simulation number 120.\n",
      "Running Monte Carlo simulation number 130.\n",
      "Running Monte Carlo simulation number 140.\n",
      "Running Monte Carlo simulation number 150.\n",
      "Running Monte Carlo simulation number 160.\n",
      "Running Monte Carlo simulation number 170.\n",
      "Running Monte Carlo simulation number 180.\n",
      "Running Monte Carlo simulation number 190.\n",
      "Running Monte Carlo simulation number 200.\n",
      "Running Monte Carlo simulation number 210.\n",
      "Running Monte Carlo simulation number 220.\n",
      "Running Monte Carlo simulation number 230.\n",
      "Running Monte Carlo simulation number 240.\n",
      "Running Monte Carlo simulation number 250.\n",
      "Running Monte Carlo simulation number 260.\n",
      "Running Monte Carlo simulation number 270.\n",
      "Running Monte Carlo simulation number 280.\n",
      "Running Monte Carlo simulation number 290.\n",
      "Running Monte Carlo simulation number 300.\n",
      "Running Monte Carlo simulation number 310.\n",
      "Running Monte Carlo simulation number 320.\n",
      "Running Monte Carlo simulation number 330.\n",
      "Running Monte Carlo simulation number 340.\n",
      "Running Monte Carlo simulation number 350.\n",
      "Running Monte Carlo simulation number 360.\n",
      "Running Monte Carlo simulation number 370.\n",
      "Running Monte Carlo simulation number 380.\n",
      "Running Monte Carlo simulation number 390.\n",
      "Running Monte Carlo simulation number 400.\n",
      "Running Monte Carlo simulation number 410.\n",
      "Running Monte Carlo simulation number 420.\n",
      "Running Monte Carlo simulation number 430.\n",
      "Running Monte Carlo simulation number 440.\n",
      "Running Monte Carlo simulation number 450.\n",
      "Running Monte Carlo simulation number 460.\n",
      "Running Monte Carlo simulation number 470.\n",
      "Running Monte Carlo simulation number 480.\n",
      "Running Monte Carlo simulation number 490.\n"
     ]
    },
    {
     "data": {
      "text/html": [
       "<div>\n",
       "<style scoped>\n",
       "    .dataframe tbody tr th:only-of-type {\n",
       "        vertical-align: middle;\n",
       "    }\n",
       "\n",
       "    .dataframe tbody tr th {\n",
       "        vertical-align: top;\n",
       "    }\n",
       "\n",
       "    .dataframe thead th {\n",
       "        text-align: right;\n",
       "    }\n",
       "</style>\n",
       "<table border=\"1\" class=\"dataframe\">\n",
       "  <thead>\n",
       "    <tr style=\"text-align: right;\">\n",
       "      <th></th>\n",
       "      <th>0</th>\n",
       "      <th>1</th>\n",
       "      <th>2</th>\n",
       "      <th>3</th>\n",
       "      <th>4</th>\n",
       "      <th>5</th>\n",
       "      <th>6</th>\n",
       "      <th>7</th>\n",
       "      <th>8</th>\n",
       "      <th>9</th>\n",
       "      <th>...</th>\n",
       "      <th>490</th>\n",
       "      <th>491</th>\n",
       "      <th>492</th>\n",
       "      <th>493</th>\n",
       "      <th>494</th>\n",
       "      <th>495</th>\n",
       "      <th>496</th>\n",
       "      <th>497</th>\n",
       "      <th>498</th>\n",
       "      <th>499</th>\n",
       "    </tr>\n",
       "  </thead>\n",
       "  <tbody>\n",
       "    <tr>\n",
       "      <th>0</th>\n",
       "      <td>1.000000</td>\n",
       "      <td>1.000000</td>\n",
       "      <td>1.000000</td>\n",
       "      <td>1.000000</td>\n",
       "      <td>1.000000</td>\n",
       "      <td>1.000000</td>\n",
       "      <td>1.000000</td>\n",
       "      <td>1.000000</td>\n",
       "      <td>1.000000</td>\n",
       "      <td>1.000000</td>\n",
       "      <td>...</td>\n",
       "      <td>1.000000</td>\n",
       "      <td>1.000000</td>\n",
       "      <td>1.000000</td>\n",
       "      <td>1.000000</td>\n",
       "      <td>1.000000</td>\n",
       "      <td>1.000000</td>\n",
       "      <td>1.000000</td>\n",
       "      <td>1.000000</td>\n",
       "      <td>1.000000</td>\n",
       "      <td>1.000000</td>\n",
       "    </tr>\n",
       "    <tr>\n",
       "      <th>1</th>\n",
       "      <td>1.004833</td>\n",
       "      <td>1.003896</td>\n",
       "      <td>1.017089</td>\n",
       "      <td>0.997062</td>\n",
       "      <td>1.004932</td>\n",
       "      <td>0.998120</td>\n",
       "      <td>1.008289</td>\n",
       "      <td>0.999161</td>\n",
       "      <td>0.994364</td>\n",
       "      <td>1.007805</td>\n",
       "      <td>...</td>\n",
       "      <td>0.998517</td>\n",
       "      <td>1.001608</td>\n",
       "      <td>0.988703</td>\n",
       "      <td>0.994537</td>\n",
       "      <td>1.009754</td>\n",
       "      <td>0.997695</td>\n",
       "      <td>1.001090</td>\n",
       "      <td>0.989639</td>\n",
       "      <td>1.006415</td>\n",
       "      <td>1.015291</td>\n",
       "    </tr>\n",
       "    <tr>\n",
       "      <th>2</th>\n",
       "      <td>0.993773</td>\n",
       "      <td>0.989754</td>\n",
       "      <td>1.016191</td>\n",
       "      <td>1.002005</td>\n",
       "      <td>1.013787</td>\n",
       "      <td>0.995153</td>\n",
       "      <td>1.030267</td>\n",
       "      <td>1.006700</td>\n",
       "      <td>0.999162</td>\n",
       "      <td>1.015199</td>\n",
       "      <td>...</td>\n",
       "      <td>1.013362</td>\n",
       "      <td>0.999712</td>\n",
       "      <td>0.978600</td>\n",
       "      <td>0.993326</td>\n",
       "      <td>0.996584</td>\n",
       "      <td>1.004987</td>\n",
       "      <td>0.999302</td>\n",
       "      <td>1.000170</td>\n",
       "      <td>1.018428</td>\n",
       "      <td>1.003272</td>\n",
       "    </tr>\n",
       "    <tr>\n",
       "      <th>3</th>\n",
       "      <td>0.991280</td>\n",
       "      <td>0.996835</td>\n",
       "      <td>1.009319</td>\n",
       "      <td>1.002574</td>\n",
       "      <td>1.023313</td>\n",
       "      <td>0.985022</td>\n",
       "      <td>1.031676</td>\n",
       "      <td>1.015617</td>\n",
       "      <td>1.003879</td>\n",
       "      <td>1.014292</td>\n",
       "      <td>...</td>\n",
       "      <td>1.017645</td>\n",
       "      <td>1.014880</td>\n",
       "      <td>0.974584</td>\n",
       "      <td>0.992698</td>\n",
       "      <td>1.010335</td>\n",
       "      <td>1.013953</td>\n",
       "      <td>1.006091</td>\n",
       "      <td>0.994314</td>\n",
       "      <td>1.015208</td>\n",
       "      <td>1.002191</td>\n",
       "    </tr>\n",
       "    <tr>\n",
       "      <th>4</th>\n",
       "      <td>0.990872</td>\n",
       "      <td>1.003334</td>\n",
       "      <td>0.996247</td>\n",
       "      <td>0.988388</td>\n",
       "      <td>1.023684</td>\n",
       "      <td>0.984790</td>\n",
       "      <td>1.027709</td>\n",
       "      <td>1.020053</td>\n",
       "      <td>1.007281</td>\n",
       "      <td>1.009363</td>\n",
       "      <td>...</td>\n",
       "      <td>1.013077</td>\n",
       "      <td>1.019884</td>\n",
       "      <td>0.971559</td>\n",
       "      <td>1.000757</td>\n",
       "      <td>1.008001</td>\n",
       "      <td>1.015056</td>\n",
       "      <td>0.980820</td>\n",
       "      <td>0.995330</td>\n",
       "      <td>1.010591</td>\n",
       "      <td>0.996389</td>\n",
       "    </tr>\n",
       "    <tr>\n",
       "      <th>...</th>\n",
       "      <td>...</td>\n",
       "      <td>...</td>\n",
       "      <td>...</td>\n",
       "      <td>...</td>\n",
       "      <td>...</td>\n",
       "      <td>...</td>\n",
       "      <td>...</td>\n",
       "      <td>...</td>\n",
       "      <td>...</td>\n",
       "      <td>...</td>\n",
       "      <td>...</td>\n",
       "      <td>...</td>\n",
       "      <td>...</td>\n",
       "      <td>...</td>\n",
       "      <td>...</td>\n",
       "      <td>...</td>\n",
       "      <td>...</td>\n",
       "      <td>...</td>\n",
       "      <td>...</td>\n",
       "      <td>...</td>\n",
       "      <td>...</td>\n",
       "    </tr>\n",
       "    <tr>\n",
       "      <th>7556</th>\n",
       "      <td>2.960021</td>\n",
       "      <td>12.000799</td>\n",
       "      <td>4.684595</td>\n",
       "      <td>14.475220</td>\n",
       "      <td>6.419044</td>\n",
       "      <td>32.690500</td>\n",
       "      <td>10.237618</td>\n",
       "      <td>6.748409</td>\n",
       "      <td>8.414852</td>\n",
       "      <td>38.135386</td>\n",
       "      <td>...</td>\n",
       "      <td>2.076974</td>\n",
       "      <td>9.720132</td>\n",
       "      <td>10.715780</td>\n",
       "      <td>22.255009</td>\n",
       "      <td>6.301856</td>\n",
       "      <td>8.551376</td>\n",
       "      <td>4.425395</td>\n",
       "      <td>31.970519</td>\n",
       "      <td>8.062040</td>\n",
       "      <td>4.379669</td>\n",
       "    </tr>\n",
       "    <tr>\n",
       "      <th>7557</th>\n",
       "      <td>2.987978</td>\n",
       "      <td>11.838003</td>\n",
       "      <td>4.732612</td>\n",
       "      <td>14.694769</td>\n",
       "      <td>6.414159</td>\n",
       "      <td>32.850339</td>\n",
       "      <td>10.136008</td>\n",
       "      <td>6.599089</td>\n",
       "      <td>8.304537</td>\n",
       "      <td>38.565031</td>\n",
       "      <td>...</td>\n",
       "      <td>2.092940</td>\n",
       "      <td>9.503833</td>\n",
       "      <td>10.612375</td>\n",
       "      <td>22.296879</td>\n",
       "      <td>6.355109</td>\n",
       "      <td>8.512878</td>\n",
       "      <td>4.477539</td>\n",
       "      <td>31.836345</td>\n",
       "      <td>8.055513</td>\n",
       "      <td>4.356462</td>\n",
       "    </tr>\n",
       "    <tr>\n",
       "      <th>7558</th>\n",
       "      <td>3.017856</td>\n",
       "      <td>11.832598</td>\n",
       "      <td>4.681040</td>\n",
       "      <td>14.784595</td>\n",
       "      <td>6.480128</td>\n",
       "      <td>32.910975</td>\n",
       "      <td>10.123936</td>\n",
       "      <td>6.559795</td>\n",
       "      <td>8.215841</td>\n",
       "      <td>38.933970</td>\n",
       "      <td>...</td>\n",
       "      <td>2.099233</td>\n",
       "      <td>9.568573</td>\n",
       "      <td>10.612562</td>\n",
       "      <td>22.186843</td>\n",
       "      <td>6.371121</td>\n",
       "      <td>8.485588</td>\n",
       "      <td>4.421374</td>\n",
       "      <td>31.892531</td>\n",
       "      <td>8.005031</td>\n",
       "      <td>4.398683</td>\n",
       "    </tr>\n",
       "    <tr>\n",
       "      <th>7559</th>\n",
       "      <td>2.998987</td>\n",
       "      <td>12.024343</td>\n",
       "      <td>4.685857</td>\n",
       "      <td>14.828785</td>\n",
       "      <td>6.491411</td>\n",
       "      <td>33.127934</td>\n",
       "      <td>10.227108</td>\n",
       "      <td>6.578940</td>\n",
       "      <td>8.348055</td>\n",
       "      <td>39.008099</td>\n",
       "      <td>...</td>\n",
       "      <td>2.133788</td>\n",
       "      <td>9.620787</td>\n",
       "      <td>10.621505</td>\n",
       "      <td>22.091077</td>\n",
       "      <td>6.444594</td>\n",
       "      <td>8.461812</td>\n",
       "      <td>4.416095</td>\n",
       "      <td>31.829999</td>\n",
       "      <td>8.004000</td>\n",
       "      <td>4.382039</td>\n",
       "    </tr>\n",
       "    <tr>\n",
       "      <th>7560</th>\n",
       "      <td>2.980354</td>\n",
       "      <td>12.013030</td>\n",
       "      <td>4.726041</td>\n",
       "      <td>15.002621</td>\n",
       "      <td>6.495110</td>\n",
       "      <td>32.444651</td>\n",
       "      <td>10.311613</td>\n",
       "      <td>6.592285</td>\n",
       "      <td>8.443532</td>\n",
       "      <td>39.359179</td>\n",
       "      <td>...</td>\n",
       "      <td>2.175703</td>\n",
       "      <td>9.569548</td>\n",
       "      <td>10.632358</td>\n",
       "      <td>22.063271</td>\n",
       "      <td>6.499091</td>\n",
       "      <td>8.285548</td>\n",
       "      <td>4.390316</td>\n",
       "      <td>32.075400</td>\n",
       "      <td>7.980654</td>\n",
       "      <td>4.385973</td>\n",
       "    </tr>\n",
       "  </tbody>\n",
       "</table>\n",
       "<p>7561 rows × 500 columns</p>\n",
       "</div>"
      ],
      "text/plain": [
       "           0          1         2          3         4          5    \\\n",
       "0     1.000000   1.000000  1.000000   1.000000  1.000000   1.000000   \n",
       "1     1.004833   1.003896  1.017089   0.997062  1.004932   0.998120   \n",
       "2     0.993773   0.989754  1.016191   1.002005  1.013787   0.995153   \n",
       "3     0.991280   0.996835  1.009319   1.002574  1.023313   0.985022   \n",
       "4     0.990872   1.003334  0.996247   0.988388  1.023684   0.984790   \n",
       "...        ...        ...       ...        ...       ...        ...   \n",
       "7556  2.960021  12.000799  4.684595  14.475220  6.419044  32.690500   \n",
       "7557  2.987978  11.838003  4.732612  14.694769  6.414159  32.850339   \n",
       "7558  3.017856  11.832598  4.681040  14.784595  6.480128  32.910975   \n",
       "7559  2.998987  12.024343  4.685857  14.828785  6.491411  33.127934   \n",
       "7560  2.980354  12.013030  4.726041  15.002621  6.495110  32.444651   \n",
       "\n",
       "            6         7         8          9    ...       490       491  \\\n",
       "0      1.000000  1.000000  1.000000   1.000000  ...  1.000000  1.000000   \n",
       "1      1.008289  0.999161  0.994364   1.007805  ...  0.998517  1.001608   \n",
       "2      1.030267  1.006700  0.999162   1.015199  ...  1.013362  0.999712   \n",
       "3      1.031676  1.015617  1.003879   1.014292  ...  1.017645  1.014880   \n",
       "4      1.027709  1.020053  1.007281   1.009363  ...  1.013077  1.019884   \n",
       "...         ...       ...       ...        ...  ...       ...       ...   \n",
       "7556  10.237618  6.748409  8.414852  38.135386  ...  2.076974  9.720132   \n",
       "7557  10.136008  6.599089  8.304537  38.565031  ...  2.092940  9.503833   \n",
       "7558  10.123936  6.559795  8.215841  38.933970  ...  2.099233  9.568573   \n",
       "7559  10.227108  6.578940  8.348055  39.008099  ...  2.133788  9.620787   \n",
       "7560  10.311613  6.592285  8.443532  39.359179  ...  2.175703  9.569548   \n",
       "\n",
       "            492        493       494       495       496        497       498  \\\n",
       "0      1.000000   1.000000  1.000000  1.000000  1.000000   1.000000  1.000000   \n",
       "1      0.988703   0.994537  1.009754  0.997695  1.001090   0.989639  1.006415   \n",
       "2      0.978600   0.993326  0.996584  1.004987  0.999302   1.000170  1.018428   \n",
       "3      0.974584   0.992698  1.010335  1.013953  1.006091   0.994314  1.015208   \n",
       "4      0.971559   1.000757  1.008001  1.015056  0.980820   0.995330  1.010591   \n",
       "...         ...        ...       ...       ...       ...        ...       ...   \n",
       "7556  10.715780  22.255009  6.301856  8.551376  4.425395  31.970519  8.062040   \n",
       "7557  10.612375  22.296879  6.355109  8.512878  4.477539  31.836345  8.055513   \n",
       "7558  10.612562  22.186843  6.371121  8.485588  4.421374  31.892531  8.005031   \n",
       "7559  10.621505  22.091077  6.444594  8.461812  4.416095  31.829999  8.004000   \n",
       "7560  10.632358  22.063271  6.499091  8.285548  4.390316  32.075400  7.980654   \n",
       "\n",
       "           499  \n",
       "0     1.000000  \n",
       "1     1.015291  \n",
       "2     1.003272  \n",
       "3     1.002191  \n",
       "4     0.996389  \n",
       "...        ...  \n",
       "7556  4.379669  \n",
       "7557  4.356462  \n",
       "7558  4.398683  \n",
       "7559  4.382039  \n",
       "7560  4.385973  \n",
       "\n",
       "[7561 rows x 500 columns]"
      ]
     },
     "execution_count": 97,
     "metadata": {},
     "output_type": "execute_result"
    }
   ],
   "source": [
    "# Run the Monte Carlo simulation to forecast 30 years cumulative returns\n",
    "MC_60_40.calc_cumulative_return()\n"
   ]
  },
  {
   "cell_type": "code",
   "execution_count": 98,
   "metadata": {},
   "outputs": [
    {
     "data": {
      "text/plain": [
       "<AxesSubplot:title={'center':'500 Simulations of Cumulative Portfolio Return Trajectories Over the Next 7560 Trading Days.'}>"
      ]
     },
     "execution_count": 98,
     "metadata": {},
     "output_type": "execute_result"
    },
    {
     "data": {
      "image/png": "[encoded data removed]",
      "text/plain": [
       "<Figure size 432x288 with 1 Axes>"
      ]
     },
     "metadata": {
      "needs_background": "light"
     },
     "output_type": "display_data"
    }
   ],
   "source": [
    "# Visualize the 30-year Monte Carlo simulation by creating an\n",
    "# overlay line plot\n",
    "MC_60_40.plot_simulation()\n"
   ]
  },
  {
   "cell_type": "markdown",
   "metadata": {},
   "source": [
    "#### Step 3: Plot the probability distribution of the Monte Carlo simulation."
   ]
  },
  {
   "cell_type": "code",
   "execution_count": 99,
   "metadata": {},
   "outputs": [
    {
     "data": {
      "text/plain": [
       "<AxesSubplot:title={'center':'Distribution of Final Cumuluative Returns Across All 500 Simulations'}, ylabel='Frequency'>"
      ]
     },
     "execution_count": 99,
     "metadata": {},
     "output_type": "execute_result"
    },
    {
     "data": {
      "image/png": "[encoded data removed]",
      "text/plain": [
       "<Figure size 432x288 with 1 Axes>"
      ]
     },
     "metadata": {
      "needs_background": "light"
     },
     "output_type": "display_data"
    }
   ],
   "source": [
    "# Visualize the probability distribution of the 30-year Monte Carlo simulation \n",
    "# by plotting a histogram\n",
    "MC_60_40.plot_distribution()\n"
   ]
  },
  {
   "cell_type": "markdown",
   "metadata": {},
   "source": [
    "#### Step 4: Generate the summary statistics for the Monte Carlo simulation."
   ]
  },
  {
   "cell_type": "code",
   "execution_count": 100,
   "metadata": {},
   "outputs": [
    {
     "name": "stdout",
     "output_type": "stream",
     "text": [
      "count           500.000000\n",
      "mean             13.533807\n",
      "std              11.706209\n",
      "min               1.224546\n",
      "25%               5.723573\n",
      "50%               9.555945\n",
      "75%              17.750866\n",
      "max              73.925128\n",
      "95% CI Lower      1.983769\n",
      "95% CI Upper     45.362674\n",
      "Name: 7560, dtype: float64\n"
     ]
    }
   ],
   "source": [
    "# Generate summary statistics from the 30-year Monte Carlo simulation results\n",
    "# Save the results as a variable\n",
    "MC_60_40_table = MC_60_40.summarize_cumulative_return()\n",
    "\n",
    "\n",
    "# Review the 30-year Monte Carlo summary statistics\n",
    "print(MC_60_40_table)"
   ]
  },
  {
   "cell_type": "markdown",
   "metadata": {},
   "source": [
    "### Analyze the Retirement Portfolio Forecasts\n",
    "\n",
    "Using the current value of only the stock and bond portion of the member's portfolio and the summary statistics that you generated from the Monte Carlo simulation, answer the following question in your Jupyter notebook:\n",
    "\n",
    "-  What are the lower and upper bounds for the expected value of the portfolio with a 95% confidence interval?\n"
   ]
  },
  {
   "cell_type": "code",
   "execution_count": 103,
   "metadata": {},
   "outputs": [
    {
     "name": "stdout",
     "output_type": "stream",
     "text": [
      "67605.0\n"
     ]
    }
   ],
   "source": [
    "# Print the current balance of the stock and bond portion of the members portfolio\n",
    "print(total_stocks_bonds)\n"
   ]
  },
  {
   "cell_type": "code",
   "execution_count": 107,
   "metadata": {},
   "outputs": [
    {
     "name": "stdout",
     "output_type": "stream",
     "text": [
      "In 30 years, there is a 95% chance that these stocks/bonds will be worth between $134,112.68 and $3,066,743.57\n"
     ]
    }
   ],
   "source": [
    "# Use the lower and upper `95%` confidence intervals to calculate the range of the possible outcomes for the current stock/bond portfolio\n",
    "ci_lower_thirty_cumulative_return = MC_60_40_table[8] * total_stocks_bonds\n",
    "ci_upper_thirty_cumulative_return = MC_60_40_table[9] * total_stocks_bonds\n",
    "\n",
    "# Print the result of your calculations\n",
    "print(f\"In 30 years, there is a 95% chance that these stocks/bonds will be worth between \"\n",
    "      f\"${round(ci_lower_thirty_cumulative_return, 2):,} and ${round(ci_upper_thirty_cumulative_return, 2):,}\")\n"
   ]
  },
  {
   "cell_type": "markdown",
   "metadata": {},
   "source": [
    "### Forecast Cumulative Returns in 10 Years\n",
    "\n",
    "The CTO of the credit union is impressed with your work on these planning tools but wonders if 30 years is a long time to wait until retirement. So, your next task is to adjust the retirement portfolio and run a new Monte Carlo simulation to find out if the changes will allow members to retire earlier.\n",
    "\n",
    "For this new Monte Carlo simulation, do the following: \n",
    "\n",
    "- Forecast the cumulative returns for 10 years from now. Because of the shortened investment horizon (30 years to 10 years), the portfolio needs to invest more heavily in the riskier asset&mdash;that is, stock&mdash;to help accumulate wealth for retirement. \n",
    "\n",
    "- Adjust the weights of the retirement portfolio so that the composition for the Monte Carlo simulation consists of 20% bonds and 80% stocks. \n",
    "\n",
    "- Run the simulation over 500 samples, and use the same data that the API call to Alpaca generated.\n",
    "\n",
    "- Based on the new Monte Carlo simulation, answer the following questions in your Jupyter notebook:\n",
    "\n",
    "    - Using the current value of only the stock and bond portion of the member's portfolio and the summary statistics that you generated from the new Monte Carlo simulation, what are the lower and upper bounds for the expected value of the portfolio (with the new weights) with a 95% confidence interval?\n",
    "\n",
    "    - Will weighting the portfolio more heavily toward stocks allow the credit union members to retire after only 10 years?\n"
   ]
  },
  {
   "cell_type": "code",
   "execution_count": null,
   "metadata": {},
   "outputs": [],
   "source": [
    "# Configure a Monte Carlo simulation to forecast 10 years cumulative returns\n",
    "# The weights should be split 20% to AGG and 80% to SPY.\n",
    "# Run 500 samples.\n",
    "# YOUR CODE HERE\n",
    "\n",
    "# Review the simulation input data\n",
    "# YOUR CODE HERE\n"
   ]
  },
  {
   "cell_type": "code",
   "execution_count": null,
   "metadata": {},
   "outputs": [],
   "source": [
    "# Run the Monte Carlo simulation to forecast 10 years cumulative returns\n",
    "# YOUR CODE HERE\n"
   ]
  },
  {
   "cell_type": "code",
   "execution_count": null,
   "metadata": {},
   "outputs": [],
   "source": [
    "# Visualize the 10-year Monte Carlo simulation by creating an\n",
    "# overlay line plot\n",
    "# YOUR CODE HERE\n"
   ]
  },
  {
   "cell_type": "code",
   "execution_count": null,
   "metadata": {},
   "outputs": [],
   "source": [
    "# Visualize the probability distribution of the 10-year Monte Carlo simulation \n",
    "# by plotting a histogram\n",
    "# YOUR CODE HERE\n"
   ]
  },
  {
   "cell_type": "code",
   "execution_count": null,
   "metadata": {},
   "outputs": [],
   "source": [
    "# Generate summary statistics from the 10-year Monte Carlo simulation results\n",
    "# Save the results as a variable\n",
    "# YOUR CODE HERE\n",
    "\n",
    "\n",
    "# Review the 10-year Monte Carlo summary statistics\n",
    "# YOUR CODE HERE"
   ]
  },
  {
   "cell_type": "markdown",
   "metadata": {},
   "source": [
    "### Answer the following questions:"
   ]
  },
  {
   "cell_type": "markdown",
   "metadata": {},
   "source": [
    "#### Question: Using the current value of only the stock and bond portion of the member's portfolio and the summary statistics that you generated from the new Monte Carlo simulation, what are the lower and upper bounds for the expected value of the portfolio (with the new weights) with a 95% confidence interval?"
   ]
  },
  {
   "cell_type": "code",
   "execution_count": null,
   "metadata": {},
   "outputs": [],
   "source": [
    "# Print the current balance of the stock and bond portion of the members portfolio\n",
    "# YOUR CODE HERE\n"
   ]
  },
  {
   "cell_type": "code",
   "execution_count": null,
   "metadata": {},
   "outputs": [],
   "source": [
    "# Use the lower and upper `95%` confidence intervals to calculate the range of the possible outcomes for the current stock/bond portfolio\n",
    "ci_lower_ten_cumulative_return = # YOUR CODE HERE\n",
    "ci_upper_ten_cumulative_return = # YOUR CODE HERE\n",
    "\n",
    "# Print the result of your calculations\n",
    "# YOUR CODE HERE\n"
   ]
  },
  {
   "cell_type": "markdown",
   "metadata": {},
   "source": [
    "#### Question: Will weighting the portfolio more heavily to stocks allow the credit union members to retire after only 10 years?"
   ]
  },
  {
   "cell_type": "raw",
   "metadata": {},
   "source": [
    "**Answer** # YOUR ANSWER HERE"
   ]
  },
  {
   "cell_type": "code",
   "execution_count": null,
   "metadata": {},
   "outputs": [],
   "source": []
  }
 ],
 "metadata": {
  "kernelspec": {
   "display_name": "Python 3 (ipykernel)",
   "language": "python",
   "name": "python3"
  },
  "language_info": {
   "codemirror_mode": {
    "name": "ipython",
    "version": 3
   },
   "file_extension": ".py",
   "mimetype": "text/x-python",
   "name": "python",
   "nbconvert_exporter": "python",
   "pygments_lexer": "ipython3",
   "version": "3.7.13"
  }
 },
 "nbformat": 4,
 "nbformat_minor": 4
}
